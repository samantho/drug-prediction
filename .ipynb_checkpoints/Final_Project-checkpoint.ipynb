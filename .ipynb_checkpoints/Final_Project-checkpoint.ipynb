{
 "cells": [
  {
   "cell_type": "markdown",
   "id": "65c59ea3-b837-4669-b53d-dfe7138bb8fa",
   "metadata": {},
   "source": [
    "# Drug Consumption Final Project"
   ]
  },
  {
   "cell_type": "markdown",
   "id": "698091cb-bea1-4806-96db-4ad01cf015e4",
   "metadata": {},
   "source": [
    "This notebook is used to clean all of the data and do some exploratory data analysis. It also compiles each of the models generated to provide a solution to our research question. Finally, all the solutions are compared and a final best solution to the problem is chosen and discussed."
   ]
  },
  {
   "cell_type": "markdown",
   "id": "4844389f-275b-4495-aaf7-0f40420cf88f",
   "metadata": {},
   "source": [
    "## Step 1: Import and Clean the Data"
   ]
  },
  {
   "cell_type": "markdown",
   "id": "769117d3-18c4-4609-bacf-553fcfccc7cf",
   "metadata": {
    "tags": []
   },
   "source": [
    "## Step 2: Models"
   ]
  },
  {
   "cell_type": "markdown",
   "id": "7c6ead03-672e-49a6-8520-8d7e2de98664",
   "metadata": {},
   "source": [
    "### Tarini"
   ]
  },
  {
   "cell_type": "markdown",
   "id": "d31dfc40-4d7a-43aa-81e7-5da6b5811b20",
   "metadata": {},
   "source": [
    "### Priya"
   ]
  },
  {
   "cell_type": "markdown",
   "id": "2ea26d2a-e38d-4939-9457-b1272c8b597c",
   "metadata": {},
   "source": [
    "### Zach"
   ]
  },
  {
   "cell_type": "markdown",
   "id": "1e82194f-a7ae-4d8a-946b-00a6d190786f",
   "metadata": {},
   "source": [
    "### Sam"
   ]
  },
  {
   "cell_type": "markdown",
   "id": "0e7bb731-35f4-4000-8189-9d847b0d0558",
   "metadata": {},
   "source": [
    "## Step 3: Discussion of Solutions"
   ]
  },
  {
   "cell_type": "markdown",
   "id": "79ad5d96-7573-460b-b7b3-699edf3c8d07",
   "metadata": {},
   "source": [
    "## Step 4: Best Solution"
   ]
  },
  {
   "cell_type": "markdown",
   "id": "d695766c-a598-4106-a014-710156155370",
   "metadata": {},
   "source": [
    "## Step 5: Conclusion"
   ]
  }
 ],
 "metadata": {
  "kernelspec": {
   "display_name": "Python 3 (ipykernel)",
   "language": "python",
   "name": "python3"
  },
  "language_info": {
   "codemirror_mode": {
    "name": "ipython",
    "version": 3
   },
   "file_extension": ".py",
   "mimetype": "text/x-python",
   "name": "python",
   "nbconvert_exporter": "python",
   "pygments_lexer": "ipython3",
   "version": "3.8.3"
  }
 },
 "nbformat": 4,
 "nbformat_minor": 5
}
