{
 "cells": [
  {
   "cell_type": "code",
   "execution_count": null,
   "id": "f65415c4-1ae3-4e5e-857c-4d121f6d0d26",
   "metadata": {},
   "outputs": [],
   "source": []
  }
 ],
 "metadata": {
  "kernelspec": {
   "display_name": "Python 3 (ipykernel)",
   "language": "python",
   "name": "python3"
  },
  "language_info": {
   "name": ""
  }
 },
 "nbformat": 4,
 "nbformat_minor": 5
}
