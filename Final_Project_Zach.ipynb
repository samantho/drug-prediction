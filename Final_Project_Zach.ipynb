{
 "cells": [
  {
   "cell_type": "markdown",
   "id": "26ca052f",
   "metadata": {},
   "source": [
    "# Neural Network Method\n",
    "by Zack Hudgins"
   ]
  },
  {
   "cell_type": "code",
   "execution_count": 1,
   "id": "25ee3b2a-a664-4d5a-b8ca-c937bc9dd24d",
   "metadata": {},
   "outputs": [],
   "source": [
    "import numpy as np\n",
    "import pandas as pd"
   ]
  },
  {
   "cell_type": "markdown",
   "id": "4fd0ade5",
   "metadata": {},
   "source": [
    "Preparing the dataset for training. "
   ]
  },
  {
   "cell_type": "code",
   "execution_count": 2,
   "id": "d83a3d7b",
   "metadata": {
    "scrolled": true
   },
   "outputs": [],
   "source": [
    "# Import Dataset\n",
    "data_og = pd.read_csv('http://archive.ics.uci.edu/ml/machine-learning-databases/00373/drug_consumption.data', sep=\",\", names=['Age','Gender','Education','Country','Ethnicity','Nscore','Escore','Oscore','Ascore','Cscore','Impulsive','SS','Alcohol','Amphet','Amyl','Benzos','Caff','Cannabis','Choc','Coke','Crack','Ecstasy','Heroin','Ketamine','Legalh','LSD','Meth','Mushrooms','Nicotine','Semer','VSA'])\n",
    "data_og.head()\n",
    "\n",
    "data = pd.read_csv('drugs.csv')"
   ]
  },
  {
   "cell_type": "code",
   "execution_count": 3,
   "id": "66a0ecba",
   "metadata": {},
   "outputs": [
    {
     "name": "stderr",
     "output_type": "stream",
     "text": [
      "C:\\Users\\Zack\\AppData\\Local\\Temp/ipykernel_11904/3832084421.py:3: FutureWarning: In a future version of pandas all arguments of DataFrame.drop except for the argument 'labels' will be keyword-only\n",
      "  d = d.drop('Semer', 1)\n",
      "C:\\Users\\Zack\\AppData\\Local\\Temp/ipykernel_11904/3832084421.py:5: FutureWarning: In a future version of pandas all arguments of DataFrame.drop except for the argument 'labels' will be keyword-only\n",
      "  d = d.drop(['Cannabis'], 1)\n"
     ]
    }
   ],
   "source": [
    "d = data_og\n",
    "d.drop(d[d['Semer'] != 'CL0'].index, inplace = True)\n",
    "d = d.drop('Semer', 1)\n",
    "cannabis = d['Cannabis']\n",
    "d = d.drop(['Cannabis'], 1)"
   ]
  },
  {
   "cell_type": "markdown",
   "id": "300fa47c",
   "metadata": {},
   "source": [
    "\n",
    "Applying one-hot encoding for input data. The first model will utilize all of the provided data from the dataset in order to predict the recency of cannabis use, split into 7 classes, making this a multiclass classifier."
   ]
  },
  {
   "cell_type": "code",
   "execution_count": 4,
   "id": "88a0efc4",
   "metadata": {},
   "outputs": [],
   "source": [
    "\n",
    "drug_labels = ['Alcohol','Amphet','Amyl','Benzos','Caff','Choc','Coke','Crack','Ecstasy','Heroin','Ketamine','Legalh','LSD','Meth','Mushrooms','Nicotine','VSA']\n",
    "personality_labels = ['Nscore','Escore','Oscore','Ascore','Cscore','Impulsive','SS']\n",
    "demographic_labels = ['Age','Gender','Education','Country','Ethnicity']\n",
    "sch_labels = ['Sch1','Sch2','Sch3','Sch4','SchNA']\n",
    "for drug in drug_labels:\n",
    "    # not a user = 0, user = 1\n",
    "    d[drug] = np.where(d[drug] == 'CL0', 0, 1)\n",
    "    \n",
    "    \n",
    "x = d\n",
    "\n",
    "#for p in personality_labels:\n",
    "    #x[p] = x[p].astype('category').cat.codes.to_numpy()\n",
    "x = pd.get_dummies(x, columns=(personality_labels))\n",
    "    \n",
    "#for d in demographic_labels:\n",
    "#    x[d] = x[d].astype('category').cat.codes.to_numpy()\n",
    "x = pd.get_dummies(x, columns=(demographic_labels))"
   ]
  },
  {
   "cell_type": "markdown",
   "id": "635ecd4a",
   "metadata": {},
   "source": [
    "\n",
    "Applying one-hot encoding of classes (CL0 - CL6) for target output."
   ]
  },
  {
   "cell_type": "code",
   "execution_count": 5,
   "id": "f5b71a42",
   "metadata": {},
   "outputs": [],
   "source": [
    "targets = cannabis.astype('category').cat.codes.to_numpy()\n",
    "y = np.zeros((7,len(targets)))\n",
    "for m in range(len(targets)):\n",
    "    y[targets[m], m] = 1\n",
    "\n",
    "\n",
    "y = y.T"
   ]
  },
  {
   "cell_type": "markdown",
   "id": "3968486f",
   "metadata": {},
   "source": [
    "Split data into train, test, and validation."
   ]
  },
  {
   "cell_type": "code",
   "execution_count": 6,
   "id": "86fb9fc6",
   "metadata": {
    "scrolled": true
   },
   "outputs": [
    {
     "name": "stdout",
     "output_type": "stream",
     "text": [
      "(1501, 277) (188, 277) (188, 277)\n",
      "(1501, 7) (188, 7) (188, 7)\n"
     ]
    }
   ],
   "source": [
    "from sklearn.model_selection import train_test_split\n",
    "\n",
    "X_train, X_test, y_train, y_test = train_test_split(x, y, test_size=0.2)\n",
    "X_test, X_val, y_test, y_val = train_test_split(X_test, y_test, test_size=0.5)\n",
    "\n",
    "print(X_train.shape, X_test.shape, X_val.shape)\n",
    "print(y_train.shape, y_test.shape, y_val.shape)"
   ]
  },
  {
   "cell_type": "markdown",
   "id": "598158fe",
   "metadata": {},
   "source": [
    "Creating and training the model, using a semi-arbitrary choice of 1 hidden layer of 12 nodes."
   ]
  },
  {
   "cell_type": "code",
   "execution_count": 7,
   "id": "9e0f6754",
   "metadata": {},
   "outputs": [
    {
     "name": "stdout",
     "output_type": "stream",
     "text": [
      "277 input nodes,  7 output nodes\n"
     ]
    },
    {
     "name": "stderr",
     "output_type": "stream",
     "text": [
      "C:\\Users\\Zack\\anaconda3\\lib\\site-packages\\sklearn\\neural_network\\_multilayer_perceptron.py:614: ConvergenceWarning: Stochastic Optimizer: Maximum iterations (500) reached and the optimization hasn't converged yet.\n",
      "  warnings.warn(\n"
     ]
    },
    {
     "data": {
      "text/plain": [
       "MLPClassifier(hidden_layer_sizes=(12,), max_iter=500, random_state=1,\n",
       "              solver='sgd')"
      ]
     },
     "execution_count": 7,
     "metadata": {},
     "output_type": "execute_result"
    }
   ],
   "source": [
    "from sklearn.neural_network import MLPClassifier\n",
    "\n",
    "print(X_train.shape[1], 'input nodes, ', y_train.shape[1], 'output nodes')\n",
    "clf = MLPClassifier(solver='sgd', activation='relu',\n",
    "                    hidden_layer_sizes=(12,), random_state=1, max_iter = 500)\n",
    "clf.fit(X_train, y_train)"
   ]
  },
  {
   "cell_type": "markdown",
   "id": "c6354df1",
   "metadata": {},
   "source": [
    "Using .score results in 27.1% accuracy. However, this is a  multi-class classifier, so some of its predictions have multiple output neurons active and some have none. Using argmax of each probability prediction is a better indicator for our output with only a single class, which brings the accuracy up to 46.3%."
   ]
  },
  {
   "cell_type": "code",
   "execution_count": 8,
   "id": "e2e5a03d",
   "metadata": {},
   "outputs": [
    {
     "name": "stdout",
     "output_type": "stream",
     "text": [
      "Accuracy:  0.2712765957446808\n"
     ]
    }
   ],
   "source": [
    "from sklearn.metrics import accuracy_score, confusion_matrix\n",
    "\n",
    "accuracy = clf.score(X_test, y_test)\n",
    "print(\"Accuracy: \",accuracy) \n"
   ]
  },
  {
   "cell_type": "code",
   "execution_count": 9,
   "id": "2a2de937",
   "metadata": {
    "scrolled": true
   },
   "outputs": [
    {
     "name": "stdout",
     "output_type": "stream",
     "text": [
      "Confusion Matrix: \n",
      " [[33  2  2  0  0  0  1]\n",
      " [10  3  4  0  0  0  4]\n",
      " [11  4  7  0  0  0 16]\n",
      " [ 0  0  3  0  0  0 13]\n",
      " [ 1  0  0  0  0  0  6]\n",
      " [ 2  0  0  0  0  0 16]\n",
      " [ 2  2  2  0  0  0 44]]\n",
      "\n",
      "Accuracy:  0.4627659574468085\n"
     ]
    }
   ],
   "source": [
    "probs = clf.predict_log_proba(X_test)\n",
    "\n",
    "y_test_am = y_test.argmax(axis=1)\n",
    "probs_am = probs.argmax(axis=1)\n",
    "print(\"Confusion Matrix: \\n\", confusion_matrix(y_test_am, probs_am))\n",
    "\n",
    "correct = 0\n",
    "for i in range(len(y_test_am)):\n",
    "    if y_test_am[i] == probs_am[i]:\n",
    "        correct += 1\n",
    "print(\"\\nAccuracy: \", correct/probs.shape[0])\n"
   ]
  },
  {
   "cell_type": "markdown",
   "id": "d1a74da6",
   "metadata": {},
   "source": [
    "---------------\n",
    "<b>Multiclass #1</b>\n",
    "\n",
    "The following tests are run to determine accuracies of various hidden layer and number of node setups for this same classifier (above), as a sort of coarse tuning of hyper-paramters to determine the best choice for this model.\n",
    "\n",
    "Thus, by choosing the best-performing hidden layer structure, the model was able to predict the correct classification with  <b>50.5% accuracy on the testing dataset</b>."
   ]
  },
  {
   "cell_type": "code",
   "execution_count": 10,
   "id": "81bcd7d3",
   "metadata": {},
   "outputs": [
    {
     "name": "stderr",
     "output_type": "stream",
     "text": [
      "C:\\Users\\Zack\\anaconda3\\lib\\site-packages\\sklearn\\neural_network\\_multilayer_perceptron.py:614: ConvergenceWarning: Stochastic Optimizer: Maximum iterations (500) reached and the optimization hasn't converged yet.\n",
      "  warnings.warn(\n",
      "C:\\Users\\Zack\\anaconda3\\lib\\site-packages\\sklearn\\neural_network\\_multilayer_perceptron.py:614: ConvergenceWarning: Stochastic Optimizer: Maximum iterations (500) reached and the optimization hasn't converged yet.\n",
      "  warnings.warn(\n",
      "C:\\Users\\Zack\\anaconda3\\lib\\site-packages\\sklearn\\neural_network\\_multilayer_perceptron.py:614: ConvergenceWarning: Stochastic Optimizer: Maximum iterations (500) reached and the optimization hasn't converged yet.\n",
      "  warnings.warn(\n",
      "C:\\Users\\Zack\\anaconda3\\lib\\site-packages\\sklearn\\neural_network\\_multilayer_perceptron.py:614: ConvergenceWarning: Stochastic Optimizer: Maximum iterations (500) reached and the optimization hasn't converged yet.\n",
      "  warnings.warn(\n",
      "C:\\Users\\Zack\\anaconda3\\lib\\site-packages\\sklearn\\neural_network\\_multilayer_perceptron.py:614: ConvergenceWarning: Stochastic Optimizer: Maximum iterations (500) reached and the optimization hasn't converged yet.\n",
      "  warnings.warn(\n",
      "C:\\Users\\Zack\\anaconda3\\lib\\site-packages\\sklearn\\neural_network\\_multilayer_perceptron.py:614: ConvergenceWarning: Stochastic Optimizer: Maximum iterations (500) reached and the optimization hasn't converged yet.\n",
      "  warnings.warn(\n"
     ]
    },
    {
     "name": "stdout",
     "output_type": "stream",
     "text": [
      "1 Hidden Layer\n",
      "\n",
      "Accuracies: [0.0, 0.16489361702127658, 0.25, 0.2553191489361702, 0.2553191489361702, 0.25, 0.24468085106382978]\n",
      "\n",
      "Accuracies with argmax applied: [0.28191489361702127, 0.48936170212765956, 0.4787234042553192, 0.4787234042553192, 0.48936170212765956, 0.4787234042553192, 0.48404255319148937]\n"
     ]
    },
    {
     "name": "stderr",
     "output_type": "stream",
     "text": [
      "C:\\Users\\Zack\\anaconda3\\lib\\site-packages\\sklearn\\neural_network\\_multilayer_perceptron.py:614: ConvergenceWarning: Stochastic Optimizer: Maximum iterations (500) reached and the optimization hasn't converged yet.\n",
      "  warnings.warn(\n",
      "C:\\Users\\Zack\\anaconda3\\lib\\site-packages\\sklearn\\neural_network\\_multilayer_perceptron.py:614: ConvergenceWarning: Stochastic Optimizer: Maximum iterations (500) reached and the optimization hasn't converged yet.\n",
      "  warnings.warn(\n",
      "C:\\Users\\Zack\\anaconda3\\lib\\site-packages\\sklearn\\neural_network\\_multilayer_perceptron.py:614: ConvergenceWarning: Stochastic Optimizer: Maximum iterations (500) reached and the optimization hasn't converged yet.\n",
      "  warnings.warn(\n",
      "C:\\Users\\Zack\\anaconda3\\lib\\site-packages\\sklearn\\neural_network\\_multilayer_perceptron.py:614: ConvergenceWarning: Stochastic Optimizer: Maximum iterations (500) reached and the optimization hasn't converged yet.\n",
      "  warnings.warn(\n",
      "C:\\Users\\Zack\\anaconda3\\lib\\site-packages\\sklearn\\neural_network\\_multilayer_perceptron.py:614: ConvergenceWarning: Stochastic Optimizer: Maximum iterations (500) reached and the optimization hasn't converged yet.\n",
      "  warnings.warn(\n",
      "C:\\Users\\Zack\\anaconda3\\lib\\site-packages\\sklearn\\neural_network\\_multilayer_perceptron.py:614: ConvergenceWarning: Stochastic Optimizer: Maximum iterations (500) reached and the optimization hasn't converged yet.\n",
      "  warnings.warn(\n",
      "C:\\Users\\Zack\\anaconda3\\lib\\site-packages\\sklearn\\neural_network\\_multilayer_perceptron.py:614: ConvergenceWarning: Stochastic Optimizer: Maximum iterations (500) reached and the optimization hasn't converged yet.\n",
      "  warnings.warn(\n",
      "C:\\Users\\Zack\\anaconda3\\lib\\site-packages\\sklearn\\neural_network\\_multilayer_perceptron.py:614: ConvergenceWarning: Stochastic Optimizer: Maximum iterations (500) reached and the optimization hasn't converged yet.\n",
      "  warnings.warn(\n",
      "C:\\Users\\Zack\\anaconda3\\lib\\site-packages\\sklearn\\neural_network\\_multilayer_perceptron.py:614: ConvergenceWarning: Stochastic Optimizer: Maximum iterations (500) reached and the optimization hasn't converged yet.\n",
      "  warnings.warn(\n",
      "C:\\Users\\Zack\\anaconda3\\lib\\site-packages\\sklearn\\neural_network\\_multilayer_perceptron.py:614: ConvergenceWarning: Stochastic Optimizer: Maximum iterations (500) reached and the optimization hasn't converged yet.\n",
      "  warnings.warn(\n",
      "C:\\Users\\Zack\\anaconda3\\lib\\site-packages\\sklearn\\neural_network\\_multilayer_perceptron.py:614: ConvergenceWarning: Stochastic Optimizer: Maximum iterations (500) reached and the optimization hasn't converged yet.\n",
      "  warnings.warn(\n",
      "C:\\Users\\Zack\\anaconda3\\lib\\site-packages\\sklearn\\neural_network\\_multilayer_perceptron.py:614: ConvergenceWarning: Stochastic Optimizer: Maximum iterations (500) reached and the optimization hasn't converged yet.\n",
      "  warnings.warn(\n",
      "C:\\Users\\Zack\\anaconda3\\lib\\site-packages\\sklearn\\neural_network\\_multilayer_perceptron.py:614: ConvergenceWarning: Stochastic Optimizer: Maximum iterations (500) reached and the optimization hasn't converged yet.\n",
      "  warnings.warn(\n",
      "C:\\Users\\Zack\\anaconda3\\lib\\site-packages\\sklearn\\neural_network\\_multilayer_perceptron.py:614: ConvergenceWarning: Stochastic Optimizer: Maximum iterations (500) reached and the optimization hasn't converged yet.\n",
      "  warnings.warn(\n",
      "C:\\Users\\Zack\\anaconda3\\lib\\site-packages\\sklearn\\neural_network\\_multilayer_perceptron.py:614: ConvergenceWarning: Stochastic Optimizer: Maximum iterations (500) reached and the optimization hasn't converged yet.\n",
      "  warnings.warn(\n",
      "C:\\Users\\Zack\\anaconda3\\lib\\site-packages\\sklearn\\neural_network\\_multilayer_perceptron.py:614: ConvergenceWarning: Stochastic Optimizer: Maximum iterations (500) reached and the optimization hasn't converged yet.\n",
      "  warnings.warn(\n",
      "C:\\Users\\Zack\\anaconda3\\lib\\site-packages\\sklearn\\neural_network\\_multilayer_perceptron.py:614: ConvergenceWarning: Stochastic Optimizer: Maximum iterations (500) reached and the optimization hasn't converged yet.\n",
      "  warnings.warn(\n",
      "C:\\Users\\Zack\\anaconda3\\lib\\site-packages\\sklearn\\neural_network\\_multilayer_perceptron.py:614: ConvergenceWarning: Stochastic Optimizer: Maximum iterations (500) reached and the optimization hasn't converged yet.\n",
      "  warnings.warn(\n",
      "C:\\Users\\Zack\\anaconda3\\lib\\site-packages\\sklearn\\neural_network\\_multilayer_perceptron.py:614: ConvergenceWarning: Stochastic Optimizer: Maximum iterations (500) reached and the optimization hasn't converged yet.\n",
      "  warnings.warn(\n",
      "C:\\Users\\Zack\\anaconda3\\lib\\site-packages\\sklearn\\neural_network\\_multilayer_perceptron.py:614: ConvergenceWarning: Stochastic Optimizer: Maximum iterations (500) reached and the optimization hasn't converged yet.\n",
      "  warnings.warn(\n",
      "C:\\Users\\Zack\\anaconda3\\lib\\site-packages\\sklearn\\neural_network\\_multilayer_perceptron.py:614: ConvergenceWarning: Stochastic Optimizer: Maximum iterations (500) reached and the optimization hasn't converged yet.\n",
      "  warnings.warn(\n",
      "C:\\Users\\Zack\\anaconda3\\lib\\site-packages\\sklearn\\neural_network\\_multilayer_perceptron.py:614: ConvergenceWarning: Stochastic Optimizer: Maximum iterations (500) reached and the optimization hasn't converged yet.\n",
      "  warnings.warn(\n",
      "C:\\Users\\Zack\\anaconda3\\lib\\site-packages\\sklearn\\neural_network\\_multilayer_perceptron.py:614: ConvergenceWarning: Stochastic Optimizer: Maximum iterations (500) reached and the optimization hasn't converged yet.\n",
      "  warnings.warn(\n",
      "C:\\Users\\Zack\\anaconda3\\lib\\site-packages\\sklearn\\neural_network\\_multilayer_perceptron.py:614: ConvergenceWarning: Stochastic Optimizer: Maximum iterations (500) reached and the optimization hasn't converged yet.\n",
      "  warnings.warn(\n",
      "C:\\Users\\Zack\\anaconda3\\lib\\site-packages\\sklearn\\neural_network\\_multilayer_perceptron.py:614: ConvergenceWarning: Stochastic Optimizer: Maximum iterations (500) reached and the optimization hasn't converged yet.\n",
      "  warnings.warn(\n",
      "C:\\Users\\Zack\\anaconda3\\lib\\site-packages\\sklearn\\neural_network\\_multilayer_perceptron.py:614: ConvergenceWarning: Stochastic Optimizer: Maximum iterations (500) reached and the optimization hasn't converged yet.\n",
      "  warnings.warn(\n",
      "C:\\Users\\Zack\\anaconda3\\lib\\site-packages\\sklearn\\neural_network\\_multilayer_perceptron.py:614: ConvergenceWarning: Stochastic Optimizer: Maximum iterations (500) reached and the optimization hasn't converged yet.\n",
      "  warnings.warn(\n",
      "C:\\Users\\Zack\\anaconda3\\lib\\site-packages\\sklearn\\neural_network\\_multilayer_perceptron.py:614: ConvergenceWarning: Stochastic Optimizer: Maximum iterations (500) reached and the optimization hasn't converged yet.\n",
      "  warnings.warn(\n",
      "C:\\Users\\Zack\\anaconda3\\lib\\site-packages\\sklearn\\neural_network\\_multilayer_perceptron.py:614: ConvergenceWarning: Stochastic Optimizer: Maximum iterations (500) reached and the optimization hasn't converged yet.\n",
      "  warnings.warn(\n",
      "C:\\Users\\Zack\\anaconda3\\lib\\site-packages\\sklearn\\neural_network\\_multilayer_perceptron.py:614: ConvergenceWarning: Stochastic Optimizer: Maximum iterations (500) reached and the optimization hasn't converged yet.\n",
      "  warnings.warn(\n",
      "C:\\Users\\Zack\\anaconda3\\lib\\site-packages\\sklearn\\neural_network\\_multilayer_perceptron.py:614: ConvergenceWarning: Stochastic Optimizer: Maximum iterations (500) reached and the optimization hasn't converged yet.\n",
      "  warnings.warn(\n",
      "C:\\Users\\Zack\\anaconda3\\lib\\site-packages\\sklearn\\neural_network\\_multilayer_perceptron.py:614: ConvergenceWarning: Stochastic Optimizer: Maximum iterations (500) reached and the optimization hasn't converged yet.\n",
      "  warnings.warn(\n",
      "C:\\Users\\Zack\\anaconda3\\lib\\site-packages\\sklearn\\neural_network\\_multilayer_perceptron.py:614: ConvergenceWarning: Stochastic Optimizer: Maximum iterations (500) reached and the optimization hasn't converged yet.\n",
      "  warnings.warn(\n",
      "C:\\Users\\Zack\\anaconda3\\lib\\site-packages\\sklearn\\neural_network\\_multilayer_perceptron.py:614: ConvergenceWarning: Stochastic Optimizer: Maximum iterations (500) reached and the optimization hasn't converged yet.\n",
      "  warnings.warn(\n",
      "C:\\Users\\Zack\\anaconda3\\lib\\site-packages\\sklearn\\neural_network\\_multilayer_perceptron.py:614: ConvergenceWarning: Stochastic Optimizer: Maximum iterations (500) reached and the optimization hasn't converged yet.\n",
      "  warnings.warn(\n",
      "C:\\Users\\Zack\\anaconda3\\lib\\site-packages\\sklearn\\neural_network\\_multilayer_perceptron.py:614: ConvergenceWarning: Stochastic Optimizer: Maximum iterations (500) reached and the optimization hasn't converged yet.\n",
      "  warnings.warn(\n"
     ]
    },
    {
     "name": "stdout",
     "output_type": "stream",
     "text": [
      "\n",
      "\n",
      "2 Hidden Layers\n",
      "\n",
      "Accuracies: [[0.         0.18085106 0.15425532 0.15425532 0.16489362 0.15425532\n",
      "  0.        ]\n",
      " [0.         0.         0.         0.         0.2712766  0.2712766\n",
      "  0.26595745]\n",
      " [0.         0.         0.09574468 0.25531915 0.25       0.24468085\n",
      "  0.28191489]\n",
      " [0.         0.27659574 0.         0.25       0.25       0.30319149\n",
      "  0.24468085]\n",
      " [0.         0.17021277 0.24468085 0.2606383  0.31914894 0.26595745\n",
      "  0.27659574]\n",
      " [0.17553191 0.25531915 0.20744681 0.2287234  0.27659574 0.2712766\n",
      "  0.25      ]\n",
      " [0.         0.         0.25       0.28723404 0.25531915 0.25\n",
      "  0.23404255]]\n",
      "\n",
      "Accuracies with argmax applied: [[0.28191489 0.4893617  0.48404255 0.4787234  0.47340426 0.4787234\n",
      "  0.28191489]\n",
      " [0.42021277 0.28191489 0.27659574 0.28191489 0.46808511 0.46276596\n",
      "  0.46808511]\n",
      " [0.28191489 0.28191489 0.48404255 0.44680851 0.46276596 0.4787234\n",
      "  0.45212766]\n",
      " [0.28191489 0.48404255 0.28191489 0.45744681 0.46808511 0.49468085\n",
      "  0.4893617 ]\n",
      " [0.28191489 0.48404255 0.46276596 0.4787234  0.50531915 0.46808511\n",
      "  0.49468085]\n",
      " [0.46808511 0.45744681 0.4893617  0.4787234  0.4893617  0.43617021\n",
      "  0.45744681]\n",
      " [0.28191489 0.28191489 0.45744681 0.48404255 0.46808511 0.46276596\n",
      "  0.44680851]]\n"
     ]
    },
    {
     "name": "stderr",
     "output_type": "stream",
     "text": [
      "C:\\Users\\Zack\\anaconda3\\lib\\site-packages\\sklearn\\neural_network\\_multilayer_perceptron.py:614: ConvergenceWarning: Stochastic Optimizer: Maximum iterations (500) reached and the optimization hasn't converged yet.\n",
      "  warnings.warn(\n"
     ]
    }
   ],
   "source": [
    "X_train, X_test, y_train, y_test = train_test_split(x, y, test_size=0.2)\n",
    "X_test, X_val, y_test, y_val = train_test_split(X_test, y_test, test_size=0.5)\n",
    "\n",
    "\n",
    "#Outputs the argmax-accuracies of various hidden layer setups for the NN.\n",
    "#The dimension of the array corresponds to the number of hidden layers used.\n",
    "#The index relates to the number of nodes in a given hidden layer per the formula (2^index).\n",
    "#For example, the accuracy at index (3, 5) indicates the accuracy of a model with 2 hidden layers of 8 and then 32 nodes.\n",
    "def hidden_layer_accuracies(X_train, X_test, y_train, y_test):\n",
    "    accuracies = []\n",
    "    accuracies_am = []\n",
    "\n",
    "    for power in range(7):\n",
    "        clf = MLPClassifier(solver='sgd', activation='relu',\n",
    "                            hidden_layer_sizes=(2**power,), random_state=1, max_iter = 500)\n",
    "        clf.fit(X_train, y_train)\n",
    "\n",
    "        accuracy = clf.score(X_test, y_test)\n",
    "        #print(\"Accuracy: \",accuracy) \n",
    "        accuracies.append(accuracy)\n",
    "\n",
    "        probs = clf.predict_log_proba(X_test)\n",
    "\n",
    "        correct = 0\n",
    "        y_test_am = y_test.argmax(axis=1)\n",
    "        probs_am = probs.argmax(axis=1)\n",
    "        for i in range(len(y_test_am)):\n",
    "            if y_test_am[i] == probs_am[i]:\n",
    "                correct += 1\n",
    "        #print(\"Confusion Matrix: \\n\", confusion_matrix(y_test_am, probs_am))\n",
    "        #print(\"\\nAccuracy: \", correct/probs.shape[0])\n",
    "        accuracies_am.append(correct/probs.shape[0])\n",
    "\n",
    "    print(\"1 Hidden Layer\")\n",
    "    print(\"\\nAccuracies:\",accuracies)\n",
    "    print(\"\\nAccuracies with argmax applied:\",accuracies_am)\n",
    "\n",
    "    accuracies2 = np.zeros((7,7))\n",
    "    accuracies2_am = np.zeros((7,7))\n",
    "    for power1 in range(7):\n",
    "        for power2 in range(7):\n",
    "            clf = MLPClassifier(solver='sgd', activation='relu',\n",
    "                                hidden_layer_sizes=(2**power1, 2**power2), random_state=1, max_iter = 500)\n",
    "            clf.fit(X_train, y_train)\n",
    "\n",
    "            accuracy = clf.score(X_test, y_test)\n",
    "            #print(\"Accuracy: \",accuracy) \n",
    "            accuracies2[power1, power2] = accuracy\n",
    "\n",
    "            probs = clf.predict_log_proba(X_test)\n",
    "\n",
    "            correct = 0\n",
    "            y_test_am = y_test.argmax(axis=1)\n",
    "            probs_am = probs.argmax(axis=1)\n",
    "            for i in range(len(y_test_am)):\n",
    "                if y_test_am[i] == probs_am[i]:\n",
    "                    correct += 1\n",
    "            #print(\"Confusion Matrix: \\n\", confusion_matrix(y_test_am, probs_am))\n",
    "            #print(\"\\nAccuracy: \", correct/probs.shape[0])\n",
    "            accuracies2_am[power1, power2] = correct/probs.shape[0]\n",
    "\n",
    "    print(\"\\n\\n2 Hidden Layers\")\n",
    "    print(\"\\nAccuracies:\",accuracies2)\n",
    "    print(\"\\nAccuracies with argmax applied:\",accuracies2_am)\n",
    "    \n",
    "hidden_layer_accuracies(X_train, X_test, y_train, y_test)"
   ]
  },
  {
   "cell_type": "markdown",
   "id": "57d798cd",
   "metadata": {},
   "source": [
    "<b>Finally, this model recorded an accuracy of 42.6% on the validation set.</b>"
   ]
  },
  {
   "cell_type": "code",
   "execution_count": 16,
   "id": "a15d255e",
   "metadata": {},
   "outputs": [
    {
     "name": "stdout",
     "output_type": "stream",
     "text": [
      "Accuracy:  0.2872340425531915\n",
      "Confusion Matrix: \n",
      " [[33  3  5  0  0  0  1]\n",
      " [10  5  3  1  0  0  2]\n",
      " [ 4  3  8  0  0  0  5]\n",
      " [ 1  2 10  0  0  0  8]\n",
      " [ 0  0  1  1  0  0  9]\n",
      " [ 0  1  3  0  0  0 25]\n",
      " [ 1  3  6  0  0  0 34]]\n",
      "\n",
      "Accuracy:  0.425531914893617\n"
     ]
    },
    {
     "name": "stderr",
     "output_type": "stream",
     "text": [
      "C:\\Users\\Zack\\anaconda3\\lib\\site-packages\\sklearn\\neural_network\\_multilayer_perceptron.py:614: ConvergenceWarning: Stochastic Optimizer: Maximum iterations (500) reached and the optimization hasn't converged yet.\n",
      "  warnings.warn(\n"
     ]
    }
   ],
   "source": [
    "clf = MLPClassifier(solver='sgd', activation='relu',\n",
    "        hidden_layer_sizes=(2**4, 2**4), random_state=1, max_iter = 500)\n",
    "\n",
    "clf.fit(X_train, y_train)\n",
    "\n",
    "\n",
    "accuracy = clf.score(X_val, y_val)\n",
    "print(\"Accuracy: \",accuracy) \n",
    "\n",
    "probs = clf.predict_log_proba(X_val)\n",
    "\n",
    "correct = 0\n",
    "y_val_am = y_val.argmax(axis=1)\n",
    "probs_am = probs.argmax(axis=1)\n",
    "\n",
    "for i in range(len(y_val_am)):\n",
    "    if y_val_am[i] == probs_am[i]:\n",
    "        correct += 1\n",
    "        \n",
    "print(\"Confusion Matrix: \\n\", confusion_matrix(y_val_am, probs_am))\n",
    "print(\"\\nAccuracy: \", correct/probs.shape[0])"
   ]
  },
  {
   "cell_type": "markdown",
   "id": "d273e067",
   "metadata": {},
   "source": [
    "----------\n",
    "<b>Multiclass #2</b>\n",
    "\n",
    "The following model will also be a multiclass classifier, but will utilize only the input data relating to usage of other drugs besides cannabis."
   ]
  },
  {
   "cell_type": "markdown",
   "id": "c7276803",
   "metadata": {},
   "source": [
    "For similar reasons to above, argmax was used and various hidden layer setups were tested. This resulted in a best prediction accuracy of <b>50.5% for the test set</b>."
   ]
  },
  {
   "cell_type": "code",
   "execution_count": 19,
   "id": "de012fe0",
   "metadata": {},
   "outputs": [
    {
     "name": "stderr",
     "output_type": "stream",
     "text": [
      "C:\\Users\\Zack\\AppData\\Local\\Temp/ipykernel_11904/2364172474.py:3: FutureWarning: In a future version of pandas all arguments of DataFrame.drop except for the argument 'labels' will be keyword-only\n",
      "  x = x.drop(l, 1)\n",
      "C:\\Users\\Zack\\AppData\\Local\\Temp/ipykernel_11904/2364172474.py:6: FutureWarning: In a future version of pandas all arguments of DataFrame.drop except for the argument 'labels' will be keyword-only\n",
      "  x = x.drop(l, 1)\n"
     ]
    },
    {
     "name": "stdout",
     "output_type": "stream",
     "text": [
      "(1877, 17) (1877, 7)\n"
     ]
    },
    {
     "name": "stderr",
     "output_type": "stream",
     "text": [
      "C:\\Users\\Zack\\anaconda3\\lib\\site-packages\\sklearn\\neural_network\\_multilayer_perceptron.py:614: ConvergenceWarning: Stochastic Optimizer: Maximum iterations (500) reached and the optimization hasn't converged yet.\n",
      "  warnings.warn(\n",
      "C:\\Users\\Zack\\anaconda3\\lib\\site-packages\\sklearn\\neural_network\\_multilayer_perceptron.py:614: ConvergenceWarning: Stochastic Optimizer: Maximum iterations (500) reached and the optimization hasn't converged yet.\n",
      "  warnings.warn(\n",
      "C:\\Users\\Zack\\anaconda3\\lib\\site-packages\\sklearn\\neural_network\\_multilayer_perceptron.py:614: ConvergenceWarning: Stochastic Optimizer: Maximum iterations (500) reached and the optimization hasn't converged yet.\n",
      "  warnings.warn(\n",
      "C:\\Users\\Zack\\anaconda3\\lib\\site-packages\\sklearn\\neural_network\\_multilayer_perceptron.py:614: ConvergenceWarning: Stochastic Optimizer: Maximum iterations (500) reached and the optimization hasn't converged yet.\n",
      "  warnings.warn(\n",
      "C:\\Users\\Zack\\anaconda3\\lib\\site-packages\\sklearn\\neural_network\\_multilayer_perceptron.py:614: ConvergenceWarning: Stochastic Optimizer: Maximum iterations (500) reached and the optimization hasn't converged yet.\n",
      "  warnings.warn(\n",
      "C:\\Users\\Zack\\anaconda3\\lib\\site-packages\\sklearn\\neural_network\\_multilayer_perceptron.py:614: ConvergenceWarning: Stochastic Optimizer: Maximum iterations (500) reached and the optimization hasn't converged yet.\n",
      "  warnings.warn(\n"
     ]
    },
    {
     "name": "stdout",
     "output_type": "stream",
     "text": [
      "1 Hidden Layer\n",
      "\n",
      "Accuracies: [0.0, 0.11702127659574468, 0.12234042553191489, 0.20212765957446807, 0.19148936170212766, 0.19148936170212766, 0.18617021276595744]\n",
      "\n",
      "Accuracies with argmax applied: [0.2553191489361702, 0.48404255319148937, 0.4787234042553192, 0.48404255319148937, 0.4574468085106383, 0.48404255319148937, 0.48936170212765956]\n"
     ]
    },
    {
     "name": "stderr",
     "output_type": "stream",
     "text": [
      "C:\\Users\\Zack\\anaconda3\\lib\\site-packages\\sklearn\\neural_network\\_multilayer_perceptron.py:614: ConvergenceWarning: Stochastic Optimizer: Maximum iterations (500) reached and the optimization hasn't converged yet.\n",
      "  warnings.warn(\n",
      "C:\\Users\\Zack\\anaconda3\\lib\\site-packages\\sklearn\\neural_network\\_multilayer_perceptron.py:614: ConvergenceWarning: Stochastic Optimizer: Maximum iterations (500) reached and the optimization hasn't converged yet.\n",
      "  warnings.warn(\n",
      "C:\\Users\\Zack\\anaconda3\\lib\\site-packages\\sklearn\\neural_network\\_multilayer_perceptron.py:614: ConvergenceWarning: Stochastic Optimizer: Maximum iterations (500) reached and the optimization hasn't converged yet.\n",
      "  warnings.warn(\n",
      "C:\\Users\\Zack\\anaconda3\\lib\\site-packages\\sklearn\\neural_network\\_multilayer_perceptron.py:614: ConvergenceWarning: Stochastic Optimizer: Maximum iterations (500) reached and the optimization hasn't converged yet.\n",
      "  warnings.warn(\n",
      "C:\\Users\\Zack\\anaconda3\\lib\\site-packages\\sklearn\\neural_network\\_multilayer_perceptron.py:614: ConvergenceWarning: Stochastic Optimizer: Maximum iterations (500) reached and the optimization hasn't converged yet.\n",
      "  warnings.warn(\n",
      "C:\\Users\\Zack\\anaconda3\\lib\\site-packages\\sklearn\\neural_network\\_multilayer_perceptron.py:614: ConvergenceWarning: Stochastic Optimizer: Maximum iterations (500) reached and the optimization hasn't converged yet.\n",
      "  warnings.warn(\n",
      "C:\\Users\\Zack\\anaconda3\\lib\\site-packages\\sklearn\\neural_network\\_multilayer_perceptron.py:614: ConvergenceWarning: Stochastic Optimizer: Maximum iterations (500) reached and the optimization hasn't converged yet.\n",
      "  warnings.warn(\n",
      "C:\\Users\\Zack\\anaconda3\\lib\\site-packages\\sklearn\\neural_network\\_multilayer_perceptron.py:614: ConvergenceWarning: Stochastic Optimizer: Maximum iterations (500) reached and the optimization hasn't converged yet.\n",
      "  warnings.warn(\n",
      "C:\\Users\\Zack\\anaconda3\\lib\\site-packages\\sklearn\\neural_network\\_multilayer_perceptron.py:614: ConvergenceWarning: Stochastic Optimizer: Maximum iterations (500) reached and the optimization hasn't converged yet.\n",
      "  warnings.warn(\n",
      "C:\\Users\\Zack\\anaconda3\\lib\\site-packages\\sklearn\\neural_network\\_multilayer_perceptron.py:614: ConvergenceWarning: Stochastic Optimizer: Maximum iterations (500) reached and the optimization hasn't converged yet.\n",
      "  warnings.warn(\n",
      "C:\\Users\\Zack\\anaconda3\\lib\\site-packages\\sklearn\\neural_network\\_multilayer_perceptron.py:614: ConvergenceWarning: Stochastic Optimizer: Maximum iterations (500) reached and the optimization hasn't converged yet.\n",
      "  warnings.warn(\n",
      "C:\\Users\\Zack\\anaconda3\\lib\\site-packages\\sklearn\\neural_network\\_multilayer_perceptron.py:614: ConvergenceWarning: Stochastic Optimizer: Maximum iterations (500) reached and the optimization hasn't converged yet.\n",
      "  warnings.warn(\n",
      "C:\\Users\\Zack\\anaconda3\\lib\\site-packages\\sklearn\\neural_network\\_multilayer_perceptron.py:614: ConvergenceWarning: Stochastic Optimizer: Maximum iterations (500) reached and the optimization hasn't converged yet.\n",
      "  warnings.warn(\n",
      "C:\\Users\\Zack\\anaconda3\\lib\\site-packages\\sklearn\\neural_network\\_multilayer_perceptron.py:614: ConvergenceWarning: Stochastic Optimizer: Maximum iterations (500) reached and the optimization hasn't converged yet.\n",
      "  warnings.warn(\n",
      "C:\\Users\\Zack\\anaconda3\\lib\\site-packages\\sklearn\\neural_network\\_multilayer_perceptron.py:614: ConvergenceWarning: Stochastic Optimizer: Maximum iterations (500) reached and the optimization hasn't converged yet.\n",
      "  warnings.warn(\n",
      "C:\\Users\\Zack\\anaconda3\\lib\\site-packages\\sklearn\\neural_network\\_multilayer_perceptron.py:614: ConvergenceWarning: Stochastic Optimizer: Maximum iterations (500) reached and the optimization hasn't converged yet.\n",
      "  warnings.warn(\n",
      "C:\\Users\\Zack\\anaconda3\\lib\\site-packages\\sklearn\\neural_network\\_multilayer_perceptron.py:614: ConvergenceWarning: Stochastic Optimizer: Maximum iterations (500) reached and the optimization hasn't converged yet.\n",
      "  warnings.warn(\n",
      "C:\\Users\\Zack\\anaconda3\\lib\\site-packages\\sklearn\\neural_network\\_multilayer_perceptron.py:614: ConvergenceWarning: Stochastic Optimizer: Maximum iterations (500) reached and the optimization hasn't converged yet.\n",
      "  warnings.warn(\n",
      "C:\\Users\\Zack\\anaconda3\\lib\\site-packages\\sklearn\\neural_network\\_multilayer_perceptron.py:614: ConvergenceWarning: Stochastic Optimizer: Maximum iterations (500) reached and the optimization hasn't converged yet.\n",
      "  warnings.warn(\n",
      "C:\\Users\\Zack\\anaconda3\\lib\\site-packages\\sklearn\\neural_network\\_multilayer_perceptron.py:614: ConvergenceWarning: Stochastic Optimizer: Maximum iterations (500) reached and the optimization hasn't converged yet.\n",
      "  warnings.warn(\n",
      "C:\\Users\\Zack\\anaconda3\\lib\\site-packages\\sklearn\\neural_network\\_multilayer_perceptron.py:614: ConvergenceWarning: Stochastic Optimizer: Maximum iterations (500) reached and the optimization hasn't converged yet.\n",
      "  warnings.warn(\n",
      "C:\\Users\\Zack\\anaconda3\\lib\\site-packages\\sklearn\\neural_network\\_multilayer_perceptron.py:614: ConvergenceWarning: Stochastic Optimizer: Maximum iterations (500) reached and the optimization hasn't converged yet.\n",
      "  warnings.warn(\n",
      "C:\\Users\\Zack\\anaconda3\\lib\\site-packages\\sklearn\\neural_network\\_multilayer_perceptron.py:614: ConvergenceWarning: Stochastic Optimizer: Maximum iterations (500) reached and the optimization hasn't converged yet.\n",
      "  warnings.warn(\n",
      "C:\\Users\\Zack\\anaconda3\\lib\\site-packages\\sklearn\\neural_network\\_multilayer_perceptron.py:614: ConvergenceWarning: Stochastic Optimizer: Maximum iterations (500) reached and the optimization hasn't converged yet.\n",
      "  warnings.warn(\n",
      "C:\\Users\\Zack\\anaconda3\\lib\\site-packages\\sklearn\\neural_network\\_multilayer_perceptron.py:614: ConvergenceWarning: Stochastic Optimizer: Maximum iterations (500) reached and the optimization hasn't converged yet.\n",
      "  warnings.warn(\n",
      "C:\\Users\\Zack\\anaconda3\\lib\\site-packages\\sklearn\\neural_network\\_multilayer_perceptron.py:614: ConvergenceWarning: Stochastic Optimizer: Maximum iterations (500) reached and the optimization hasn't converged yet.\n",
      "  warnings.warn(\n",
      "C:\\Users\\Zack\\anaconda3\\lib\\site-packages\\sklearn\\neural_network\\_multilayer_perceptron.py:614: ConvergenceWarning: Stochastic Optimizer: Maximum iterations (500) reached and the optimization hasn't converged yet.\n",
      "  warnings.warn(\n",
      "C:\\Users\\Zack\\anaconda3\\lib\\site-packages\\sklearn\\neural_network\\_multilayer_perceptron.py:614: ConvergenceWarning: Stochastic Optimizer: Maximum iterations (500) reached and the optimization hasn't converged yet.\n",
      "  warnings.warn(\n",
      "C:\\Users\\Zack\\anaconda3\\lib\\site-packages\\sklearn\\neural_network\\_multilayer_perceptron.py:614: ConvergenceWarning: Stochastic Optimizer: Maximum iterations (500) reached and the optimization hasn't converged yet.\n",
      "  warnings.warn(\n",
      "C:\\Users\\Zack\\anaconda3\\lib\\site-packages\\sklearn\\neural_network\\_multilayer_perceptron.py:614: ConvergenceWarning: Stochastic Optimizer: Maximum iterations (500) reached and the optimization hasn't converged yet.\n",
      "  warnings.warn(\n",
      "C:\\Users\\Zack\\anaconda3\\lib\\site-packages\\sklearn\\neural_network\\_multilayer_perceptron.py:614: ConvergenceWarning: Stochastic Optimizer: Maximum iterations (500) reached and the optimization hasn't converged yet.\n",
      "  warnings.warn(\n",
      "C:\\Users\\Zack\\anaconda3\\lib\\site-packages\\sklearn\\neural_network\\_multilayer_perceptron.py:614: ConvergenceWarning: Stochastic Optimizer: Maximum iterations (500) reached and the optimization hasn't converged yet.\n",
      "  warnings.warn(\n",
      "C:\\Users\\Zack\\anaconda3\\lib\\site-packages\\sklearn\\neural_network\\_multilayer_perceptron.py:614: ConvergenceWarning: Stochastic Optimizer: Maximum iterations (500) reached and the optimization hasn't converged yet.\n",
      "  warnings.warn(\n"
     ]
    },
    {
     "name": "stdout",
     "output_type": "stream",
     "text": [
      "\n",
      "\n",
      "2 Hidden Layers\n",
      "\n",
      "Accuracies: [[0.         0.         0.         0.         0.         0.\n",
      "  0.        ]\n",
      " [0.         0.13829787 0.0106383  0.19680851 0.13829787 0.15957447\n",
      "  0.19680851]\n",
      " [0.         0.         0.12234043 0.12765957 0.13297872 0.13297872\n",
      "  0.13297872]\n",
      " [0.20744681 0.03723404 0.12765957 0.13297872 0.19680851 0.19148936\n",
      "  0.18085106]\n",
      " [0.19680851 0.         0.12765957 0.12765957 0.19680851 0.17021277\n",
      "  0.17553191]\n",
      " [0.         0.11702128 0.17021277 0.19680851 0.18617021 0.18617021\n",
      "  0.19680851]\n",
      " [0.         0.         0.13297872 0.18617021 0.19680851 0.19148936\n",
      "  0.19148936]]\n",
      "\n",
      "Accuracies with argmax applied: [[0.25531915 0.25531915 0.25531915 0.25531915 0.25531915 0.25531915\n",
      "  0.25531915]\n",
      " [0.25531915 0.4893617  0.49468085 0.4893617  0.49468085 0.5\n",
      "  0.5       ]\n",
      " [0.25531915 0.25531915 0.4893617  0.49468085 0.5        0.50531915\n",
      "  0.5       ]\n",
      " [0.4893617  0.4893617  0.48404255 0.49468085 0.4787234  0.4893617\n",
      "  0.48404255]\n",
      " [0.4893617  0.4787234  0.49468085 0.49468085 0.46808511 0.4787234\n",
      "  0.48404255]\n",
      " [0.25531915 0.49468085 0.50531915 0.48404255 0.48404255 0.46808511\n",
      "  0.49468085]\n",
      " [0.25531915 0.25531915 0.50531915 0.48404255 0.48404255 0.4787234\n",
      "  0.49468085]]\n"
     ]
    },
    {
     "name": "stderr",
     "output_type": "stream",
     "text": [
      "C:\\Users\\Zack\\anaconda3\\lib\\site-packages\\sklearn\\neural_network\\_multilayer_perceptron.py:614: ConvergenceWarning: Stochastic Optimizer: Maximum iterations (500) reached and the optimization hasn't converged yet.\n",
      "  warnings.warn(\n"
     ]
    }
   ],
   "source": [
    "x = d\n",
    "for l in demographic_labels:\n",
    "    x = x.drop(l, 1)\n",
    "    \n",
    "for l in personality_labels:\n",
    "    x = x.drop(l, 1)\n",
    "    \n",
    "    \n",
    "targets = cannabis.astype('category').cat.codes.to_numpy()\n",
    "y = np.zeros((7,len(targets)))\n",
    "for m in range(len(targets)):\n",
    "    y[targets[m], m] = 1\n",
    "\n",
    "\n",
    "y = y.T\n",
    "print(x.shape, y.shape)\n",
    "\n",
    "\n",
    "X_train, X_test, y_train, y_test = train_test_split(x, y, test_size=0.2)\n",
    "X_test, X_val, y_test, y_val = train_test_split(X_test, y_test, test_size=0.5)\n",
    "\n",
    "\n",
    "#HYPERPARAMETERS - deciding 1 or 2 hidden layers, number of nodes\n",
    "hidden_layer_accuracies(X_train, X_test, y_train, y_test)\n"
   ]
  },
  {
   "cell_type": "markdown",
   "id": "a2a3eea5",
   "metadata": {},
   "source": [
    "<b>This model recorded an accuracy of 45.2% on the validation set, which makes this the best performing multiclass classifier.</b>"
   ]
  },
  {
   "cell_type": "code",
   "execution_count": 25,
   "id": "09dbe30c",
   "metadata": {},
   "outputs": [
    {
     "name": "stdout",
     "output_type": "stream",
     "text": [
      "Accuracy:  0.14361702127659576\n",
      "Confusion Matrix: \n",
      " [[34  0  0  0  0  0  1]\n",
      " [12  0  0  0  0  0  9]\n",
      " [19  0  1  0  0  0  8]\n",
      " [ 2  1  0  0  0  0 23]\n",
      " [ 0  0  1  0  0  0  9]\n",
      " [ 0  0  0  0  0  0 16]\n",
      " [ 2  0  0  0  0  0 50]]\n",
      "\n",
      "Accuracy:  0.4521276595744681\n"
     ]
    },
    {
     "name": "stderr",
     "output_type": "stream",
     "text": [
      "C:\\Users\\Zack\\anaconda3\\lib\\site-packages\\sklearn\\neural_network\\_multilayer_perceptron.py:614: ConvergenceWarning: Stochastic Optimizer: Maximum iterations (500) reached and the optimization hasn't converged yet.\n",
      "  warnings.warn(\n"
     ]
    }
   ],
   "source": [
    "clf = MLPClassifier(solver='sgd', activation='relu',\n",
    "        hidden_layer_sizes=(2**2, 2**5), random_state=1, max_iter = 500)\n",
    "\n",
    "clf.fit(X_train, y_train)\n",
    "\n",
    "\n",
    "accuracy = clf.score(X_val, y_val)\n",
    "print(\"Accuracy: \",accuracy) \n",
    "\n",
    "probs = clf.predict_log_proba(X_val)\n",
    "\n",
    "correct = 0\n",
    "y_val_am = y_val.argmax(axis=1)\n",
    "probs_am = probs.argmax(axis=1)\n",
    "\n",
    "for i in range(len(y_val_am)):\n",
    "    if y_val_am[i] == probs_am[i]:\n",
    "        correct += 1\n",
    "        \n",
    "print(\"Confusion Matrix: \\n\", confusion_matrix(y_val_am, probs_am))\n",
    "print(\"\\nAccuracy: \", correct/probs.shape[0])"
   ]
  },
  {
   "cell_type": "markdown",
   "id": "4216a45e",
   "metadata": {},
   "source": [
    "-----------\n",
    "<b>Multiclass #3</b>\n",
    "\n",
    "The following model will also be a multiclass classifier, but will utilize only the input data relating to the schedule of other drugs used besides cannabis."
   ]
  },
  {
   "cell_type": "markdown",
   "id": "688576e9",
   "metadata": {},
   "source": [
    "For similar reasons to above, argmax was used and various hidden layer setups were tested. This resulted in a prediction accuracy of <b>47.3% on the test set</b>."
   ]
  },
  {
   "cell_type": "code",
   "execution_count": 28,
   "id": "2604d5be",
   "metadata": {},
   "outputs": [
    {
     "name": "stderr",
     "output_type": "stream",
     "text": [
      "C:\\Users\\Zack\\AppData\\Local\\Temp/ipykernel_11904/3467994831.py:4: FutureWarning: In a future version of pandas all arguments of DataFrame.drop except for the argument 'labels' will be keyword-only\n",
      "  x = x.drop(l, 1)\n",
      "C:\\Users\\Zack\\AppData\\Local\\Temp/ipykernel_11904/3467994831.py:7: FutureWarning: In a future version of pandas all arguments of DataFrame.drop except for the argument 'labels' will be keyword-only\n",
      "  x = x.drop(l, 1)\n",
      "C:\\Users\\Zack\\AppData\\Local\\Temp/ipykernel_11904/3467994831.py:10: FutureWarning: In a future version of pandas all arguments of DataFrame.drop except for the argument 'labels' will be keyword-only\n",
      "  x = x.drop(l, 1)\n",
      "C:\\Users\\Zack\\AppData\\Local\\Temp/ipykernel_11904/3467994831.py:12: FutureWarning: In a future version of pandas all arguments of DataFrame.drop except for the argument 'labels' will be keyword-only\n",
      "  x = x.drop(['Cannabis'], 1)\n"
     ]
    },
    {
     "name": "stdout",
     "output_type": "stream",
     "text": [
      "(1877, 5) (1877, 7)\n",
      "1 Hidden Layer\n",
      "\n",
      "Accuracies: [0.0, 0.0, 0.18617021276595744, 0.18617021276595744, 0.21808510638297873, 0.18617021276595744, 0.21808510638297873]\n",
      "\n",
      "Accuracies with argmax applied: [0.26063829787234044, 0.26063829787234044, 0.46808510638297873, 0.46808510638297873, 0.46808510638297873, 0.46808510638297873, 0.46808510638297873]\n"
     ]
    },
    {
     "name": "stderr",
     "output_type": "stream",
     "text": [
      "C:\\Users\\Zack\\anaconda3\\lib\\site-packages\\sklearn\\neural_network\\_multilayer_perceptron.py:614: ConvergenceWarning: Stochastic Optimizer: Maximum iterations (500) reached and the optimization hasn't converged yet.\n",
      "  warnings.warn(\n",
      "C:\\Users\\Zack\\anaconda3\\lib\\site-packages\\sklearn\\neural_network\\_multilayer_perceptron.py:614: ConvergenceWarning: Stochastic Optimizer: Maximum iterations (500) reached and the optimization hasn't converged yet.\n",
      "  warnings.warn(\n",
      "C:\\Users\\Zack\\anaconda3\\lib\\site-packages\\sklearn\\neural_network\\_multilayer_perceptron.py:614: ConvergenceWarning: Stochastic Optimizer: Maximum iterations (500) reached and the optimization hasn't converged yet.\n",
      "  warnings.warn(\n",
      "C:\\Users\\Zack\\anaconda3\\lib\\site-packages\\sklearn\\neural_network\\_multilayer_perceptron.py:614: ConvergenceWarning: Stochastic Optimizer: Maximum iterations (500) reached and the optimization hasn't converged yet.\n",
      "  warnings.warn(\n",
      "C:\\Users\\Zack\\anaconda3\\lib\\site-packages\\sklearn\\neural_network\\_multilayer_perceptron.py:614: ConvergenceWarning: Stochastic Optimizer: Maximum iterations (500) reached and the optimization hasn't converged yet.\n",
      "  warnings.warn(\n",
      "C:\\Users\\Zack\\anaconda3\\lib\\site-packages\\sklearn\\neural_network\\_multilayer_perceptron.py:614: ConvergenceWarning: Stochastic Optimizer: Maximum iterations (500) reached and the optimization hasn't converged yet.\n",
      "  warnings.warn(\n"
     ]
    },
    {
     "name": "stdout",
     "output_type": "stream",
     "text": [
      "\n",
      "\n",
      "2 Hidden Layers\n",
      "\n",
      "Accuracies: [[0.         0.         0.         0.         0.         0.\n",
      "  0.        ]\n",
      " [0.         0.         0.         0.21808511 0.21808511 0.21808511\n",
      "  0.18617021]\n",
      " [0.         0.         0.18617021 0.         0.21808511 0.18617021\n",
      "  0.18617021]\n",
      " [0.         0.         0.21808511 0.18617021 0.18617021 0.18617021\n",
      "  0.18617021]\n",
      " [0.         0.18617021 0.21808511 0.21808511 0.21808511 0.21808511\n",
      "  0.21808511]\n",
      " [0.         0.         0.21808511 0.18617021 0.21808511 0.21808511\n",
      "  0.21808511]\n",
      " [0.         0.         0.21808511 0.21808511 0.21808511 0.21808511\n",
      "  0.21808511]]\n",
      "\n",
      "Accuracies with argmax applied: [[0.2606383  0.2606383  0.2606383  0.2606383  0.2606383  0.2606383\n",
      "  0.2606383 ]\n",
      " [0.2606383  0.2606383  0.2606383  0.46808511 0.46808511 0.46808511\n",
      "  0.46808511]\n",
      " [0.2606383  0.2606383  0.46808511 0.47340426 0.46808511 0.46808511\n",
      "  0.46808511]\n",
      " [0.2606383  0.2606383  0.46808511 0.46808511 0.46808511 0.46808511\n",
      "  0.46808511]\n",
      " [0.2606383  0.46808511 0.46808511 0.46808511 0.47340426 0.46808511\n",
      "  0.46808511]\n",
      " [0.2606383  0.2606383  0.46808511 0.46808511 0.46808511 0.46808511\n",
      "  0.46808511]\n",
      " [0.2606383  0.2606383  0.46808511 0.46808511 0.46808511 0.46808511\n",
      "  0.46808511]]\n"
     ]
    }
   ],
   "source": [
    "x = data\n",
    "\n",
    "for l in demographic_labels:\n",
    "    x = x.drop(l, 1)\n",
    "    \n",
    "for l in personality_labels:\n",
    "    x = x.drop(l, 1)\n",
    "    \n",
    "for l in drug_labels:\n",
    "    x = x.drop(l, 1)\n",
    "    \n",
    "x = x.drop(['Cannabis'], 1)\n",
    "    \n",
    "targets = cannabis.astype('category').cat.codes.to_numpy()\n",
    "y = np.zeros((7,len(targets)))\n",
    "for m in range(len(targets)):\n",
    "    y[targets[m], m] = 1\n",
    "\n",
    "\n",
    "y = y.T\n",
    "\n",
    "print(x.shape, y.shape)\n",
    "\n",
    "X_train, X_test, y_train, y_test = train_test_split(x, y, test_size=0.2)\n",
    "X_test, X_val, y_test, y_val = train_test_split(X_test, y_test, test_size=0.5)\n",
    "\n",
    "#HYPERPARAMETERS - deciding 1 or 2 hidden layers, number of nodes\n",
    "hidden_layer_accuracies(X_train, X_test, y_train, y_test)"
   ]
  },
  {
   "cell_type": "markdown",
   "id": "47ad8676",
   "metadata": {},
   "source": [
    "<b>This model recorded an accuracy of 42.6% on the validation set.</b>"
   ]
  },
  {
   "cell_type": "code",
   "execution_count": 29,
   "id": "1ecfbc93",
   "metadata": {},
   "outputs": [
    {
     "name": "stdout",
     "output_type": "stream",
     "text": [
      "Accuracy:  0.0\n",
      "Confusion Matrix: \n",
      " [[30  0  0  0  0  0  3]\n",
      " [ 8  0  0  0  0  0 11]\n",
      " [ 8  0  0  0  0  0 21]\n",
      " [ 4  0  0  0  0  0 22]\n",
      " [ 1  0  0  0  0  0 10]\n",
      " [ 0  0  0  0  0  0 19]\n",
      " [ 1  0  0  0  0  0 50]]\n",
      "\n",
      "Accuracy:  0.425531914893617\n"
     ]
    },
    {
     "name": "stderr",
     "output_type": "stream",
     "text": [
      "C:\\Users\\Zack\\anaconda3\\lib\\site-packages\\sklearn\\neural_network\\_multilayer_perceptron.py:614: ConvergenceWarning: Stochastic Optimizer: Maximum iterations (500) reached and the optimization hasn't converged yet.\n",
      "  warnings.warn(\n"
     ]
    }
   ],
   "source": [
    "clf = MLPClassifier(solver='sgd', activation='relu',\n",
    "        hidden_layer_sizes=(2**2, 2**3), random_state=1, max_iter = 500)\n",
    "\n",
    "clf.fit(X_train, y_train)\n",
    "\n",
    "\n",
    "accuracy = clf.score(X_val, y_val)\n",
    "print(\"Accuracy: \",accuracy) \n",
    "\n",
    "probs = clf.predict_log_proba(X_val)\n",
    "\n",
    "correct = 0\n",
    "y_val_am = y_val.argmax(axis=1)\n",
    "probs_am = probs.argmax(axis=1)\n",
    "\n",
    "for i in range(len(y_val_am)):\n",
    "    if y_val_am[i] == probs_am[i]:\n",
    "        correct += 1\n",
    "        \n",
    "print(\"Confusion Matrix: \\n\", confusion_matrix(y_val_am, probs_am))\n",
    "print(\"\\nAccuracy: \", correct/probs.shape[0])"
   ]
  },
  {
   "cell_type": "markdown",
   "id": "0ec1b8c8",
   "metadata": {},
   "source": [
    " ----------------------\n",
    " \n",
    "The following models will now instead be used as binary classifiers, determing whether an individual is a user of cannabis or not. We are no longer attempting to classify the recency of use with these models."
   ]
  },
  {
   "cell_type": "markdown",
   "id": "b869b1f1",
   "metadata": {},
   "source": [
    "---------\n",
    "<b>Binary classification #1</b>\n",
    "\n",
    "The first model uses all provided input data to predict this binary classification.\n",
    "\n",
    "Just as previously done, argmax of each probability prediction was used, which brings the accuracy up slightly from 86.2% to 87.8%. This jump is expected to be only slight due to the greatly reduced number of output classifications available, and so the backwards propogation doesn't reward a non-classification as much in this scenario."
   ]
  },
  {
   "cell_type": "code",
   "execution_count": 31,
   "id": "379d689f",
   "metadata": {},
   "outputs": [
    {
     "name": "stderr",
     "output_type": "stream",
     "text": [
      "C:\\Users\\Zack\\anaconda3\\lib\\site-packages\\sklearn\\neural_network\\_multilayer_perceptron.py:614: ConvergenceWarning: Stochastic Optimizer: Maximum iterations (500) reached and the optimization hasn't converged yet.\n",
      "  warnings.warn(\n",
      "C:\\Users\\Zack\\anaconda3\\lib\\site-packages\\sklearn\\neural_network\\_multilayer_perceptron.py:614: ConvergenceWarning: Stochastic Optimizer: Maximum iterations (500) reached and the optimization hasn't converged yet.\n",
      "  warnings.warn(\n",
      "C:\\Users\\Zack\\anaconda3\\lib\\site-packages\\sklearn\\neural_network\\_multilayer_perceptron.py:614: ConvergenceWarning: Stochastic Optimizer: Maximum iterations (500) reached and the optimization hasn't converged yet.\n",
      "  warnings.warn(\n",
      "C:\\Users\\Zack\\anaconda3\\lib\\site-packages\\sklearn\\neural_network\\_multilayer_perceptron.py:614: ConvergenceWarning: Stochastic Optimizer: Maximum iterations (500) reached and the optimization hasn't converged yet.\n",
      "  warnings.warn(\n",
      "C:\\Users\\Zack\\anaconda3\\lib\\site-packages\\sklearn\\neural_network\\_multilayer_perceptron.py:614: ConvergenceWarning: Stochastic Optimizer: Maximum iterations (500) reached and the optimization hasn't converged yet.\n",
      "  warnings.warn(\n",
      "C:\\Users\\Zack\\anaconda3\\lib\\site-packages\\sklearn\\neural_network\\_multilayer_perceptron.py:614: ConvergenceWarning: Stochastic Optimizer: Maximum iterations (500) reached and the optimization hasn't converged yet.\n",
      "  warnings.warn(\n",
      "C:\\Users\\Zack\\anaconda3\\lib\\site-packages\\sklearn\\neural_network\\_multilayer_perceptron.py:614: ConvergenceWarning: Stochastic Optimizer: Maximum iterations (500) reached and the optimization hasn't converged yet.\n",
      "  warnings.warn(\n"
     ]
    },
    {
     "name": "stdout",
     "output_type": "stream",
     "text": [
      "1 Hidden Layer\n",
      "\n",
      "Accuracies: [0.8404255319148937, 0.8563829787234043, 0.851063829787234, 0.8404255319148937, 0.8563829787234043, 0.8457446808510638, 0.8351063829787234]\n",
      "\n",
      "Accuracies with argmax applied: [0.851063829787234, 0.8563829787234043, 0.851063829787234, 0.851063829787234, 0.8563829787234043, 0.851063829787234, 0.8563829787234043]\n"
     ]
    },
    {
     "name": "stderr",
     "output_type": "stream",
     "text": [
      "C:\\Users\\Zack\\anaconda3\\lib\\site-packages\\sklearn\\neural_network\\_multilayer_perceptron.py:614: ConvergenceWarning: Stochastic Optimizer: Maximum iterations (500) reached and the optimization hasn't converged yet.\n",
      "  warnings.warn(\n",
      "C:\\Users\\Zack\\anaconda3\\lib\\site-packages\\sklearn\\neural_network\\_multilayer_perceptron.py:614: ConvergenceWarning: Stochastic Optimizer: Maximum iterations (500) reached and the optimization hasn't converged yet.\n",
      "  warnings.warn(\n",
      "C:\\Users\\Zack\\anaconda3\\lib\\site-packages\\sklearn\\neural_network\\_multilayer_perceptron.py:614: ConvergenceWarning: Stochastic Optimizer: Maximum iterations (500) reached and the optimization hasn't converged yet.\n",
      "  warnings.warn(\n",
      "C:\\Users\\Zack\\anaconda3\\lib\\site-packages\\sklearn\\neural_network\\_multilayer_perceptron.py:614: ConvergenceWarning: Stochastic Optimizer: Maximum iterations (500) reached and the optimization hasn't converged yet.\n",
      "  warnings.warn(\n",
      "C:\\Users\\Zack\\anaconda3\\lib\\site-packages\\sklearn\\neural_network\\_multilayer_perceptron.py:614: ConvergenceWarning: Stochastic Optimizer: Maximum iterations (500) reached and the optimization hasn't converged yet.\n",
      "  warnings.warn(\n",
      "C:\\Users\\Zack\\anaconda3\\lib\\site-packages\\sklearn\\neural_network\\_multilayer_perceptron.py:614: ConvergenceWarning: Stochastic Optimizer: Maximum iterations (500) reached and the optimization hasn't converged yet.\n",
      "  warnings.warn(\n",
      "C:\\Users\\Zack\\anaconda3\\lib\\site-packages\\sklearn\\neural_network\\_multilayer_perceptron.py:614: ConvergenceWarning: Stochastic Optimizer: Maximum iterations (500) reached and the optimization hasn't converged yet.\n",
      "  warnings.warn(\n",
      "C:\\Users\\Zack\\anaconda3\\lib\\site-packages\\sklearn\\neural_network\\_multilayer_perceptron.py:614: ConvergenceWarning: Stochastic Optimizer: Maximum iterations (500) reached and the optimization hasn't converged yet.\n",
      "  warnings.warn(\n",
      "C:\\Users\\Zack\\anaconda3\\lib\\site-packages\\sklearn\\neural_network\\_multilayer_perceptron.py:614: ConvergenceWarning: Stochastic Optimizer: Maximum iterations (500) reached and the optimization hasn't converged yet.\n",
      "  warnings.warn(\n",
      "C:\\Users\\Zack\\anaconda3\\lib\\site-packages\\sklearn\\neural_network\\_multilayer_perceptron.py:614: ConvergenceWarning: Stochastic Optimizer: Maximum iterations (500) reached and the optimization hasn't converged yet.\n",
      "  warnings.warn(\n",
      "C:\\Users\\Zack\\anaconda3\\lib\\site-packages\\sklearn\\neural_network\\_multilayer_perceptron.py:614: ConvergenceWarning: Stochastic Optimizer: Maximum iterations (500) reached and the optimization hasn't converged yet.\n",
      "  warnings.warn(\n",
      "C:\\Users\\Zack\\anaconda3\\lib\\site-packages\\sklearn\\neural_network\\_multilayer_perceptron.py:614: ConvergenceWarning: Stochastic Optimizer: Maximum iterations (500) reached and the optimization hasn't converged yet.\n",
      "  warnings.warn(\n",
      "C:\\Users\\Zack\\anaconda3\\lib\\site-packages\\sklearn\\neural_network\\_multilayer_perceptron.py:614: ConvergenceWarning: Stochastic Optimizer: Maximum iterations (500) reached and the optimization hasn't converged yet.\n",
      "  warnings.warn(\n",
      "C:\\Users\\Zack\\anaconda3\\lib\\site-packages\\sklearn\\neural_network\\_multilayer_perceptron.py:614: ConvergenceWarning: Stochastic Optimizer: Maximum iterations (500) reached and the optimization hasn't converged yet.\n",
      "  warnings.warn(\n",
      "C:\\Users\\Zack\\anaconda3\\lib\\site-packages\\sklearn\\neural_network\\_multilayer_perceptron.py:614: ConvergenceWarning: Stochastic Optimizer: Maximum iterations (500) reached and the optimization hasn't converged yet.\n",
      "  warnings.warn(\n",
      "C:\\Users\\Zack\\anaconda3\\lib\\site-packages\\sklearn\\neural_network\\_multilayer_perceptron.py:614: ConvergenceWarning: Stochastic Optimizer: Maximum iterations (500) reached and the optimization hasn't converged yet.\n",
      "  warnings.warn(\n",
      "C:\\Users\\Zack\\anaconda3\\lib\\site-packages\\sklearn\\neural_network\\_multilayer_perceptron.py:614: ConvergenceWarning: Stochastic Optimizer: Maximum iterations (500) reached and the optimization hasn't converged yet.\n",
      "  warnings.warn(\n",
      "C:\\Users\\Zack\\anaconda3\\lib\\site-packages\\sklearn\\neural_network\\_multilayer_perceptron.py:614: ConvergenceWarning: Stochastic Optimizer: Maximum iterations (500) reached and the optimization hasn't converged yet.\n",
      "  warnings.warn(\n",
      "C:\\Users\\Zack\\anaconda3\\lib\\site-packages\\sklearn\\neural_network\\_multilayer_perceptron.py:614: ConvergenceWarning: Stochastic Optimizer: Maximum iterations (500) reached and the optimization hasn't converged yet.\n",
      "  warnings.warn(\n",
      "C:\\Users\\Zack\\anaconda3\\lib\\site-packages\\sklearn\\neural_network\\_multilayer_perceptron.py:614: ConvergenceWarning: Stochastic Optimizer: Maximum iterations (500) reached and the optimization hasn't converged yet.\n",
      "  warnings.warn(\n",
      "C:\\Users\\Zack\\anaconda3\\lib\\site-packages\\sklearn\\neural_network\\_multilayer_perceptron.py:614: ConvergenceWarning: Stochastic Optimizer: Maximum iterations (500) reached and the optimization hasn't converged yet.\n",
      "  warnings.warn(\n",
      "C:\\Users\\Zack\\anaconda3\\lib\\site-packages\\sklearn\\neural_network\\_multilayer_perceptron.py:614: ConvergenceWarning: Stochastic Optimizer: Maximum iterations (500) reached and the optimization hasn't converged yet.\n",
      "  warnings.warn(\n",
      "C:\\Users\\Zack\\anaconda3\\lib\\site-packages\\sklearn\\neural_network\\_multilayer_perceptron.py:614: ConvergenceWarning: Stochastic Optimizer: Maximum iterations (500) reached and the optimization hasn't converged yet.\n",
      "  warnings.warn(\n",
      "C:\\Users\\Zack\\anaconda3\\lib\\site-packages\\sklearn\\neural_network\\_multilayer_perceptron.py:614: ConvergenceWarning: Stochastic Optimizer: Maximum iterations (500) reached and the optimization hasn't converged yet.\n",
      "  warnings.warn(\n",
      "C:\\Users\\Zack\\anaconda3\\lib\\site-packages\\sklearn\\neural_network\\_multilayer_perceptron.py:614: ConvergenceWarning: Stochastic Optimizer: Maximum iterations (500) reached and the optimization hasn't converged yet.\n",
      "  warnings.warn(\n",
      "C:\\Users\\Zack\\anaconda3\\lib\\site-packages\\sklearn\\neural_network\\_multilayer_perceptron.py:614: ConvergenceWarning: Stochastic Optimizer: Maximum iterations (500) reached and the optimization hasn't converged yet.\n",
      "  warnings.warn(\n",
      "C:\\Users\\Zack\\anaconda3\\lib\\site-packages\\sklearn\\neural_network\\_multilayer_perceptron.py:614: ConvergenceWarning: Stochastic Optimizer: Maximum iterations (500) reached and the optimization hasn't converged yet.\n",
      "  warnings.warn(\n",
      "C:\\Users\\Zack\\anaconda3\\lib\\site-packages\\sklearn\\neural_network\\_multilayer_perceptron.py:614: ConvergenceWarning: Stochastic Optimizer: Maximum iterations (500) reached and the optimization hasn't converged yet.\n",
      "  warnings.warn(\n",
      "C:\\Users\\Zack\\anaconda3\\lib\\site-packages\\sklearn\\neural_network\\_multilayer_perceptron.py:614: ConvergenceWarning: Stochastic Optimizer: Maximum iterations (500) reached and the optimization hasn't converged yet.\n",
      "  warnings.warn(\n",
      "C:\\Users\\Zack\\anaconda3\\lib\\site-packages\\sklearn\\neural_network\\_multilayer_perceptron.py:614: ConvergenceWarning: Stochastic Optimizer: Maximum iterations (500) reached and the optimization hasn't converged yet.\n",
      "  warnings.warn(\n",
      "C:\\Users\\Zack\\anaconda3\\lib\\site-packages\\sklearn\\neural_network\\_multilayer_perceptron.py:614: ConvergenceWarning: Stochastic Optimizer: Maximum iterations (500) reached and the optimization hasn't converged yet.\n",
      "  warnings.warn(\n",
      "C:\\Users\\Zack\\anaconda3\\lib\\site-packages\\sklearn\\neural_network\\_multilayer_perceptron.py:614: ConvergenceWarning: Stochastic Optimizer: Maximum iterations (500) reached and the optimization hasn't converged yet.\n",
      "  warnings.warn(\n",
      "C:\\Users\\Zack\\anaconda3\\lib\\site-packages\\sklearn\\neural_network\\_multilayer_perceptron.py:614: ConvergenceWarning: Stochastic Optimizer: Maximum iterations (500) reached and the optimization hasn't converged yet.\n",
      "  warnings.warn(\n",
      "C:\\Users\\Zack\\anaconda3\\lib\\site-packages\\sklearn\\neural_network\\_multilayer_perceptron.py:614: ConvergenceWarning: Stochastic Optimizer: Maximum iterations (500) reached and the optimization hasn't converged yet.\n",
      "  warnings.warn(\n",
      "C:\\Users\\Zack\\anaconda3\\lib\\site-packages\\sklearn\\neural_network\\_multilayer_perceptron.py:614: ConvergenceWarning: Stochastic Optimizer: Maximum iterations (500) reached and the optimization hasn't converged yet.\n",
      "  warnings.warn(\n",
      "C:\\Users\\Zack\\anaconda3\\lib\\site-packages\\sklearn\\neural_network\\_multilayer_perceptron.py:614: ConvergenceWarning: Stochastic Optimizer: Maximum iterations (500) reached and the optimization hasn't converged yet.\n",
      "  warnings.warn(\n"
     ]
    },
    {
     "name": "stderr",
     "output_type": "stream",
     "text": [
      "C:\\Users\\Zack\\anaconda3\\lib\\site-packages\\sklearn\\neural_network\\_multilayer_perceptron.py:614: ConvergenceWarning: Stochastic Optimizer: Maximum iterations (500) reached and the optimization hasn't converged yet.\n",
      "  warnings.warn(\n",
      "C:\\Users\\Zack\\anaconda3\\lib\\site-packages\\sklearn\\neural_network\\_multilayer_perceptron.py:614: ConvergenceWarning: Stochastic Optimizer: Maximum iterations (500) reached and the optimization hasn't converged yet.\n",
      "  warnings.warn(\n"
     ]
    },
    {
     "name": "stdout",
     "output_type": "stream",
     "text": [
      "\n",
      "\n",
      "2 Hidden Layers\n",
      "\n",
      "Accuracies: [[0.83510638 0.86702128 0.7606383  0.85638298 0.84574468 0.7606383\n",
      "  0.7606383 ]\n",
      " [0.7606383  0.7606383  0.85638298 0.85106383 0.84574468 0.84574468\n",
      "  0.7606383 ]\n",
      " [0.7606383  0.7606383  0.84574468 0.86702128 0.85638298 0.86702128\n",
      "  0.85106383]\n",
      " [0.86170213 0.84574468 0.84574468 0.84574468 0.85638298 0.84042553\n",
      "  0.84042553]\n",
      " [0.7606383  0.7606383  0.83510638 0.82978723 0.84042553 0.84042553\n",
      "  0.85638298]\n",
      " [0.85638298 0.85106383 0.83510638 0.86170213 0.85106383 0.85106383\n",
      "  0.85638298]\n",
      " [0.85106383 0.84574468 0.84574468 0.84042553 0.85638298 0.86170213\n",
      "  0.83510638]]\n",
      "\n",
      "Accuracies with argmax applied: [[0.84574468 0.86702128 0.7606383  0.85638298 0.84574468 0.7606383\n",
      "  0.7606383 ]\n",
      " [0.7606383  0.7606383  0.85638298 0.85106383 0.84574468 0.84574468\n",
      "  0.7606383 ]\n",
      " [0.7606383  0.7606383  0.84574468 0.86702128 0.87234043 0.86702128\n",
      "  0.85106383]\n",
      " [0.86170213 0.85106383 0.85106383 0.84574468 0.85638298 0.84042553\n",
      "  0.84042553]\n",
      " [0.7606383  0.7606383  0.83510638 0.84042553 0.84042553 0.84574468\n",
      "  0.85638298]\n",
      " [0.85638298 0.85106383 0.84574468 0.87765957 0.85638298 0.85638298\n",
      "  0.85638298]\n",
      " [0.85106383 0.86702128 0.84574468 0.84574468 0.86702128 0.86702128\n",
      "  0.85106383]]\n"
     ]
    },
    {
     "name": "stderr",
     "output_type": "stream",
     "text": [
      "C:\\Users\\Zack\\anaconda3\\lib\\site-packages\\sklearn\\neural_network\\_multilayer_perceptron.py:614: ConvergenceWarning: Stochastic Optimizer: Maximum iterations (500) reached and the optimization hasn't converged yet.\n",
      "  warnings.warn(\n"
     ]
    }
   ],
   "source": [
    "x = d\n",
    "\n",
    "#for p in personality_labels:\n",
    "    #x[p] = x[p].astype('category').cat.codes.to_numpy()\n",
    "x = pd.get_dummies(x, columns=(personality_labels))\n",
    "    \n",
    "#for d in demographic_labels:\n",
    "#    x[d] = x[d].astype('category').cat.codes.to_numpy()\n",
    "x = pd.get_dummies(x, columns=(demographic_labels))\n",
    "\n",
    "newtargets = np.where(targets == 0, 0, 1)\n",
    "\n",
    "y = np.zeros((2,len(newtargets)))\n",
    "for m in range(len(newtargets)):\n",
    "    y[newtargets[m], m] = 1\n",
    "y = y.T\n",
    "\n",
    "\n",
    "X_train, X_test, y_train, y_test = train_test_split(x, y, test_size=0.2)\n",
    "X_test, X_val, y_test, y_val = train_test_split(X_test, y_test, test_size=0.5)\n",
    "\n",
    "#HYPERPARAMETERS - deciding 1 or 2 hidden layers, number of nodes\n",
    "hidden_layer_accuracies(X_train, X_test, y_train, y_test)"
   ]
  },
  {
   "cell_type": "markdown",
   "id": "0715513f",
   "metadata": {},
   "source": [
    "<b>This model recorded an accuracy of 89.9% on the validation set.</b>"
   ]
  },
  {
   "cell_type": "code",
   "execution_count": 32,
   "id": "564c1032",
   "metadata": {},
   "outputs": [
    {
     "name": "stdout",
     "output_type": "stream",
     "text": [
      "Accuracy:  0.8936170212765957\n",
      "Confusion Matrix: \n",
      " [[ 33   9]\n",
      " [ 10 136]]\n",
      "\n",
      "Accuracy:  0.898936170212766\n"
     ]
    },
    {
     "name": "stderr",
     "output_type": "stream",
     "text": [
      "C:\\Users\\Zack\\anaconda3\\lib\\site-packages\\sklearn\\neural_network\\_multilayer_perceptron.py:614: ConvergenceWarning: Stochastic Optimizer: Maximum iterations (500) reached and the optimization hasn't converged yet.\n",
      "  warnings.warn(\n"
     ]
    }
   ],
   "source": [
    "clf = MLPClassifier(solver='sgd', activation='relu',\n",
    "        hidden_layer_sizes=(2**5, 2**3), random_state=1, max_iter = 500)\n",
    "\n",
    "clf.fit(X_train, y_train)\n",
    "\n",
    "\n",
    "accuracy = clf.score(X_val, y_val)\n",
    "print(\"Accuracy: \",accuracy) \n",
    "\n",
    "probs = clf.predict_log_proba(X_val)\n",
    "\n",
    "correct = 0\n",
    "y_val_am = y_val.argmax(axis=1)\n",
    "probs_am = probs.argmax(axis=1)\n",
    "\n",
    "for i in range(len(y_val_am)):\n",
    "    if y_val_am[i] == probs_am[i]:\n",
    "        correct += 1\n",
    "        \n",
    "print(\"Confusion Matrix: \\n\", confusion_matrix(y_val_am, probs_am))\n",
    "print(\"\\nAccuracy: \", correct/probs.shape[0])"
   ]
  },
  {
   "cell_type": "markdown",
   "id": "2cb88f8c",
   "metadata": {},
   "source": [
    "------------------\n",
    "<b>Binary classification #2</b>\n",
    "\n",
    "The following model uses only usage of drugs besides cannabis as input variables (no demographics or personality types). \n",
    "#This ended up being the most accurate prediction model. \n",
    "\n",
    "For similar reasons to above, argmax was used and various hidden layer setups were tested. This resulted in a prediction accuracy of <b>89.9% on the test set</b>."
   ]
  },
  {
   "cell_type": "code",
   "execution_count": 36,
   "id": "137f4220",
   "metadata": {},
   "outputs": [
    {
     "name": "stderr",
     "output_type": "stream",
     "text": [
      "C:\\Users\\Zack\\AppData\\Local\\Temp/ipykernel_11904/4239107670.py:3: FutureWarning: In a future version of pandas all arguments of DataFrame.drop except for the argument 'labels' will be keyword-only\n",
      "  x = x.drop(l, 1)\n",
      "C:\\Users\\Zack\\AppData\\Local\\Temp/ipykernel_11904/4239107670.py:6: FutureWarning: In a future version of pandas all arguments of DataFrame.drop except for the argument 'labels' will be keyword-only\n",
      "  x = x.drop(l, 1)\n"
     ]
    },
    {
     "name": "stdout",
     "output_type": "stream",
     "text": [
      "1 Hidden Layer\n",
      "\n",
      "Accuracies: [0.7393617021276596, 0.8882978723404256, 0.8936170212765957, 0.8829787234042553, 0.8882978723404256, 0.8829787234042553, 0.8829787234042553]\n",
      "\n",
      "Accuracies with argmax applied: [0.7393617021276596, 0.8882978723404256, 0.8936170212765957, 0.8882978723404256, 0.8882978723404256, 0.8829787234042553, 0.8829787234042553]\n"
     ]
    },
    {
     "name": "stderr",
     "output_type": "stream",
     "text": [
      "C:\\Users\\Zack\\anaconda3\\lib\\site-packages\\sklearn\\neural_network\\_multilayer_perceptron.py:614: ConvergenceWarning: Stochastic Optimizer: Maximum iterations (500) reached and the optimization hasn't converged yet.\n",
      "  warnings.warn(\n",
      "C:\\Users\\Zack\\anaconda3\\lib\\site-packages\\sklearn\\neural_network\\_multilayer_perceptron.py:614: ConvergenceWarning: Stochastic Optimizer: Maximum iterations (500) reached and the optimization hasn't converged yet.\n",
      "  warnings.warn(\n",
      "C:\\Users\\Zack\\anaconda3\\lib\\site-packages\\sklearn\\neural_network\\_multilayer_perceptron.py:614: ConvergenceWarning: Stochastic Optimizer: Maximum iterations (500) reached and the optimization hasn't converged yet.\n",
      "  warnings.warn(\n",
      "C:\\Users\\Zack\\anaconda3\\lib\\site-packages\\sklearn\\neural_network\\_multilayer_perceptron.py:614: ConvergenceWarning: Stochastic Optimizer: Maximum iterations (500) reached and the optimization hasn't converged yet.\n",
      "  warnings.warn(\n",
      "C:\\Users\\Zack\\anaconda3\\lib\\site-packages\\sklearn\\neural_network\\_multilayer_perceptron.py:614: ConvergenceWarning: Stochastic Optimizer: Maximum iterations (500) reached and the optimization hasn't converged yet.\n",
      "  warnings.warn(\n",
      "C:\\Users\\Zack\\anaconda3\\lib\\site-packages\\sklearn\\neural_network\\_multilayer_perceptron.py:614: ConvergenceWarning: Stochastic Optimizer: Maximum iterations (500) reached and the optimization hasn't converged yet.\n",
      "  warnings.warn(\n",
      "C:\\Users\\Zack\\anaconda3\\lib\\site-packages\\sklearn\\neural_network\\_multilayer_perceptron.py:614: ConvergenceWarning: Stochastic Optimizer: Maximum iterations (500) reached and the optimization hasn't converged yet.\n",
      "  warnings.warn(\n",
      "C:\\Users\\Zack\\anaconda3\\lib\\site-packages\\sklearn\\neural_network\\_multilayer_perceptron.py:614: ConvergenceWarning: Stochastic Optimizer: Maximum iterations (500) reached and the optimization hasn't converged yet.\n",
      "  warnings.warn(\n",
      "C:\\Users\\Zack\\anaconda3\\lib\\site-packages\\sklearn\\neural_network\\_multilayer_perceptron.py:614: ConvergenceWarning: Stochastic Optimizer: Maximum iterations (500) reached and the optimization hasn't converged yet.\n",
      "  warnings.warn(\n",
      "C:\\Users\\Zack\\anaconda3\\lib\\site-packages\\sklearn\\neural_network\\_multilayer_perceptron.py:614: ConvergenceWarning: Stochastic Optimizer: Maximum iterations (500) reached and the optimization hasn't converged yet.\n",
      "  warnings.warn(\n",
      "C:\\Users\\Zack\\anaconda3\\lib\\site-packages\\sklearn\\neural_network\\_multilayer_perceptron.py:614: ConvergenceWarning: Stochastic Optimizer: Maximum iterations (500) reached and the optimization hasn't converged yet.\n",
      "  warnings.warn(\n"
     ]
    },
    {
     "name": "stdout",
     "output_type": "stream",
     "text": [
      "\n",
      "\n",
      "2 Hidden Layers\n",
      "\n",
      "Accuracies: [[0.7393617  0.7393617  0.7393617  0.7393617  0.7393617  0.7393617\n",
      "  0.7393617 ]\n",
      " [0.89361702 0.7393617  0.89361702 0.89361702 0.87765957 0.89361702\n",
      "  0.89361702]\n",
      " [0.88829787 0.89361702 0.87765957 0.88829787 0.88297872 0.88297872\n",
      "  0.88829787]\n",
      " [0.7393617  0.7393617  0.89361702 0.88829787 0.88297872 0.88297872\n",
      "  0.88829787]\n",
      " [0.7393617  0.89361702 0.89361702 0.89361702 0.88829787 0.88829787\n",
      "  0.87765957]\n",
      " [0.7393617  0.89361702 0.89893617 0.88829787 0.88297872 0.88829787\n",
      "  0.88297872]\n",
      " [0.88829787 0.88829787 0.88297872 0.88829787 0.88297872 0.88829787\n",
      "  0.88829787]]\n",
      "\n",
      "Accuracies with argmax applied: [[0.7393617  0.7393617  0.7393617  0.7393617  0.7393617  0.7393617\n",
      "  0.7393617 ]\n",
      " [0.89893617 0.7393617  0.89361702 0.89361702 0.87765957 0.89361702\n",
      "  0.89361702]\n",
      " [0.88829787 0.89361702 0.88297872 0.88829787 0.88829787 0.88297872\n",
      "  0.88829787]\n",
      " [0.7393617  0.7393617  0.89361702 0.88829787 0.88829787 0.89361702\n",
      "  0.88829787]\n",
      " [0.7393617  0.89361702 0.89361702 0.89893617 0.89893617 0.88829787\n",
      "  0.88297872]\n",
      " [0.7393617  0.89361702 0.89893617 0.88829787 0.89361702 0.88829787\n",
      "  0.89361702]\n",
      " [0.88829787 0.88829787 0.88829787 0.88829787 0.88829787 0.88829787\n",
      "  0.88829787]]\n"
     ]
    },
    {
     "name": "stderr",
     "output_type": "stream",
     "text": [
      "C:\\Users\\Zack\\anaconda3\\lib\\site-packages\\sklearn\\neural_network\\_multilayer_perceptron.py:614: ConvergenceWarning: Stochastic Optimizer: Maximum iterations (500) reached and the optimization hasn't converged yet.\n",
      "  warnings.warn(\n"
     ]
    }
   ],
   "source": [
    "x = d\n",
    "for l in demographic_labels:\n",
    "    x = x.drop(l, 1)\n",
    "    \n",
    "for l in personality_labels:\n",
    "    x = x.drop(l, 1)\n",
    "\n",
    "X_train, X_test, y_train, y_test = train_test_split(x, y, test_size=0.2)\n",
    "X_test, X_val, y_test, y_val = train_test_split(X_test, y_test, test_size=0.5)\n",
    "\n",
    "hidden_layer_accuracies(X_train, X_test, y_train, y_test)"
   ]
  },
  {
   "cell_type": "markdown",
   "id": "188506bd",
   "metadata": {},
   "source": [
    "<b>This model recorded an accuracy of 91.5% on the validation set, which is the strongest performance of these classifiers.</b>"
   ]
  },
  {
   "cell_type": "code",
   "execution_count": 37,
   "id": "4198474a",
   "metadata": {},
   "outputs": [
    {
     "name": "stdout",
     "output_type": "stream",
     "text": [
      "Accuracy:  0.9148936170212766\n",
      "Confusion Matrix: \n",
      " [[ 17  12]\n",
      " [  4 155]]\n",
      "\n",
      "Accuracy:  0.9148936170212766\n"
     ]
    },
    {
     "name": "stderr",
     "output_type": "stream",
     "text": [
      "C:\\Users\\Zack\\anaconda3\\lib\\site-packages\\sklearn\\neural_network\\_multilayer_perceptron.py:614: ConvergenceWarning: Stochastic Optimizer: Maximum iterations (500) reached and the optimization hasn't converged yet.\n",
      "  warnings.warn(\n"
     ]
    }
   ],
   "source": [
    "clf = MLPClassifier(solver='sgd', activation='relu',\n",
    "        hidden_layer_sizes=(2**1, 2**0), random_state=1, max_iter = 500)\n",
    "\n",
    "clf.fit(X_train, y_train)\n",
    "\n",
    "\n",
    "accuracy = clf.score(X_val, y_val)\n",
    "print(\"Accuracy: \",accuracy) \n",
    "\n",
    "probs = clf.predict_log_proba(X_val)\n",
    "\n",
    "correct = 0\n",
    "y_val_am = y_val.argmax(axis=1)\n",
    "probs_am = probs.argmax(axis=1)\n",
    "\n",
    "for i in range(len(y_val_am)):\n",
    "    if y_val_am[i] == probs_am[i]:\n",
    "        correct += 1\n",
    "        \n",
    "print(\"Confusion Matrix: \\n\", confusion_matrix(y_val_am, probs_am))\n",
    "print(\"\\nAccuracy: \", correct/probs.shape[0])"
   ]
  },
  {
   "cell_type": "markdown",
   "id": "70118250",
   "metadata": {},
   "source": [
    "-------------------------\n",
    "<b>Binary classification #3</b>\n",
    "\n",
    "Binary classification of the output using only drug classifications as input variables (no demographics, personality types, or usage of individual drugs)\n",
    "\n",
    "For similar reasons to above, argmax was used and various hidden layer setups were tested. This resulted in a prediction accuracy of <b>87.8% on the test set</b>."
   ]
  },
  {
   "cell_type": "code",
   "execution_count": 38,
   "id": "0c7c71c3",
   "metadata": {},
   "outputs": [
    {
     "name": "stderr",
     "output_type": "stream",
     "text": [
      "C:\\Users\\Zack\\AppData\\Local\\Temp/ipykernel_11904/4267672607.py:4: FutureWarning: In a future version of pandas all arguments of DataFrame.drop except for the argument 'labels' will be keyword-only\n",
      "  x = x.drop(l, 1)\n",
      "C:\\Users\\Zack\\AppData\\Local\\Temp/ipykernel_11904/4267672607.py:7: FutureWarning: In a future version of pandas all arguments of DataFrame.drop except for the argument 'labels' will be keyword-only\n",
      "  x = x.drop(l, 1)\n",
      "C:\\Users\\Zack\\AppData\\Local\\Temp/ipykernel_11904/4267672607.py:10: FutureWarning: In a future version of pandas all arguments of DataFrame.drop except for the argument 'labels' will be keyword-only\n",
      "  x = x.drop(l, 1)\n",
      "C:\\Users\\Zack\\AppData\\Local\\Temp/ipykernel_11904/4267672607.py:12: FutureWarning: In a future version of pandas all arguments of DataFrame.drop except for the argument 'labels' will be keyword-only\n",
      "  x = x.drop(['Cannabis'], 1)\n"
     ]
    },
    {
     "name": "stdout",
     "output_type": "stream",
     "text": [
      "1 Hidden Layer\n",
      "\n",
      "Accuracies: [0.776595744680851, 0.8404255319148937, 0.8404255319148937, 0.8404255319148937, 0.8138297872340425, 0.8404255319148937, 0.8404255319148937]\n",
      "\n",
      "Accuracies with argmax applied: [0.776595744680851, 0.8404255319148937, 0.8404255319148937, 0.8404255319148937, 0.8776595744680851, 0.8404255319148937, 0.8404255319148937]\n"
     ]
    },
    {
     "name": "stderr",
     "output_type": "stream",
     "text": [
      "C:\\Users\\Zack\\anaconda3\\lib\\site-packages\\sklearn\\neural_network\\_multilayer_perceptron.py:614: ConvergenceWarning: Stochastic Optimizer: Maximum iterations (500) reached and the optimization hasn't converged yet.\n",
      "  warnings.warn(\n",
      "C:\\Users\\Zack\\anaconda3\\lib\\site-packages\\sklearn\\neural_network\\_multilayer_perceptron.py:614: ConvergenceWarning: Stochastic Optimizer: Maximum iterations (500) reached and the optimization hasn't converged yet.\n",
      "  warnings.warn(\n",
      "C:\\Users\\Zack\\anaconda3\\lib\\site-packages\\sklearn\\neural_network\\_multilayer_perceptron.py:614: ConvergenceWarning: Stochastic Optimizer: Maximum iterations (500) reached and the optimization hasn't converged yet.\n",
      "  warnings.warn(\n",
      "C:\\Users\\Zack\\anaconda3\\lib\\site-packages\\sklearn\\neural_network\\_multilayer_perceptron.py:614: ConvergenceWarning: Stochastic Optimizer: Maximum iterations (500) reached and the optimization hasn't converged yet.\n",
      "  warnings.warn(\n"
     ]
    },
    {
     "name": "stdout",
     "output_type": "stream",
     "text": [
      "\n",
      "\n",
      "2 Hidden Layers\n",
      "\n",
      "Accuracies: [[0.77659574 0.77659574 0.77659574 0.77659574 0.77659574 0.77659574\n",
      "  0.77659574]\n",
      " [0.77659574 0.77659574 0.87765957 0.84042553 0.81382979 0.87765957\n",
      "  0.84042553]\n",
      " [0.87765957 0.87765957 0.87765957 0.84042553 0.84042553 0.84042553\n",
      "  0.84042553]\n",
      " [0.77659574 0.77659574 0.84042553 0.84042553 0.84042553 0.84042553\n",
      "  0.84042553]\n",
      " [0.87765957 0.77659574 0.81382979 0.81382979 0.81382979 0.87765957\n",
      "  0.84042553]\n",
      " [0.77659574 0.81382979 0.87765957 0.84042553 0.84042553 0.84042553\n",
      "  0.84042553]\n",
      " [0.77659574 0.77659574 0.87765957 0.81382979 0.84042553 0.84042553\n",
      "  0.84042553]]\n",
      "\n",
      "Accuracies with argmax applied: [[0.77659574 0.77659574 0.77659574 0.77659574 0.77659574 0.77659574\n",
      "  0.77659574]\n",
      " [0.77659574 0.77659574 0.87765957 0.84042553 0.84042553 0.87765957\n",
      "  0.84042553]\n",
      " [0.87765957 0.87765957 0.87765957 0.84042553 0.84042553 0.84042553\n",
      "  0.84042553]\n",
      " [0.77659574 0.77659574 0.84042553 0.84042553 0.84042553 0.84042553\n",
      "  0.84042553]\n",
      " [0.87765957 0.77659574 0.84042553 0.87765957 0.84042553 0.87765957\n",
      "  0.84042553]\n",
      " [0.77659574 0.87765957 0.87765957 0.84042553 0.84042553 0.84042553\n",
      "  0.84042553]\n",
      " [0.77659574 0.77659574 0.87765957 0.84042553 0.84042553 0.84042553\n",
      "  0.84042553]]\n"
     ]
    }
   ],
   "source": [
    "x = data\n",
    "\n",
    "for l in demographic_labels:\n",
    "    x = x.drop(l, 1)\n",
    "    \n",
    "for l in personality_labels:\n",
    "    x = x.drop(l, 1)\n",
    "    \n",
    "for l in drug_labels:\n",
    "    x = x.drop(l, 1)\n",
    "    \n",
    "x = x.drop(['Cannabis'], 1)\n",
    "\n",
    "X_train, X_test, y_train, y_test = train_test_split(x, y, test_size=0.2)\n",
    "X_test, X_val, y_test, y_val = train_test_split(X_test, y_test, test_size=0.5)\n",
    "\n",
    "hidden_layer_accuracies(X_train, X_test, y_train, y_test)"
   ]
  },
  {
   "cell_type": "markdown",
   "id": "2514d6c9",
   "metadata": {},
   "source": [
    "<b>This model recorded an accuracy of 86.2% on the validation set.</b>"
   ]
  },
  {
   "cell_type": "code",
   "execution_count": 39,
   "id": "84d173f2",
   "metadata": {},
   "outputs": [
    {
     "name": "stdout",
     "output_type": "stream",
     "text": [
      "Accuracy:  0.8617021276595744\n",
      "Confusion Matrix: \n",
      " [[ 42   3]\n",
      " [ 23 120]]\n",
      "\n",
      "Accuracy:  0.8617021276595744\n"
     ]
    }
   ],
   "source": [
    "clf = MLPClassifier(solver='sgd', activation='relu',\n",
    "        hidden_layer_sizes=(2**1, 2**2), random_state=1, max_iter = 500)\n",
    "\n",
    "clf.fit(X_train, y_train)\n",
    "\n",
    "\n",
    "accuracy = clf.score(X_val, y_val)\n",
    "print(\"Accuracy: \",accuracy) \n",
    "\n",
    "probs = clf.predict_log_proba(X_val)\n",
    "\n",
    "correct = 0\n",
    "y_val_am = y_val.argmax(axis=1)\n",
    "probs_am = probs.argmax(axis=1)\n",
    "\n",
    "for i in range(len(y_val_am)):\n",
    "    if y_val_am[i] == probs_am[i]:\n",
    "        correct += 1\n",
    "        \n",
    "print(\"Confusion Matrix: \\n\", confusion_matrix(y_val_am, probs_am))\n",
    "print(\"\\nAccuracy: \", correct/probs.shape[0])"
   ]
  }
 ],
 "metadata": {
  "kernelspec": {
   "display_name": "Python 3 (ipykernel)",
   "language": "python",
   "name": "python3"
  },
  "language_info": {
   "codemirror_mode": {
    "name": "ipython",
    "version": 3
   },
   "file_extension": ".py",
   "mimetype": "text/x-python",
   "name": "python",
   "nbconvert_exporter": "python",
   "pygments_lexer": "ipython3",
   "version": "3.9.7"
  }
 },
 "nbformat": 4,
 "nbformat_minor": 5
}
