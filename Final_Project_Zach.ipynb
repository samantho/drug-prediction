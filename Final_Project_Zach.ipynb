{
 "cells": [
  {
   "cell_type": "code",
   "execution_count": 1,
   "id": "25ee3b2a-a664-4d5a-b8ca-c937bc9dd24d",
   "metadata": {},
   "outputs": [],
   "source": [
    "import numpy as np\n",
    "import pandas as pd"
   ]
  },
  {
   "cell_type": "code",
   "execution_count": 2,
   "id": "d83a3d7b",
   "metadata": {
    "scrolled": true
   },
   "outputs": [],
   "source": [
    "# Import Dataset\n",
    "data_og = pd.read_csv('http://archive.ics.uci.edu/ml/machine-learning-databases/00373/drug_consumption.data', sep=\",\", names=['Age','Gender','Education','Country','Ethnicity','Nscore','Escore','Oscore','Ascore','Cscore','Impulsive','SS','Alcohol','Amphet','Amyl','Benzos','Caff','Cannabis','Choc','Coke','Crack','Ecstasy','Heroin','Ketamine','Legalh','LSD','Meth','Mushrooms','Nicotine','Semer','VSA'])\n",
    "data_og.head()\n",
    "\n",
    "data = pd.read_csv('drugs.csv')"
   ]
  },
  {
   "cell_type": "code",
   "execution_count": 3,
   "id": "66a0ecba",
   "metadata": {},
   "outputs": [
    {
     "name": "stderr",
     "output_type": "stream",
     "text": [
      "C:\\Users\\Zack\\AppData\\Local\\Temp/ipykernel_20980/3832084421.py:3: FutureWarning: In a future version of pandas all arguments of DataFrame.drop except for the argument 'labels' will be keyword-only\n",
      "  d = d.drop('Semer', 1)\n",
      "C:\\Users\\Zack\\AppData\\Local\\Temp/ipykernel_20980/3832084421.py:5: FutureWarning: In a future version of pandas all arguments of DataFrame.drop except for the argument 'labels' will be keyword-only\n",
      "  d = d.drop(['Cannabis'], 1)\n"
     ]
    }
   ],
   "source": [
    "d = data_og\n",
    "d.drop(d[d['Semer'] != 'CL0'].index, inplace = True)\n",
    "d = d.drop('Semer', 1)\n",
    "cannabis = d['Cannabis']\n",
    "d = d.drop(['Cannabis'], 1)"
   ]
  },
  {
   "cell_type": "markdown",
   "id": "a395d29c",
   "metadata": {},
   "source": [
    "One-hot encoding for qualitative variables"
   ]
  },
  {
   "cell_type": "code",
   "execution_count": 4,
   "id": "88a0efc4",
   "metadata": {},
   "outputs": [],
   "source": [
    "\n",
    "drug_labels = ['Alcohol','Amphet','Amyl','Benzos','Caff','Choc','Coke','Crack','Ecstasy','Heroin','Ketamine','Legalh','LSD','Meth','Mushrooms','Nicotine','VSA']\n",
    "personality_labels = ['Nscore','Escore','Oscore','Ascore','Cscore','Impulsive','SS']\n",
    "demographic_labels = ['Age','Gender','Education','Country','Ethnicity']\n",
    "sch_labels = ['Sch1','Sch2','Sch3','Sch4','SchNA']\n",
    "for drug in drug_labels:\n",
    "    d[drug] = np.where(d[drug] == 'CL0', 0, 1)\n",
    "    # not a user = 0, user = 1\n",
    "    \n",
    "    \n",
    "x = d\n",
    "\n",
    "#for p in personality_labels:\n",
    "    #x[p] = x[p].astype('category').cat.codes.to_numpy()\n",
    "x = pd.get_dummies(x, columns=(personality_labels))\n",
    "    \n",
    "#for d in demographic_labels:\n",
    "#    x[d] = x[d].astype('category').cat.codes.to_numpy()\n",
    "x = pd.get_dummies(x, columns=(demographic_labels))"
   ]
  },
  {
   "cell_type": "markdown",
   "id": "635ecd4a",
   "metadata": {},
   "source": [
    "One-hot encoding of classes (CL0 - CL6) for target"
   ]
  },
  {
   "cell_type": "code",
   "execution_count": 5,
   "id": "f5b71a42",
   "metadata": {},
   "outputs": [],
   "source": [
    "targets = cannabis.astype('category').cat.codes.to_numpy()\n",
    "y = np.zeros((7,len(targets)))\n",
    "for m in range(len(targets)):\n",
    "    y[targets[m], m] = 1\n",
    "\n",
    "\n",
    "y = y.T\n",
    "\n",
    "#print(x.shape,y.shape)\n",
    "#for col in x.columns:\n",
    "#    print(col)"
   ]
  },
  {
   "cell_type": "markdown",
   "id": "3968486f",
   "metadata": {},
   "source": [
    "Split data into train and test, create and fit classifier"
   ]
  },
  {
   "cell_type": "code",
   "execution_count": 6,
   "id": "86fb9fc6",
   "metadata": {
    "scrolled": true
   },
   "outputs": [],
   "source": [
    "from sklearn.model_selection import train_test_split\n",
    "\n",
    "X_train, X_test, y_train, y_test = train_test_split(x, y, test_size=0.2)"
   ]
  },
  {
   "cell_type": "code",
   "execution_count": 7,
   "id": "9e0f6754",
   "metadata": {},
   "outputs": [
    {
     "name": "stdout",
     "output_type": "stream",
     "text": [
      "277 input nodes,  7 output nodes\n"
     ]
    },
    {
     "name": "stderr",
     "output_type": "stream",
     "text": [
      "C:\\Users\\Zack\\anaconda3\\lib\\site-packages\\sklearn\\neural_network\\_multilayer_perceptron.py:614: ConvergenceWarning: Stochastic Optimizer: Maximum iterations (500) reached and the optimization hasn't converged yet.\n",
      "  warnings.warn(\n"
     ]
    },
    {
     "data": {
      "text/plain": [
       "MLPClassifier(hidden_layer_sizes=(16,), max_iter=500, random_state=1,\n",
       "              solver='sgd')"
      ]
     },
     "execution_count": 7,
     "metadata": {},
     "output_type": "execute_result"
    }
   ],
   "source": [
    "from sklearn.neural_network import MLPClassifier\n",
    "\n",
    "print(X_train.shape[1], 'input nodes, ', y_train.shape[1], 'output nodes')\n",
    "clf = MLPClassifier(solver='sgd', activation='relu',\n",
    "                    hidden_layer_sizes=(16,), random_state=1, max_iter = 500)\n",
    "clf.fit(X_train, y_train)"
   ]
  },
  {
   "cell_type": "markdown",
   "id": "c6354df1",
   "metadata": {},
   "source": [
    "Using .score results in 25.5% accuracy. However, this is a  multi-class classifier, so some of its predictions have multiple output neurons active and some have none. Using argmax of each probability prediction is a better indicator for our output with only a single class, which brings the accuracy up to 45.4%."
   ]
  },
  {
   "cell_type": "code",
   "execution_count": 8,
   "id": "e2e5a03d",
   "metadata": {},
   "outputs": [
    {
     "name": "stdout",
     "output_type": "stream",
     "text": [
      "Accuracy:  0.2553191489361702\n"
     ]
    }
   ],
   "source": [
    "from sklearn.metrics import accuracy_score, confusion_matrix\n",
    "\n",
    "accuracy = clf.score(X_test, y_test)\n",
    "print(\"Accuracy: \",accuracy) \n"
   ]
  },
  {
   "cell_type": "code",
   "execution_count": 9,
   "id": "2a2de937",
   "metadata": {
    "scrolled": true
   },
   "outputs": [
    {
     "name": "stdout",
     "output_type": "stream",
     "text": [
      "Confusion Matrix: \n",
      " [[72  3  8  1  0  0  4]\n",
      " [25 11  7  2  0  0  3]\n",
      " [11  0 14  5  0  0 13]\n",
      " [ 2  3  8  2  0  0 18]\n",
      " [ 3  1  2  1  0  0 26]\n",
      " [ 0  0  4  3  0  0 38]\n",
      " [ 1  3  9  1  0  0 72]]\n",
      "\n",
      "Accuracy:  0.45478723404255317\n"
     ]
    }
   ],
   "source": [
    "probs = clf.predict_log_proba(X_test)\n",
    "\n",
    "print(\"Confusion Matrix: \\n\", confusion_matrix(y_test.argmax(axis=1), probs.argmax(axis=1)))\n",
    "print(\"\\nAccuracy: \", correct/probs.shape[0])\n"
   ]
  },
  {
   "cell_type": "markdown",
   "id": "d273e067",
   "metadata": {},
   "source": [
    "----------\n",
    "\n",
    "Multiclass, only drugs"
   ]
  },
  {
   "cell_type": "markdown",
   "id": "c7276803",
   "metadata": {},
   "source": [
    "For similar reasons to above, using argmax increases the model's accuracy from 18.0% all the way up to 83.2%. Stark increase in accuracy when compared to including demographic and personality data. "
   ]
  },
  {
   "cell_type": "code",
   "execution_count": 81,
   "id": "de012fe0",
   "metadata": {},
   "outputs": [
    {
     "name": "stderr",
     "output_type": "stream",
     "text": [
      "C:\\Users\\Zack\\AppData\\Local\\Temp/ipykernel_20980/2714676579.py:3: FutureWarning: In a future version of pandas all arguments of DataFrame.drop except for the argument 'labels' will be keyword-only\n",
      "  x = x.drop(l, 1)\n",
      "C:\\Users\\Zack\\AppData\\Local\\Temp/ipykernel_20980/2714676579.py:6: FutureWarning: In a future version of pandas all arguments of DataFrame.drop except for the argument 'labels' will be keyword-only\n",
      "  x = x.drop(l, 1)\n"
     ]
    },
    {
     "name": "stdout",
     "output_type": "stream",
     "text": [
      "(1877, 17) (1877, 7)\n",
      "Accuracy:  0.18085106382978725\n",
      "Confusion Matrix: \n",
      " [[79  0  5  0  0  0  2]\n",
      " [25  0  9  0  0  0  7]\n",
      " [18  0  5  0  0  0 21]\n",
      " [ 6  0  7  0  0  0 35]\n",
      " [ 6  0  2  0  0  0 21]\n",
      " [ 2  0  3  0  0  0 34]\n",
      " [ 7  0  4  0  0  0 78]]\n",
      "\n",
      "Accuracy:  0.8324468085106383\n"
     ]
    },
    {
     "name": "stderr",
     "output_type": "stream",
     "text": [
      "C:\\Users\\Zack\\anaconda3\\lib\\site-packages\\sklearn\\neural_network\\_multilayer_perceptron.py:614: ConvergenceWarning: Stochastic Optimizer: Maximum iterations (500) reached and the optimization hasn't converged yet.\n",
      "  warnings.warn(\n"
     ]
    }
   ],
   "source": [
    "x = d\n",
    "for l in demographic_labels:\n",
    "    x = x.drop(l, 1)\n",
    "    \n",
    "for l in personality_labels:\n",
    "    x = x.drop(l, 1)\n",
    "    \n",
    "    \n",
    "targets = cannabis.astype('category').cat.codes.to_numpy()\n",
    "y = np.zeros((7,len(targets)))\n",
    "for m in range(len(targets)):\n",
    "    y[targets[m], m] = 1\n",
    "\n",
    "\n",
    "y = y.T\n",
    "\n",
    "print(x.shape, y.shape)\n",
    "\n",
    "X_train, X_test, y_train, y_test = train_test_split(x, y, test_size=0.2)\n",
    "\n",
    "clf = MLPClassifier(solver='sgd', activation='relu',\n",
    "                    hidden_layer_sizes=(12,), random_state=1, max_iter = 500)\n",
    "clf.fit(X_train, y_train)\n",
    "\n",
    "accuracy = clf.score(X_test, y_test)\n",
    "print(\"Accuracy: \",accuracy) \n",
    "\n",
    "probs = clf.predict_log_proba(X_test)\n",
    "\n",
    "print(\"Confusion Matrix: \\n\", confusion_matrix(y_test.argmax(axis=1), probs.argmax(axis=1)))\n",
    "print(\"\\nAccuracy: \", correct/probs.shape[0])"
   ]
  },
  {
   "cell_type": "markdown",
   "id": "4216a45e",
   "metadata": {},
   "source": [
    "-----------\n",
    "\n",
    "multiclass, only drug schedules"
   ]
  },
  {
   "cell_type": "markdown",
   "id": "688576e9",
   "metadata": {},
   "source": [
    "argmax brings it up from 13.8% to 83.2%. "
   ]
  },
  {
   "cell_type": "code",
   "execution_count": 82,
   "id": "2604d5be",
   "metadata": {},
   "outputs": [
    {
     "name": "stderr",
     "output_type": "stream",
     "text": [
      "C:\\Users\\Zack\\AppData\\Local\\Temp/ipykernel_20980/1446547358.py:4: FutureWarning: In a future version of pandas all arguments of DataFrame.drop except for the argument 'labels' will be keyword-only\n",
      "  x = x.drop(l, 1)\n",
      "C:\\Users\\Zack\\AppData\\Local\\Temp/ipykernel_20980/1446547358.py:7: FutureWarning: In a future version of pandas all arguments of DataFrame.drop except for the argument 'labels' will be keyword-only\n",
      "  x = x.drop(l, 1)\n",
      "C:\\Users\\Zack\\AppData\\Local\\Temp/ipykernel_20980/1446547358.py:10: FutureWarning: In a future version of pandas all arguments of DataFrame.drop except for the argument 'labels' will be keyword-only\n",
      "  x = x.drop(l, 1)\n",
      "C:\\Users\\Zack\\AppData\\Local\\Temp/ipykernel_20980/1446547358.py:12: FutureWarning: In a future version of pandas all arguments of DataFrame.drop except for the argument 'labels' will be keyword-only\n",
      "  x = x.drop(['Cannabis'], 1)\n"
     ]
    },
    {
     "name": "stdout",
     "output_type": "stream",
     "text": [
      "(1877, 5) (1877, 7)\n",
      "Accuracy:  0.13829787234042554\n",
      "Confusion Matrix: \n",
      " [[69  0  0  0  0  0  0]\n",
      " [30  0  0  0  0  0 25]\n",
      " [24  0  0  0  0  0 34]\n",
      " [ 8  0  0  0  0  0 27]\n",
      " [ 4  0  0  0  0  0 23]\n",
      " [ 6  0  0  0  0  0 36]\n",
      " [ 4  0  0  0  0  0 86]]\n",
      "\n",
      "Accuracy:  0.8324468085106383\n"
     ]
    }
   ],
   "source": [
    "x = data\n",
    "\n",
    "for l in demographic_labels:\n",
    "    x = x.drop(l, 1)\n",
    "    \n",
    "for l in personality_labels:\n",
    "    x = x.drop(l, 1)\n",
    "    \n",
    "for l in drug_labels:\n",
    "    x = x.drop(l, 1)\n",
    "    \n",
    "x = x.drop(['Cannabis'], 1)\n",
    "    \n",
    "targets = cannabis.astype('category').cat.codes.to_numpy()\n",
    "y = np.zeros((7,len(targets)))\n",
    "for m in range(len(targets)):\n",
    "    y[targets[m], m] = 1\n",
    "\n",
    "\n",
    "y = y.T\n",
    "\n",
    "print(x.shape, y.shape)\n",
    "\n",
    "X_train, X_test, y_train, y_test = train_test_split(x, y, test_size=0.2)\n",
    "\n",
    "clf = MLPClassifier(solver='sgd', activation='relu',\n",
    "                    hidden_layer_sizes=(5,), random_state=1, max_iter = 500)\n",
    "clf.fit(X_train, y_train)\n",
    "\n",
    "accuracy = clf.score(X_test, y_test)\n",
    "print(\"Accuracy: \",accuracy) \n",
    "\n",
    "probs = clf.predict_log_proba(X_test)\n",
    "\n",
    "print(\"Confusion Matrix: \\n\", confusion_matrix(y_test.argmax(axis=1), probs.argmax(axis=1)))\n",
    "print(\"\\nAccuracy: \", correct/probs.shape[0])"
   ]
  },
  {
   "cell_type": "markdown",
   "id": "554cdcf4",
   "metadata": {},
   "source": [
    "Both multiclass models have a tendency to only guess C0 and C6, so it is not as robust as the 83% number may seem."
   ]
  },
  {
   "cell_type": "markdown",
   "id": "0ec1b8c8",
   "metadata": {},
   "source": [
    " ----------------------\n",
    " \n",
    " Binary classification, all input variables"
   ]
  },
  {
   "cell_type": "code",
   "execution_count": 10,
   "id": "11b44a80",
   "metadata": {},
   "outputs": [],
   "source": [
    "newtargets = np.where(targets == 0, 0, 1)\n",
    "\n",
    "y = np.zeros((2,len(newtargets)))\n",
    "for m in range(len(newtargets)):\n",
    "    y[newtargets[m], m] = 1\n",
    "y = y.T"
   ]
  },
  {
   "cell_type": "markdown",
   "id": "3dda3733",
   "metadata": {},
   "source": [
    "Training a new model for binary classification output"
   ]
  },
  {
   "cell_type": "code",
   "execution_count": 11,
   "id": "379d689f",
   "metadata": {},
   "outputs": [
    {
     "name": "stderr",
     "output_type": "stream",
     "text": [
      "C:\\Users\\Zack\\anaconda3\\lib\\site-packages\\sklearn\\neural_network\\_multilayer_perceptron.py:614: ConvergenceWarning: Stochastic Optimizer: Maximum iterations (500) reached and the optimization hasn't converged yet.\n",
      "  warnings.warn(\n"
     ]
    },
    {
     "data": {
      "text/plain": [
       "MLPClassifier(hidden_layer_sizes=(16,), max_iter=500, random_state=1,\n",
       "              solver='sgd')"
      ]
     },
     "execution_count": 11,
     "metadata": {},
     "output_type": "execute_result"
    }
   ],
   "source": [
    "X_train, X_test, y_train, y_test = train_test_split(x, y, test_size=0.2)\n",
    "\n",
    "clf = MLPClassifier(solver='sgd', activation='relu',\n",
    "                    hidden_layer_sizes=(16,), random_state=1, max_iter = 500)\n",
    "\n",
    "clf.fit(X_train, y_train)"
   ]
  },
  {
   "cell_type": "markdown",
   "id": "043986b6",
   "metadata": {},
   "source": [
    "Just as previously done, argmax of each probability prediction was used, which brings the accuracy up slightly from 85.6% to 86.2%. This jump is expected to be only slight due to the greatly reduced number of output classifications available, and so the backwards propogation doesn't reward a non-classification as much in this scenario."
   ]
  },
  {
   "cell_type": "code",
   "execution_count": 12,
   "id": "4c3a62e4",
   "metadata": {},
   "outputs": [
    {
     "name": "stdout",
     "output_type": "stream",
     "text": [
      "Accuracy:  0.8563829787234043\n"
     ]
    }
   ],
   "source": [
    "accuracy = clf.score(X_test, y_test)\n",
    "print(\"Accuracy: \",accuracy) "
   ]
  },
  {
   "cell_type": "code",
   "execution_count": 13,
   "id": "a40b7c8d",
   "metadata": {},
   "outputs": [
    {
     "name": "stdout",
     "output_type": "stream",
     "text": [
      "Confusion Matrix: \n",
      " [[ 58  24]\n",
      " [ 28 266]]\n",
      "\n",
      "Accuracy:  0.8617021276595744\n"
     ]
    }
   ],
   "source": [
    "probs = clf.predict_log_proba(X_test)\n",
    "\n",
    "print(\"Confusion Matrix: \\n\", confusion_matrix(y_test.argmax(axis=1), probs.argmax(axis=1)))\n",
    "print(\"\\nAccuracy: \", correct/probs.shape[0])"
   ]
  },
  {
   "cell_type": "markdown",
   "id": "2cb88f8c",
   "metadata": {},
   "source": [
    "------------------\n",
    "\n",
    "Binary classification of the output using only drugs as input variables (no demographics or personality types). This ended up being the most accurate prediction model. "
   ]
  },
  {
   "cell_type": "code",
   "execution_count": 14,
   "id": "137f4220",
   "metadata": {},
   "outputs": [
    {
     "name": "stderr",
     "output_type": "stream",
     "text": [
      "C:\\Users\\Zack\\AppData\\Local\\Temp/ipykernel_20980/4018020744.py:3: FutureWarning: In a future version of pandas all arguments of DataFrame.drop except for the argument 'labels' will be keyword-only\n",
      "  x = x.drop(l, 1)\n",
      "C:\\Users\\Zack\\AppData\\Local\\Temp/ipykernel_20980/4018020744.py:6: FutureWarning: In a future version of pandas all arguments of DataFrame.drop except for the argument 'labels' will be keyword-only\n",
      "  x = x.drop(l, 1)\n"
     ]
    }
   ],
   "source": [
    "x = d\n",
    "for l in demographic_labels:\n",
    "    x = x.drop(l, 1)\n",
    "    \n",
    "for l in personality_labels:\n",
    "    x = x.drop(l, 1)\n"
   ]
  },
  {
   "cell_type": "code",
   "execution_count": 26,
   "id": "0b785241",
   "metadata": {},
   "outputs": [
    {
     "name": "stderr",
     "output_type": "stream",
     "text": [
      "C:\\Users\\Zack\\anaconda3\\lib\\site-packages\\sklearn\\neural_network\\_multilayer_perceptron.py:614: ConvergenceWarning: Stochastic Optimizer: Maximum iterations (500) reached and the optimization hasn't converged yet.\n",
      "  warnings.warn(\n"
     ]
    },
    {
     "data": {
      "text/plain": [
       "MLPClassifier(hidden_layer_sizes=(12,), max_iter=500, random_state=1,\n",
       "              solver='sgd')"
      ]
     },
     "execution_count": 26,
     "metadata": {},
     "output_type": "execute_result"
    }
   ],
   "source": [
    "X_train, X_test, y_train, y_test = train_test_split(x, y, test_size=0.2)\n",
    "\n",
    "clf = MLPClassifier(solver='sgd', activation='relu',\n",
    "                    hidden_layer_sizes=(12,), random_state=1, max_iter = 500)\n",
    "\n",
    "clf.fit(X_train, y_train)"
   ]
  },
  {
   "cell_type": "markdown",
   "id": "00dfbfac",
   "metadata": {},
   "source": [
    "Argmax of each probability prediction was used, which brings the accuracy up slightly from 89.3% to 89.6%."
   ]
  },
  {
   "cell_type": "code",
   "execution_count": 27,
   "id": "2d0b9cde",
   "metadata": {},
   "outputs": [
    {
     "name": "stdout",
     "output_type": "stream",
     "text": [
      "Accuracy:  0.8936170212765957\n"
     ]
    }
   ],
   "source": [
    "accuracy = clf.score(X_test, y_test)\n",
    "print(\"Accuracy: \",accuracy) "
   ]
  },
  {
   "cell_type": "code",
   "execution_count": 28,
   "id": "07ef4767",
   "metadata": {},
   "outputs": [
    {
     "name": "stdout",
     "output_type": "stream",
     "text": [
      "Confusion Matrix: \n",
      " [[ 51  27]\n",
      " [ 12 286]]\n",
      "\n",
      "Accuracy:  0.8962765957446809\n"
     ]
    }
   ],
   "source": [
    "probs = clf.predict_log_proba(X_test)\n",
    "\n",
    "print(\"Confusion Matrix: \\n\", confusion_matrix(y_test.argmax(axis=1), probs.argmax(axis=1)))\n",
    "print(\"\\nAccuracy: \", correct/probs.shape[0])"
   ]
  },
  {
   "cell_type": "markdown",
   "id": "70118250",
   "metadata": {},
   "source": [
    "-------------------------\n",
    "\n",
    "Binary classification of the output using only drug classifications as input variables (no demographics, personality types, or usage of individual drugs)\n"
   ]
  },
  {
   "cell_type": "code",
   "execution_count": 34,
   "id": "0c7c71c3",
   "metadata": {},
   "outputs": [
    {
     "name": "stderr",
     "output_type": "stream",
     "text": [
      "C:\\Users\\Zack\\AppData\\Local\\Temp/ipykernel_20980/886407707.py:4: FutureWarning: In a future version of pandas all arguments of DataFrame.drop except for the argument 'labels' will be keyword-only\n",
      "  x = x.drop(l, 1)\n",
      "C:\\Users\\Zack\\AppData\\Local\\Temp/ipykernel_20980/886407707.py:7: FutureWarning: In a future version of pandas all arguments of DataFrame.drop except for the argument 'labels' will be keyword-only\n",
      "  x = x.drop(l, 1)\n",
      "C:\\Users\\Zack\\AppData\\Local\\Temp/ipykernel_20980/886407707.py:10: FutureWarning: In a future version of pandas all arguments of DataFrame.drop except for the argument 'labels' will be keyword-only\n",
      "  x = x.drop(l, 1)\n",
      "C:\\Users\\Zack\\AppData\\Local\\Temp/ipykernel_20980/886407707.py:12: FutureWarning: In a future version of pandas all arguments of DataFrame.drop except for the argument 'labels' will be keyword-only\n",
      "  x = x.drop(['Cannabis'], 1)\n"
     ]
    }
   ],
   "source": [
    "x = data\n",
    "\n",
    "for l in demographic_labels:\n",
    "    x = x.drop(l, 1)\n",
    "    \n",
    "for l in personality_labels:\n",
    "    x = x.drop(l, 1)\n",
    "    \n",
    "for l in drug_labels:\n",
    "    x = x.drop(l, 1)\n",
    "    \n",
    "x = x.drop(['Cannabis'], 1)"
   ]
  },
  {
   "cell_type": "code",
   "execution_count": 35,
   "id": "13a6534d",
   "metadata": {},
   "outputs": [
    {
     "data": {
      "text/plain": [
       "Index(['Sch1', 'Sch2', 'Sch3', 'Sch4', 'SchNA'], dtype='object')"
      ]
     },
     "execution_count": 35,
     "metadata": {},
     "output_type": "execute_result"
    }
   ],
   "source": [
    "x.columns"
   ]
  },
  {
   "cell_type": "code",
   "execution_count": 47,
   "id": "e7b845e7",
   "metadata": {},
   "outputs": [
    {
     "data": {
      "text/plain": [
       "MLPClassifier(hidden_layer_sizes=(5,), max_iter=500, random_state=1,\n",
       "              solver='sgd')"
      ]
     },
     "execution_count": 47,
     "metadata": {},
     "output_type": "execute_result"
    }
   ],
   "source": [
    "X_train, X_test, y_train, y_test = train_test_split(x, y, test_size=0.2)\n",
    "\n",
    "clf = MLPClassifier(solver='sgd', activation='relu',\n",
    "                    hidden_layer_sizes=(5,), random_state=1, max_iter = 500)\n",
    "\n",
    "clf.fit(X_train, y_train)"
   ]
  },
  {
   "cell_type": "markdown",
   "id": "8b3040ba",
   "metadata": {},
   "source": [
    "Argmax of each probability prediction was used, which brings the accuracy up slightly from 81.4% to 83.2%."
   ]
  },
  {
   "cell_type": "code",
   "execution_count": 48,
   "id": "aa55834d",
   "metadata": {},
   "outputs": [
    {
     "name": "stdout",
     "output_type": "stream",
     "text": [
      "Accuracy:  0.8138297872340425\n",
      "Training Accuracy:  0.8181212524983345\n"
     ]
    }
   ],
   "source": [
    "accuracy = clf.score(X_test, y_test)\n",
    "print(\"Accuracy: \",accuracy) \n",
    "\n",
    "taccuracy = clf.score(X_train, y_train)\n",
    "print(\"Training Accuracy: \",taccuracy) "
   ]
  },
  {
   "cell_type": "code",
   "execution_count": 75,
   "id": "a9db8c4f",
   "metadata": {},
   "outputs": [
    {
     "name": "stdout",
     "output_type": "stream",
     "text": [
      "Confusion Matrix: \n",
      " [[ 64  19]\n",
      " [ 44 249]]\n",
      "\n",
      "Accuracy:  0.8324468085106383\n"
     ]
    }
   ],
   "source": [
    "probs = clf.predict_log_proba(X_test)\n",
    "\n",
    "print(\"Confusion Matrix: \\n\", confusion_matrix(y_test.argmax(axis=1), probs.argmax(axis=1)))\n",
    "print(\"\\nAccuracy: \", correct/probs.shape[0])"
   ]
  },
  {
   "cell_type": "code",
   "execution_count": 42,
   "id": "7f2e0d43",
   "metadata": {},
   "outputs": [
    {
     "name": "stdout",
     "output_type": "stream",
     "text": [
      "(376, 5) (376, 2)\n"
     ]
    }
   ],
   "source": [
    "print(X_test.shape, y_test.shape)"
   ]
  },
  {
   "cell_type": "code",
   "execution_count": 79,
   "id": "6926a960",
   "metadata": {},
   "outputs": [
    {
     "data": {
      "text/plain": [
       "[array([[-6.01928455e-02,  6.64220694e-02, -4.28120477e-01,\n",
       "         -2.61525595e-01, -3.81764588e-01, -4.42569607e-01,\n",
       "         -1.79962064e-01,  3.21498779e-01,  9.17126628e-02,\n",
       "         -2.76389025e-02, -1.59960505e-01,  7.27329287e-01],\n",
       "        [-2.89955785e-01,  2.21044473e-01, -4.29934217e-01,\n",
       "          5.11629352e-02, -1.49544556e-01,  1.01784073e-02,\n",
       "         -3.29017474e-01,  8.07515869e-02,  3.29630296e-01,\n",
       "          3.66388982e-01, -1.74262944e-01, -4.45372528e-01],\n",
       "        [ 3.88878762e-01,  2.52424006e-01, -3.77484149e-01,\n",
       "         -4.27038765e-01, -3.06481635e-01,  2.64549138e-01,\n",
       "         -3.86246453e-01, -2.27280414e-01,  7.60850223e-01,\n",
       "          7.96082051e-04,  1.53673126e-01, -2.85869438e-01],\n",
       "        [ 1.65708285e-01,  1.81479329e-01, -4.41709269e-01,\n",
       "          1.40594930e-01,  3.82481575e-01,  2.04768735e-01,\n",
       "         -1.67680853e-01,  1.56742183e-01, -1.23894048e-01,\n",
       "         -6.95581096e-02,  3.06534137e-01, -2.10483502e-01],\n",
       "        [-1.83102958e-01, -4.67084536e-01, -4.30929277e-01,\n",
       "          5.49365717e-02, -3.19425205e-01, -2.94349499e-01,\n",
       "          2.47094346e-02,  1.26165591e-01,  1.56292299e-01,\n",
       "         -3.81453897e-01, -6.08730024e-03,  8.52747029e-01],\n",
       "        [-3.34749229e-01, -2.03174512e-01,  1.83161373e-01,\n",
       "         -1.80839124e-01, -4.80461931e-01, -1.24880616e-02,\n",
       "          1.74877870e-01,  5.12168595e-01,  4.64348944e-01,\n",
       "          1.76084693e-02,  2.76084113e-01,  4.05172275e-01],\n",
       "        [-3.20764272e-01,  1.51015137e-01, -9.30831023e-02,\n",
       "         -3.68870599e-01,  3.23560705e-01, -1.50628845e-01,\n",
       "          2.22063861e-01,  2.62322642e-01,  4.98140024e-01,\n",
       "          7.16598115e-02,  2.26606568e-01, -4.08280591e-01],\n",
       "        [-2.17939959e-01,  3.14655623e-01, -5.82934102e-02,\n",
       "          3.78778948e-01,  1.14232120e-01,  9.31603982e-02,\n",
       "         -3.42349677e-01,  2.38240074e-01,  1.00157820e-01,\n",
       "          7.19683976e-02, -8.27660801e-02, -2.99468866e-01],\n",
       "        [ 3.57483448e-01, -3.31226851e-02, -4.52237507e-01,\n",
       "         -1.38153782e-02, -2.04870759e-01, -1.24280705e-02,\n",
       "          4.20847353e-01,  3.57347052e-01,  2.29921017e-01,\n",
       "          6.66718216e-02, -4.41056283e-01, -3.64309395e-01],\n",
       "        [ 1.87736404e-01,  3.78168395e-01, -3.09727708e-01,\n",
       "         -3.35204433e-01,  3.50038850e-01,  1.75333760e-01,\n",
       "         -3.92103211e-01,  4.96019004e-03,  2.76636130e-01,\n",
       "          3.69169622e-01,  1.88457714e-01, -3.54362193e-01],\n",
       "        [-4.36763733e-01, -4.60514043e-01, -4.29098301e-01,\n",
       "         -2.43699850e-01,  3.09621179e-01,  2.45587056e-02,\n",
       "          7.49692263e-02,  2.31161283e-01, -3.58373151e-01,\n",
       "         -2.04032919e-01,  7.72227536e-02,  1.26023749e-01],\n",
       "        [ 5.24724877e-02, -4.49888083e-01,  2.48666650e-01,\n",
       "         -3.38309672e-01,  2.20143023e-01, -1.35221352e-01,\n",
       "          3.84430874e-01,  8.57099072e-01, -2.85599026e-01,\n",
       "         -3.42746249e-01, -4.01433653e-01, -9.00001323e-01],\n",
       "        [-3.84529354e-01, -4.21187653e-01, -2.62123708e-01,\n",
       "          9.58740914e-02,  5.74605422e-03, -4.51923806e-01,\n",
       "         -3.50812036e-01,  6.20948370e-01, -5.09860358e-02,\n",
       "         -2.73000947e-01, -2.30017143e-01, -5.39253213e-01],\n",
       "        [-2.75422882e-01,  4.21030195e-03,  4.01535371e-01,\n",
       "          2.56584400e-01, -2.64477000e-01, -1.69975100e-02,\n",
       "          1.53819158e-01,  2.54285286e-01, -3.08449673e-01,\n",
       "         -4.42959704e-01, -3.92911437e-01, -1.97019605e-01],\n",
       "        [ 1.14699208e-01,  9.69379186e-04, -1.77990084e-01,\n",
       "          3.22483620e-01,  1.85943907e-02, -1.28616298e-01,\n",
       "          9.83532542e-02,  6.44053157e-01, -3.16666703e-02,\n",
       "         -2.21734796e-01, -3.95180793e-01, -7.28083336e-01],\n",
       "        [ 1.11900597e-01, -3.70455362e-01,  2.48265592e-01,\n",
       "         -4.88034433e-01, -2.62826668e-01,  2.24504758e-01,\n",
       "         -2.05830635e-01,  3.86023450e-01,  3.86989009e-01,\n",
       "          3.25240335e-01, -2.44573108e-01, -8.99422228e-01],\n",
       "        [ 2.25673673e-01,  1.86569518e-01,  3.75517288e-01,\n",
       "          3.31509524e-01, -4.34056119e-01, -2.51941816e-01,\n",
       "          1.06197595e-01,  3.02317145e-01,  3.82062687e-01,\n",
       "          4.95132448e-02,  3.57728686e-01, -9.88678445e-02]]),\n",
       " array([[-0.54831117,  0.50190672,  0.35032886, -0.5326295 , -0.36469831,\n",
       "         -0.15249367, -0.44413651],\n",
       "        [ 0.29194662, -0.18258586,  0.47280639,  0.09098467,  0.40096347,\n",
       "          0.38119265,  0.4121794 ],\n",
       "        [-0.04368922,  0.04664873,  0.32744771, -0.24825427, -0.02283775,\n",
       "          0.10512478, -0.52131415],\n",
       "        [ 0.06496493, -0.10071002,  0.30279318, -0.23268828,  0.43060576,\n",
       "          0.05503489, -0.30591657],\n",
       "        [ 0.30662626,  0.10453179, -0.50949321, -0.09341737,  0.19941073,\n",
       "          0.4646161 , -0.5497448 ],\n",
       "        [ 0.55186887, -0.16494938,  0.52735807,  0.11357996,  0.35024406,\n",
       "          0.06071118,  0.11623738],\n",
       "        [-0.23766293,  0.02607685,  0.22628248,  0.38686998,  0.26424853,\n",
       "          0.28928033,  0.4443389 ],\n",
       "        [-1.13886889, -0.60490673, -0.58833904, -0.29675999, -0.16153473,\n",
       "         -0.12817587,  0.23246131],\n",
       "        [-0.64545725,  0.14009111,  0.62605335,  0.18457325, -0.34080226,\n",
       "         -0.10494556, -0.39889304],\n",
       "        [ 0.32226647,  0.41811091,  0.44990688,  0.19077544, -0.26239909,\n",
       "         -0.2859908 ,  0.38786921],\n",
       "        [ 0.03391732,  0.32972905,  0.10538003,  0.24570648,  0.00868289,\n",
       "          0.28402931,  0.04940321],\n",
       "        [ 1.1356462 , -0.15785058, -0.38668243, -0.92460856, -0.85733035,\n",
       "         -0.99647028, -1.16358515]])]"
      ]
     },
     "execution_count": 79,
     "metadata": {},
     "output_type": "execute_result"
    }
   ],
   "source": [
    "clf.coefs_"
   ]
  },
  {
   "cell_type": "code",
   "execution_count": null,
   "id": "e6773481",
   "metadata": {},
   "outputs": [],
   "source": []
  },
  {
   "cell_type": "code",
   "execution_count": null,
   "id": "8ce5ca48",
   "metadata": {},
   "outputs": [],
   "source": []
  }
 ],
 "metadata": {
  "kernelspec": {
   "display_name": "Python 3 (ipykernel)",
   "language": "python",
   "name": "python3"
  },
  "language_info": {
   "codemirror_mode": {
    "name": "ipython",
    "version": 3
   },
   "file_extension": ".py",
   "mimetype": "text/x-python",
   "name": "python",
   "nbconvert_exporter": "python",
   "pygments_lexer": "ipython3",
   "version": "3.9.7"
  }
 },
 "nbformat": 4,
 "nbformat_minor": 5
}
