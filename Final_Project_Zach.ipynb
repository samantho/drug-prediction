{
 "cells": [
  {
   "cell_type": "code",
   "execution_count": null,
   "id": "25ee3b2a-a664-4d5a-b8ca-c937bc9dd24d",
   "metadata": {},
   "outputs": [],
   "source": []
  }
 ],
 "metadata": {
  "kernelspec": {
   "display_name": "Python 3 (ipykernel)",
   "language": "python",
   "name": "python3"
  },
  "language_info": {
   "name": ""
  }
 },
 "nbformat": 4,
 "nbformat_minor": 5
}
