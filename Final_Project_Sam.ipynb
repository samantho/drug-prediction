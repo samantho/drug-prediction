{
 "cells": [
  {
   "cell_type": "markdown",
   "id": "6eed78e5-79b1-4f3a-90e2-542fb5959731",
   "metadata": {
    "tags": []
   },
   "source": [
    "# Drug Consumption Final Project for COMP 562 - Random Forest Methods\n",
    "#### by Samantha Anthony"
   ]
  },
  {
   "cell_type": "markdown",
   "id": "bd54de4d-a938-47b7-8a03-67aae3b957f8",
   "metadata": {
    "jp-MarkdownHeadingCollapsed": true,
    "tags": []
   },
   "source": [
    "## Import Libraries and Data\n",
    "- X/y_train/val/test are full dataset without schedule classification\n",
    "- _sch are dataset with schedule classifications instead of drug labels\n",
    "- _X2 one-hot encodes categorical\n",
    "- _X3 label encodes categorical\n",
    "- y_train/val/test_bin are binary outputs"
   ]
  },
  {
   "cell_type": "code",
   "execution_count": 150,
   "id": "5c0ca0ed-f3ae-4bc2-9e5b-72973e8612f2",
   "metadata": {},
   "outputs": [],
   "source": [
    "import pandas as pd\n",
    "import numpy as np\n",
    "from sklearn.naive_bayes import GaussianNB\n",
    "from sklearn.naive_bayes import CategoricalNB\n",
    "from sklearn.inspection import permutation_importance\n",
    "\n",
    "drug_labels = ['Alcohol','Amphet','Amyl','Benzos','Caff','Choc','Coke','Crack','Ecstasy','Heroin','Ketamine','Legalh','LSD','Meth','Mushrooms','Nicotine','VSA']\n",
    "sched_1 = ['Heroin','LSD','Ecstasy','Mushrooms']\n",
    "sched_2 = ['Amphet','Coke','Crack','Meth']\n",
    "sched_3 = ['Ketamine']\n",
    "sched_4 = ['Benzos']\n",
    "not_controlled_substance = ['Alcohol','Amyl','Caff','Choc','Legalh','Nicotine','VSA']\n",
    "schedules = ['Sch1','Sch2','Sch3','Sch4', 'SchNA']\n",
    "personality_labels = ['Nscore','Escore','Oscore','Ascore','Cscore','Impulsive','SS']\n",
    "demographic_labels = ['Age','Gender','Education','Country','Ethnicity']\n",
    "target_label = ['Cannabis']"
   ]
  },
  {
   "cell_type": "code",
   "execution_count": 3,
   "id": "0c23b13c-7ef1-4b98-8e06-61baf6e72ce2",
   "metadata": {},
   "outputs": [
    {
     "name": "stdout",
     "output_type": "stream",
     "text": [
      "(1877, 35)\n"
     ]
    },
    {
     "data": {
      "text/html": [
       "<div>\n",
       "<style scoped>\n",
       "    .dataframe tbody tr th:only-of-type {\n",
       "        vertical-align: middle;\n",
       "    }\n",
       "\n",
       "    .dataframe tbody tr th {\n",
       "        vertical-align: top;\n",
       "    }\n",
       "\n",
       "    .dataframe thead th {\n",
       "        text-align: right;\n",
       "    }\n",
       "</style>\n",
       "<table border=\"1\" class=\"dataframe\">\n",
       "  <thead>\n",
       "    <tr style=\"text-align: right;\">\n",
       "      <th></th>\n",
       "      <th>Age</th>\n",
       "      <th>Gender</th>\n",
       "      <th>Education</th>\n",
       "      <th>Country</th>\n",
       "      <th>Ethnicity</th>\n",
       "      <th>Nscore</th>\n",
       "      <th>Escore</th>\n",
       "      <th>Oscore</th>\n",
       "      <th>Ascore</th>\n",
       "      <th>Cscore</th>\n",
       "      <th>...</th>\n",
       "      <th>LSD</th>\n",
       "      <th>Meth</th>\n",
       "      <th>Mushrooms</th>\n",
       "      <th>Nicotine</th>\n",
       "      <th>VSA</th>\n",
       "      <th>Sch1</th>\n",
       "      <th>Sch2</th>\n",
       "      <th>Sch3</th>\n",
       "      <th>Sch4</th>\n",
       "      <th>SchNA</th>\n",
       "    </tr>\n",
       "  </thead>\n",
       "  <tbody>\n",
       "    <tr>\n",
       "      <th>0</th>\n",
       "      <td>35-44</td>\n",
       "      <td>1</td>\n",
       "      <td>Professional certificate/ diploma</td>\n",
       "      <td>UK</td>\n",
       "      <td>Mixed-White/Asian</td>\n",
       "      <td>39.0</td>\n",
       "      <td>36.0</td>\n",
       "      <td>42.0</td>\n",
       "      <td>37.0</td>\n",
       "      <td>42.0</td>\n",
       "      <td>...</td>\n",
       "      <td>0</td>\n",
       "      <td>0</td>\n",
       "      <td>0</td>\n",
       "      <td>1</td>\n",
       "      <td>0</td>\n",
       "      <td>0</td>\n",
       "      <td>1</td>\n",
       "      <td>0</td>\n",
       "      <td>1</td>\n",
       "      <td>1</td>\n",
       "    </tr>\n",
       "    <tr>\n",
       "      <th>1</th>\n",
       "      <td>25-34</td>\n",
       "      <td>0</td>\n",
       "      <td>Doctorate degree</td>\n",
       "      <td>UK</td>\n",
       "      <td>White</td>\n",
       "      <td>29.0</td>\n",
       "      <td>52.0</td>\n",
       "      <td>55.0</td>\n",
       "      <td>48.0</td>\n",
       "      <td>41.0</td>\n",
       "      <td>...</td>\n",
       "      <td>1</td>\n",
       "      <td>1</td>\n",
       "      <td>0</td>\n",
       "      <td>1</td>\n",
       "      <td>0</td>\n",
       "      <td>1</td>\n",
       "      <td>1</td>\n",
       "      <td>1</td>\n",
       "      <td>0</td>\n",
       "      <td>1</td>\n",
       "    </tr>\n",
       "    <tr>\n",
       "      <th>2</th>\n",
       "      <td>35-44</td>\n",
       "      <td>0</td>\n",
       "      <td>Professional certificate/ diploma</td>\n",
       "      <td>UK</td>\n",
       "      <td>White</td>\n",
       "      <td>31.0</td>\n",
       "      <td>45.0</td>\n",
       "      <td>40.0</td>\n",
       "      <td>32.0</td>\n",
       "      <td>34.0</td>\n",
       "      <td>...</td>\n",
       "      <td>0</td>\n",
       "      <td>0</td>\n",
       "      <td>1</td>\n",
       "      <td>0</td>\n",
       "      <td>0</td>\n",
       "      <td>1</td>\n",
       "      <td>0</td>\n",
       "      <td>0</td>\n",
       "      <td>0</td>\n",
       "      <td>1</td>\n",
       "    </tr>\n",
       "    <tr>\n",
       "      <th>3</th>\n",
       "      <td>18-24</td>\n",
       "      <td>1</td>\n",
       "      <td>Masters degree</td>\n",
       "      <td>UK</td>\n",
       "      <td>White</td>\n",
       "      <td>34.0</td>\n",
       "      <td>34.0</td>\n",
       "      <td>46.0</td>\n",
       "      <td>47.0</td>\n",
       "      <td>46.0</td>\n",
       "      <td>...</td>\n",
       "      <td>0</td>\n",
       "      <td>0</td>\n",
       "      <td>0</td>\n",
       "      <td>1</td>\n",
       "      <td>0</td>\n",
       "      <td>0</td>\n",
       "      <td>1</td>\n",
       "      <td>1</td>\n",
       "      <td>1</td>\n",
       "      <td>1</td>\n",
       "    </tr>\n",
       "    <tr>\n",
       "      <th>4</th>\n",
       "      <td>35-44</td>\n",
       "      <td>1</td>\n",
       "      <td>Doctorate degree</td>\n",
       "      <td>UK</td>\n",
       "      <td>White</td>\n",
       "      <td>43.0</td>\n",
       "      <td>28.0</td>\n",
       "      <td>43.0</td>\n",
       "      <td>41.0</td>\n",
       "      <td>50.0</td>\n",
       "      <td>...</td>\n",
       "      <td>0</td>\n",
       "      <td>0</td>\n",
       "      <td>1</td>\n",
       "      <td>1</td>\n",
       "      <td>0</td>\n",
       "      <td>1</td>\n",
       "      <td>1</td>\n",
       "      <td>0</td>\n",
       "      <td>0</td>\n",
       "      <td>1</td>\n",
       "    </tr>\n",
       "  </tbody>\n",
       "</table>\n",
       "<p>5 rows × 35 columns</p>\n",
       "</div>"
      ],
      "text/plain": [
       "     Age  Gender                          Education Country  \\\n",
       "0  35-44       1  Professional certificate/ diploma      UK   \n",
       "1  25-34       0                   Doctorate degree      UK   \n",
       "2  35-44       0  Professional certificate/ diploma      UK   \n",
       "3  18-24       1                     Masters degree      UK   \n",
       "4  35-44       1                   Doctorate degree      UK   \n",
       "\n",
       "           Ethnicity  Nscore  Escore  Oscore  Ascore  Cscore  ...  LSD  Meth  \\\n",
       "0  Mixed-White/Asian    39.0    36.0    42.0    37.0    42.0  ...    0     0   \n",
       "1              White    29.0    52.0    55.0    48.0    41.0  ...    1     1   \n",
       "2              White    31.0    45.0    40.0    32.0    34.0  ...    0     0   \n",
       "3              White    34.0    34.0    46.0    47.0    46.0  ...    0     0   \n",
       "4              White    43.0    28.0    43.0    41.0    50.0  ...    0     0   \n",
       "\n",
       "   Mushrooms  Nicotine  VSA  Sch1  Sch2 Sch3  Sch4  SchNA  \n",
       "0          0         1    0     0     1    0     1      1  \n",
       "1          0         1    0     1     1    1     0      1  \n",
       "2          1         0    0     1     0    0     0      1  \n",
       "3          0         1    0     0     1    1     1      1  \n",
       "4          1         1    0     1     1    0     0      1  \n",
       "\n",
       "[5 rows x 35 columns]"
      ]
     },
     "execution_count": 3,
     "metadata": {},
     "output_type": "execute_result"
    }
   ],
   "source": [
    "drugs = pd.read_csv('drugs.csv')\n",
    "print(drugs.shape)\n",
    "drugs.head()"
   ]
  },
  {
   "cell_type": "code",
   "execution_count": 99,
   "id": "894b5d7e-64bb-4df8-b22f-45c2777a1cb7",
   "metadata": {},
   "outputs": [
    {
     "name": "stderr",
     "output_type": "stream",
     "text": [
      "C:\\Users\\saman\\AppData\\Local\\Temp/ipykernel_34660/3936430920.py:2: FutureWarning: In a future version of pandas all arguments of DataFrame.drop except for the argument 'labels' will be keyword-only.\n",
      "  X = drugs.drop(['Cannabis']+['Sch1','Sch2','Sch3','Sch4', 'SchNA'], 1)\n"
     ]
    }
   ],
   "source": [
    "y = drugs['Cannabis']\n",
    "X = drugs.drop(['Cannabis']+['Sch1','Sch2','Sch3','Sch4', 'SchNA'], 1)"
   ]
  },
  {
   "cell_type": "code",
   "execution_count": 155,
   "id": "a6babd0a-bb10-4234-8573-85220b6b9177",
   "metadata": {},
   "outputs": [],
   "source": [
    "X_train, X_test, y_train, y_test = train_test_split(X, y, test_size=0.1, random_state=1)\n",
    "X_train, X_val, y_train, y_val = train_test_split(X_train, y_train, test_size=0.1/0.9, random_state=1) # 0.1/0.9 x 0.9 = 0.1"
   ]
  },
  {
   "cell_type": "code",
   "execution_count": 156,
   "id": "28e0ef40-bc64-4bb4-a004-61508ec51520",
   "metadata": {},
   "outputs": [
    {
     "data": {
      "text/plain": [
       "((1501, 29), (188, 29), (188, 29))"
      ]
     },
     "execution_count": 156,
     "metadata": {},
     "output_type": "execute_result"
    }
   ],
   "source": [
    "X_train.shape, X_val.shape, X_test.shape"
   ]
  },
  {
   "cell_type": "markdown",
   "id": "dd62c0e5-de2c-4dfd-8390-a2722c387a70",
   "metadata": {},
   "source": [
    "X_Sch only uses schedules instead of drug names"
   ]
  },
  {
   "cell_type": "code",
   "execution_count": 157,
   "id": "877137a3-bbbc-479a-b04c-d95aaf747daf",
   "metadata": {},
   "outputs": [],
   "source": [
    "X_train_sch, X_test_sch, y_train_sch, y_test_sch = train_test_split(drugs[demographic_labels + personality_labels + schedules], y, test_size=0.1, random_state=1)\n",
    "X_train_sch, X_val_sch, y_train_sch, y_val_sch = train_test_split(X_train_sch, y_train_sch, test_size=0.1/0.9, random_state=1) # 0.1/0.9 x 0.9 = 0.1"
   ]
  },
  {
   "cell_type": "markdown",
   "id": "9329e76e-214a-4380-b859-9ff69561434d",
   "metadata": {},
   "source": [
    "This X2 denotes the datasets where the categorical features are one-hot encoded."
   ]
  },
  {
   "cell_type": "code",
   "execution_count": 103,
   "id": "ee935a42-efd9-40a5-905c-249f1df992a0",
   "metadata": {},
   "outputs": [],
   "source": [
    "X2 = pd.get_dummies(X, columns=(demographic_labels))\n",
    "X_train2, X_test2, y_train2, y_test2 = train_test_split(X2, y, test_size=0.1, random_state=1)\n",
    "X_train2, X_val2, y_train2, y_val2 = train_test_split(X_train2, y_train2, test_size=0.1/0.9, random_state=1) # 0.1/0.9 x 0.9 = 0.1"
   ]
  },
  {
   "cell_type": "markdown",
   "id": "1bb636ab-c235-4349-92c5-56fff14c2891",
   "metadata": {},
   "source": [
    "This X3 denotes the datasets where the categorical features are label encoded"
   ]
  },
  {
   "cell_type": "code",
   "execution_count": 104,
   "id": "8cc842c3-c1b6-4b4d-8a88-5f0f57abeffb",
   "metadata": {},
   "outputs": [],
   "source": [
    "X3 = X.copy()\n",
    "for i in demographic_labels:\n",
    "    X3[i] = X3[i].astype('category')\n",
    "    X3[i] = X3[i].cat.codes\n",
    "X_train3, X_test3, y_train3, y_test3 = train_test_split(X3, y, test_size=0.1, random_state=1)\n",
    "X_train3, X_val3, y_train3, y_val3 = train_test_split(X_train3, y_train3, test_size=0.1/0.9, random_state=1) # 0.1/0.9 x 0.9 = 0.1"
   ]
  },
  {
   "cell_type": "markdown",
   "id": "f7b31079-f2bb-4d8c-b404-ee3c1951cf81",
   "metadata": {},
   "source": [
    "This y_bin denotes the datasets where the output is divided into binary categories of user and non-user."
   ]
  },
  {
   "cell_type": "code",
   "execution_count": 105,
   "id": "1c8b5f67-90cc-451c-8bc6-ed9c5d6996bb",
   "metadata": {},
   "outputs": [],
   "source": [
    "# if the user has not used the drug in the past decade the drug is encoded 0, if they have used it is a 1\n",
    "y_bin_train = np.where((y_train == 'CL0'), 0, 1) # | (y_train == 'CL1'), 0, 1) #\n",
    "y_bin_val = np.where((y_val == 'CL0'), 0, 1) # | (y_val == 'CL1'), 0, 1) \n",
    "y_bin_test = np.where((y_test == 'CL0'), 0, 1) # | (y_test == 'CL1'), 0, 1) \n",
    "y_bin_train2 = np.where((y_train2 == 'CL0'), 0, 1) # | (y_train2 == 'CL1'), 0, 1) \n",
    "y_bin_val2 = np.where((y_val2 == 'CL0'), 0, 1) # | (y_val2 == 'CL1'), 0, 1) \n",
    "y_bin_test2 = np.where((y_test2 == 'CL0'), 0, 1) # | (y_test2 == 'CL1'), 0, 1) \n",
    "y_bin_train3 = np.where((y_train3 == 'CL0'), 0, 1) # | (y_train3 == 'CL1'), 0, 1) \n",
    "y_bin_val3 = np.where((y_val3 == 'CL0'), 0, 1) # | (y_val3 == 'CL1'), 0, 1) \n",
    "y_bin_test3 = np.where((y_test3 == 'CL0'), 0, 1) # | (y_test3 == 'CL1'), 0, 1) "
   ]
  },
  {
   "cell_type": "markdown",
   "id": "7300d67c-c8b6-4fe8-8c03-189d5ecf389f",
   "metadata": {
    "jp-MarkdownHeadingCollapsed": true,
    "tags": []
   },
   "source": [
    "## Naive Bayes Models"
   ]
  },
  {
   "cell_type": "markdown",
   "id": "e941e742-7ebf-4458-9250-84e6b9f7c661",
   "metadata": {
    "jp-MarkdownHeadingCollapsed": true,
    "tags": []
   },
   "source": [
    "#### This first model uses the entire dataset (one-hot encoded X2) to predict which of the 7 classes of weed user (y) each participant is\n",
    "Accuracy = 0.28"
   ]
  },
  {
   "cell_type": "code",
   "execution_count": 135,
   "id": "4f996883-554c-4d58-80d7-3671219b8c18",
   "metadata": {},
   "outputs": [
    {
     "name": "stdout",
     "output_type": "stream",
     "text": [
      "0.28191489361702127\n"
     ]
    },
    {
     "data": {
      "text/plain": [
       "array([[27,  6,  0,  1,  0,  2,  0],\n",
       "       [ 8,  5,  0,  2,  0,  2,  0],\n",
       "       [ 5,  6,  0,  2,  2, 14,  0],\n",
       "       [ 1,  2,  0,  4,  0, 15,  0],\n",
       "       [ 0,  2,  0,  0,  2, 11,  0],\n",
       "       [ 0,  1,  1,  2,  0, 15,  0],\n",
       "       [ 0,  1,  1,  2,  7, 39,  0]], dtype=int64)"
      ]
     },
     "execution_count": 135,
     "metadata": {},
     "output_type": "execute_result"
    }
   ],
   "source": [
    "gnb = GaussianNB().fit(X_train2, y_train2)\n",
    "gnb_predictions = gnb.predict(X_test2)\n",
    "accuracy = gnb.score(X_test2, y_test2)\n",
    "print(accuracy)\n",
    "cm = confusion_matrix(y_test2, gnb_predictions)\n",
    "cm"
   ]
  },
  {
   "cell_type": "markdown",
   "id": "21c25ded-5ab3-4cd8-b5da-dcc23c8cfb0a",
   "metadata": {},
   "source": [
    "It appears that a Naive Bayes Model on this many outputs, with one-hot encoded variables, is not very accurate of a predictor of the 7 weed user types."
   ]
  },
  {
   "cell_type": "markdown",
   "id": "9dc57053-7e8a-411e-9fe7-639922a46c7b",
   "metadata": {
    "jp-MarkdownHeadingCollapsed": true,
    "tags": []
   },
   "source": [
    "####  This second model uses the entire dataset (label encoded X3) to predict which of the 7 classes of weed user (y) each participant is\n",
    "Accuracy = 0.28"
   ]
  },
  {
   "cell_type": "code",
   "execution_count": 137,
   "id": "82bacbca-3bb2-46f1-b71f-5ce03ddc865e",
   "metadata": {},
   "outputs": [
    {
     "name": "stdout",
     "output_type": "stream",
     "text": [
      "0.2765957446808511\n"
     ]
    },
    {
     "data": {
      "text/plain": [
       "array([[36,  0,  0,  0,  0,  0,  0],\n",
       "       [ 9,  2,  1,  0,  5,  0,  0],\n",
       "       [ 6,  5,  1,  0, 17,  0,  0],\n",
       "       [ 1,  2,  0,  0, 19,  0,  0],\n",
       "       [ 2,  0,  0,  0, 13,  0,  0],\n",
       "       [ 0,  1,  0,  0, 18,  0,  0],\n",
       "       [ 0,  2,  1,  0, 47,  0,  0]], dtype=int64)"
      ]
     },
     "execution_count": 137,
     "metadata": {},
     "output_type": "execute_result"
    }
   ],
   "source": [
    "gnb = GaussianNB().fit(X_train3, y_train3)\n",
    "gnb_predictions = gnb.predict(X_test3)\n",
    "accuracy = gnb.score(X_test3, y_test3)\n",
    "print(accuracy)\n",
    "cm = confusion_matrix(y_test3, gnb_predictions)\n",
    "cm"
   ]
  },
  {
   "cell_type": "markdown",
   "id": "7838c7c7-f00e-4330-b0f3-850e3e0d5251",
   "metadata": {
    "jp-MarkdownHeadingCollapsed": true,
    "tags": []
   },
   "source": [
    "#### This third model looks at the label encoded dataset (X3) to predict which of two classes of weed user (y_bin) each participant is\n",
    "Accuracy = 0.85"
   ]
  },
  {
   "cell_type": "code",
   "execution_count": 108,
   "id": "2ba69769-5048-4065-b8b6-500ab82dd2d8",
   "metadata": {},
   "outputs": [
    {
     "name": "stdout",
     "output_type": "stream",
     "text": [
      "0.8457446808510638\n"
     ]
    },
    {
     "data": {
      "text/plain": [
       "array([[ 36,   0],\n",
       "       [ 29, 123]], dtype=int64)"
      ]
     },
     "execution_count": 108,
     "metadata": {},
     "output_type": "execute_result"
    }
   ],
   "source": [
    "gnb = GaussianNB().fit(X_train3, y_bin_train3)\n",
    "gnb_predictions = gnb.predict(X_test3)\n",
    "accuracy = gnb.score(X_test3, y_bin_test3)\n",
    "print(accuracy)\n",
    "cm = confusion_matrix(y_bin_test3, gnb_predictions)\n",
    "cm"
   ]
  },
  {
   "cell_type": "markdown",
   "id": "6ae398dd-48e2-4b12-a937-a2315e1128a6",
   "metadata": {
    "jp-MarkdownHeadingCollapsed": true,
    "tags": []
   },
   "source": [
    "#### This fourth model uses only the other drugs (X[drug_labels]) to predict which of two classes of weed user (y_bin) each participant is\n",
    "Accuracy = 0.86"
   ]
  },
  {
   "cell_type": "code",
   "execution_count": 148,
   "id": "bee1aad8-7ab2-40d0-be83-7975aa1cc4c3",
   "metadata": {},
   "outputs": [
    {
     "name": "stdout",
     "output_type": "stream",
     "text": [
      "0.8563829787234043\n"
     ]
    },
    {
     "data": {
      "text/plain": [
       "array([[ 36,   0],\n",
       "       [ 27, 125]], dtype=int64)"
      ]
     },
     "execution_count": 148,
     "metadata": {},
     "output_type": "execute_result"
    }
   ],
   "source": [
    "clf = CategoricalNB().fit(X_train[drug_labels], y_bin_train)\n",
    "clf_predictions = clf.predict(X_test[drug_labels])\n",
    "accuracy = clf.score(X_test[drug_labels], y_bin_test)\n",
    "print(accuracy)\n",
    "cm = confusion_matrix(y_bin_test, clf_predictions)\n",
    "cm"
   ]
  },
  {
   "cell_type": "markdown",
   "id": "af6b0345-eb6e-44d2-b7dd-ab8b6036f0e4",
   "metadata": {},
   "source": [
    "This shows that when using the Naive Bayes model, the demographic data is not contributing much to the model, and the drugs are a better predictor."
   ]
  },
  {
   "cell_type": "markdown",
   "id": "aa707c0f-e80f-4ae5-89b9-4e3468ceb929",
   "metadata": {
    "jp-MarkdownHeadingCollapsed": true,
    "tags": []
   },
   "source": [
    "#### This fifth model uses only the scheduling (X_sch) to predict which of two classes of weed user (y_bin) each participant is\n",
    "Accuracy = 0.86"
   ]
  },
  {
   "cell_type": "code",
   "execution_count": 173,
   "id": "af9a9d54-0f0d-4291-8415-92d5ee85f51f",
   "metadata": {},
   "outputs": [
    {
     "name": "stdout",
     "output_type": "stream",
     "text": [
      "0.8617021276595744\n"
     ]
    },
    {
     "data": {
      "text/plain": [
       "array([[ 36,   0],\n",
       "       [ 26, 126]], dtype=int64)"
      ]
     },
     "execution_count": 173,
     "metadata": {},
     "output_type": "execute_result"
    }
   ],
   "source": [
    "clf = CategoricalNB().fit(X_train_sch[schedules], y_bin_train)\n",
    "clf_predictions = clf.predict(X_test_sch[schedules])\n",
    "accuracy = clf.score(X_test_sch[schedules], y_bin_test)\n",
    "print(accuracy)\n",
    "cm = confusion_matrix(y_bin_test, clf_predictions)\n",
    "cm"
   ]
  },
  {
   "cell_type": "markdown",
   "id": "7bd02597-c54e-4abc-ba34-42c6b06ea4bd",
   "metadata": {
    "jp-MarkdownHeadingCollapsed": true,
    "tags": []
   },
   "source": [
    "#### Overall, it seems that the most accurate Naive Bayes model was using the schedule class of drugs  to predict the binary output of whether or not a person is a weed user (~0.86 accuracy). This will be used as a baseline for comparing the effectiveness of the other models."
   ]
  },
  {
   "cell_type": "code",
   "execution_count": 179,
   "id": "28ad9e70-ed33-47a6-9326-3a74052541ef",
   "metadata": {},
   "outputs": [
    {
     "name": "stdout",
     "output_type": "stream",
     "text": [
      "Feature ranking:\n",
      "1. Sch1 (0.075017)\n",
      "2. Sch2 (0.059161)\n",
      "3. Sch3 (0.013458)\n",
      "4. SchNA (0.000000)\n",
      "5. Sch4 (0.000000)\n"
     ]
    }
   ],
   "source": [
    "imps = permutation_importance(clf, X_train_sch[schedules], y_bin_train)\n",
    "importances = imps.importances_mean\n",
    "std = imps.importances_std\n",
    "indices = np.argsort(importances)[::-1]\n",
    "\n",
    "# Print the feature ranking\n",
    "print(\"Feature ranking:\")\n",
    "for f in range(X_train_sch[schedules].shape[1]):\n",
    "    print(\"%d. %s (%f)\" % (f + 1, schedules[indices[f]], importances[indices[f]]))"
   ]
  },
  {
   "cell_type": "markdown",
   "id": "2d822e22-a68a-4186-b3b1-4cf5f1c17571",
   "metadata": {},
   "source": [
    "Using permutation importance, we can determine from this model that using a Schedule 1 drug was the biggest predictor of being a weed user, followed by Schedule 2 and Schedule 3."
   ]
  },
  {
   "cell_type": "markdown",
   "id": "e7c4b584-5d03-482a-b03a-44eaa7902a25",
   "metadata": {},
   "source": [
    "## Random Forest"
   ]
  }
 ],
 "metadata": {
  "kernelspec": {
   "display_name": "Python 3 (ipykernel)",
   "language": "python",
   "name": "python3"
  },
  "language_info": {
   "codemirror_mode": {
    "name": "ipython",
    "version": 3
   },
   "file_extension": ".py",
   "mimetype": "text/x-python",
   "name": "python",
   "nbconvert_exporter": "python",
   "pygments_lexer": "ipython3",
   "version": "3.8.3"
  }
 },
 "nbformat": 4,
 "nbformat_minor": 5
}
