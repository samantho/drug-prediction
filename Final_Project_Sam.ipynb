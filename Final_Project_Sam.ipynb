{
 "cells": [
  {
   "cell_type": "markdown",
   "id": "6eed78e5-79b1-4f3a-90e2-542fb5959731",
   "metadata": {
    "tags": []
   },
   "source": [
    "# Drug Consumption Final Project for COMP 562 - Random Forest Methods\n",
    "#### by Samantha Anthony"
   ]
  },
  {
   "cell_type": "markdown",
   "id": "bd54de4d-a938-47b7-8a03-67aae3b957f8",
   "metadata": {
    "jp-MarkdownHeadingCollapsed": true,
    "tags": []
   },
   "source": [
    "## Import Libraries and Data"
   ]
  },
  {
   "cell_type": "code",
   "execution_count": 5,
   "id": "5c0ca0ed-f3ae-4bc2-9e5b-72973e8612f2",
   "metadata": {},
   "outputs": [],
   "source": [
    "import warnings\n",
    "warnings.simplefilter(action='ignore', category=FutureWarning)\n",
    "import pandas as pd\n",
    "import numpy as np\n",
    "from sklearn.naive_bayes import GaussianNB\n",
    "from sklearn.naive_bayes import CategoricalNB\n",
    "from sklearn.inspection import permutation_importance\n",
    "from sklearn.model_selection import train_test_split\n",
    "from sklearn.neighbors import KNeighborsClassifier\n",
    "import xgboost as xgb\n",
    "from sklearn.metrics import mean_squared_error\n",
    "from sklearn.metrics import accuracy_score\n",
    "from sklearn.tree import DecisionTreeClassifier\n",
    "import matplotlib.pyplot as plt\n",
    "from sklearn.ensemble import RandomForestClassifier\n",
    "from sklearn.metrics import roc_auc_score, roc_curve, plot_roc_curve\n",
    "from sklearn.metrics import confusion_matrix\n",
    "import matplotlib.pyplot as plt\n",
    "from collections import OrderedDict\n",
    "from sklearn.datasets import make_classification\n",
    "from sklearn.ensemble import RandomForestClassifier\n",
    "\n",
    "\n",
    "\n",
    "\n",
    "drug_labels = ['Alcohol','Amphet','Amyl','Benzos','Caff','Choc','Coke','Crack','Ecstasy','Heroin','Ketamine','Legalh','LSD','Meth','Mushrooms','Nicotine','VSA']\n",
    "sched_1 = ['Heroin','LSD','Ecstasy','Mushrooms']\n",
    "sched_2 = ['Amphet','Coke','Crack','Meth']\n",
    "sched_3 = ['Ketamine']\n",
    "sched_4 = ['Benzos']\n",
    "not_controlled_substance = ['Alcohol','Amyl','Caff','Choc','Legalh','Nicotine','VSA']\n",
    "schedules = ['Sch1','Sch2','Sch3','Sch4', 'SchNA']\n",
    "personality_labels = ['Nscore','Escore','Oscore','Ascore','Cscore','Impulsive','SS']\n",
    "demographic_labels = ['Age','Gender','Education','Country','Ethnicity']\n",
    "target_label = ['Cannabis']"
   ]
  },
  {
   "cell_type": "code",
   "execution_count": 4,
   "id": "0c23b13c-7ef1-4b98-8e06-61baf6e72ce2",
   "metadata": {},
   "outputs": [
    {
     "name": "stdout",
     "output_type": "stream",
     "text": [
      "(1877, 35)\n"
     ]
    },
    {
     "data": {
      "text/html": [
       "<div>\n",
       "<style scoped>\n",
       "    .dataframe tbody tr th:only-of-type {\n",
       "        vertical-align: middle;\n",
       "    }\n",
       "\n",
       "    .dataframe tbody tr th {\n",
       "        vertical-align: top;\n",
       "    }\n",
       "\n",
       "    .dataframe thead th {\n",
       "        text-align: right;\n",
       "    }\n",
       "</style>\n",
       "<table border=\"1\" class=\"dataframe\">\n",
       "  <thead>\n",
       "    <tr style=\"text-align: right;\">\n",
       "      <th></th>\n",
       "      <th>Age</th>\n",
       "      <th>Gender</th>\n",
       "      <th>Education</th>\n",
       "      <th>Country</th>\n",
       "      <th>Ethnicity</th>\n",
       "      <th>Nscore</th>\n",
       "      <th>Escore</th>\n",
       "      <th>Oscore</th>\n",
       "      <th>Ascore</th>\n",
       "      <th>Cscore</th>\n",
       "      <th>...</th>\n",
       "      <th>LSD</th>\n",
       "      <th>Meth</th>\n",
       "      <th>Mushrooms</th>\n",
       "      <th>Nicotine</th>\n",
       "      <th>VSA</th>\n",
       "      <th>Sch1</th>\n",
       "      <th>Sch2</th>\n",
       "      <th>Sch3</th>\n",
       "      <th>Sch4</th>\n",
       "      <th>SchNA</th>\n",
       "    </tr>\n",
       "  </thead>\n",
       "  <tbody>\n",
       "    <tr>\n",
       "      <th>0</th>\n",
       "      <td>35-44</td>\n",
       "      <td>1</td>\n",
       "      <td>Professional certificate/ diploma</td>\n",
       "      <td>UK</td>\n",
       "      <td>Mixed-White/Asian</td>\n",
       "      <td>39.0</td>\n",
       "      <td>36.0</td>\n",
       "      <td>42.0</td>\n",
       "      <td>37.0</td>\n",
       "      <td>42.0</td>\n",
       "      <td>...</td>\n",
       "      <td>0</td>\n",
       "      <td>0</td>\n",
       "      <td>0</td>\n",
       "      <td>1</td>\n",
       "      <td>0</td>\n",
       "      <td>0</td>\n",
       "      <td>1</td>\n",
       "      <td>0</td>\n",
       "      <td>1</td>\n",
       "      <td>1</td>\n",
       "    </tr>\n",
       "    <tr>\n",
       "      <th>1</th>\n",
       "      <td>25-34</td>\n",
       "      <td>0</td>\n",
       "      <td>Doctorate degree</td>\n",
       "      <td>UK</td>\n",
       "      <td>White</td>\n",
       "      <td>29.0</td>\n",
       "      <td>52.0</td>\n",
       "      <td>55.0</td>\n",
       "      <td>48.0</td>\n",
       "      <td>41.0</td>\n",
       "      <td>...</td>\n",
       "      <td>1</td>\n",
       "      <td>1</td>\n",
       "      <td>0</td>\n",
       "      <td>1</td>\n",
       "      <td>0</td>\n",
       "      <td>1</td>\n",
       "      <td>1</td>\n",
       "      <td>1</td>\n",
       "      <td>0</td>\n",
       "      <td>1</td>\n",
       "    </tr>\n",
       "    <tr>\n",
       "      <th>2</th>\n",
       "      <td>35-44</td>\n",
       "      <td>0</td>\n",
       "      <td>Professional certificate/ diploma</td>\n",
       "      <td>UK</td>\n",
       "      <td>White</td>\n",
       "      <td>31.0</td>\n",
       "      <td>45.0</td>\n",
       "      <td>40.0</td>\n",
       "      <td>32.0</td>\n",
       "      <td>34.0</td>\n",
       "      <td>...</td>\n",
       "      <td>0</td>\n",
       "      <td>0</td>\n",
       "      <td>1</td>\n",
       "      <td>0</td>\n",
       "      <td>0</td>\n",
       "      <td>1</td>\n",
       "      <td>0</td>\n",
       "      <td>0</td>\n",
       "      <td>0</td>\n",
       "      <td>1</td>\n",
       "    </tr>\n",
       "    <tr>\n",
       "      <th>3</th>\n",
       "      <td>18-24</td>\n",
       "      <td>1</td>\n",
       "      <td>Masters degree</td>\n",
       "      <td>UK</td>\n",
       "      <td>White</td>\n",
       "      <td>34.0</td>\n",
       "      <td>34.0</td>\n",
       "      <td>46.0</td>\n",
       "      <td>47.0</td>\n",
       "      <td>46.0</td>\n",
       "      <td>...</td>\n",
       "      <td>0</td>\n",
       "      <td>0</td>\n",
       "      <td>0</td>\n",
       "      <td>1</td>\n",
       "      <td>0</td>\n",
       "      <td>0</td>\n",
       "      <td>1</td>\n",
       "      <td>1</td>\n",
       "      <td>1</td>\n",
       "      <td>1</td>\n",
       "    </tr>\n",
       "    <tr>\n",
       "      <th>4</th>\n",
       "      <td>35-44</td>\n",
       "      <td>1</td>\n",
       "      <td>Doctorate degree</td>\n",
       "      <td>UK</td>\n",
       "      <td>White</td>\n",
       "      <td>43.0</td>\n",
       "      <td>28.0</td>\n",
       "      <td>43.0</td>\n",
       "      <td>41.0</td>\n",
       "      <td>50.0</td>\n",
       "      <td>...</td>\n",
       "      <td>0</td>\n",
       "      <td>0</td>\n",
       "      <td>1</td>\n",
       "      <td>1</td>\n",
       "      <td>0</td>\n",
       "      <td>1</td>\n",
       "      <td>1</td>\n",
       "      <td>0</td>\n",
       "      <td>0</td>\n",
       "      <td>1</td>\n",
       "    </tr>\n",
       "  </tbody>\n",
       "</table>\n",
       "<p>5 rows × 35 columns</p>\n",
       "</div>"
      ],
      "text/plain": [
       "     Age  Gender                          Education Country  \\\n",
       "0  35-44       1  Professional certificate/ diploma      UK   \n",
       "1  25-34       0                   Doctorate degree      UK   \n",
       "2  35-44       0  Professional certificate/ diploma      UK   \n",
       "3  18-24       1                     Masters degree      UK   \n",
       "4  35-44       1                   Doctorate degree      UK   \n",
       "\n",
       "           Ethnicity  Nscore  Escore  Oscore  Ascore  Cscore  ...  LSD  Meth  \\\n",
       "0  Mixed-White/Asian    39.0    36.0    42.0    37.0    42.0  ...    0     0   \n",
       "1              White    29.0    52.0    55.0    48.0    41.0  ...    1     1   \n",
       "2              White    31.0    45.0    40.0    32.0    34.0  ...    0     0   \n",
       "3              White    34.0    34.0    46.0    47.0    46.0  ...    0     0   \n",
       "4              White    43.0    28.0    43.0    41.0    50.0  ...    0     0   \n",
       "\n",
       "   Mushrooms  Nicotine  VSA  Sch1  Sch2 Sch3  Sch4  SchNA  \n",
       "0          0         1    0     0     1    0     1      1  \n",
       "1          0         1    0     1     1    1     0      1  \n",
       "2          1         0    0     1     0    0     0      1  \n",
       "3          0         1    0     0     1    1     1      1  \n",
       "4          1         1    0     1     1    0     0      1  \n",
       "\n",
       "[5 rows x 35 columns]"
      ]
     },
     "execution_count": 4,
     "metadata": {},
     "output_type": "execute_result"
    }
   ],
   "source": [
    "drugs = pd.read_csv('drugs.csv')\n",
    "print(drugs.shape)\n",
    "drugs.head()"
   ]
  },
  {
   "cell_type": "markdown",
   "id": "202e2b9e-546f-4671-8272-abb091e06724",
   "metadata": {
    "jp-MarkdownHeadingCollapsed": true,
    "tags": []
   },
   "source": [
    "## Data Exploration"
   ]
  },
  {
   "cell_type": "code",
   "execution_count": 6,
   "id": "0da63fac-7d9b-4385-b7f4-9a79e577647a",
   "metadata": {
    "tags": []
   },
   "outputs": [
    {
     "data": {
      "image/png": "[encoded data removed]",
      "text/plain": [
       "<Figure size 432x288 with 2 Axes>"
      ]
     },
     "metadata": {
      "needs_background": "light"
     },
     "output_type": "display_data"
    },
    {
     "data": {
      "image/png": "[encoded data removed]",
      "text/plain": [
       "<Figure size 432x288 with 2 Axes>"
      ]
     },
     "metadata": {
      "needs_background": "light"
     },
     "output_type": "display_data"
    },
    {
     "name": "stdout",
     "output_type": "stream",
     "text": [
      "          Cannabis      Sch1      Sch2      Sch3      Sch4     SchNA\n",
      "Cannabis  1.000000  0.607735  0.547054  0.255704  0.304623  0.043469\n",
      "Sch1      0.607735  1.000000  0.689854  0.391722  0.384322  0.028940\n",
      "Sch2      0.547054  0.689854  1.000000  0.379982  0.475426  0.027410\n",
      "Sch3      0.255704  0.391722  0.379982  1.000000  0.284601  0.011805\n",
      "Sch4      0.304623  0.384322  0.475426  0.284601  1.000000  0.021645\n",
      "SchNA     0.043469  0.028940  0.027410  0.011805  0.021645  1.000000\n"
     ]
    },
    {
     "data": {
      "text/html": [
       "<div>\n",
       "<style scoped>\n",
       "    .dataframe tbody tr th:only-of-type {\n",
       "        vertical-align: middle;\n",
       "    }\n",
       "\n",
       "    .dataframe tbody tr th {\n",
       "        vertical-align: top;\n",
       "    }\n",
       "\n",
       "    .dataframe thead th {\n",
       "        text-align: right;\n",
       "    }\n",
       "</style>\n",
       "<table border=\"1\" class=\"dataframe\">\n",
       "  <thead>\n",
       "    <tr style=\"text-align: right;\">\n",
       "      <th></th>\n",
       "      <th>Cannabis</th>\n",
       "      <th>Alcohol</th>\n",
       "      <th>Amphet</th>\n",
       "      <th>Amyl</th>\n",
       "      <th>Benzos</th>\n",
       "      <th>Caff</th>\n",
       "      <th>Choc</th>\n",
       "      <th>Coke</th>\n",
       "      <th>Crack</th>\n",
       "      <th>Ecstasy</th>\n",
       "      <th>Heroin</th>\n",
       "      <th>Ketamine</th>\n",
       "      <th>Legalh</th>\n",
       "      <th>LSD</th>\n",
       "      <th>Meth</th>\n",
       "      <th>Mushrooms</th>\n",
       "      <th>Nicotine</th>\n",
       "      <th>VSA</th>\n",
       "    </tr>\n",
       "  </thead>\n",
       "  <tbody>\n",
       "    <tr>\n",
       "      <th>Cannabis</th>\n",
       "      <td>1.000000</td>\n",
       "      <td>0.154013</td>\n",
       "      <td>0.463053</td>\n",
       "      <td>0.306935</td>\n",
       "      <td>0.304623</td>\n",
       "      <td>0.130247</td>\n",
       "      <td>0.059199</td>\n",
       "      <td>0.437168</td>\n",
       "      <td>0.210596</td>\n",
       "      <td>0.455868</td>\n",
       "      <td>0.217370</td>\n",
       "      <td>0.255704</td>\n",
       "      <td>0.419041</td>\n",
       "      <td>0.443584</td>\n",
       "      <td>0.266510</td>\n",
       "      <td>0.476163</td>\n",
       "      <td>0.517491</td>\n",
       "      <td>0.253552</td>\n",
       "    </tr>\n",
       "    <tr>\n",
       "      <th>Alcohol</th>\n",
       "      <td>0.154013</td>\n",
       "      <td>1.000000</td>\n",
       "      <td>0.072153</td>\n",
       "      <td>0.080454</td>\n",
       "      <td>0.076666</td>\n",
       "      <td>0.051930</td>\n",
       "      <td>0.076327</td>\n",
       "      <td>0.104226</td>\n",
       "      <td>0.053042</td>\n",
       "      <td>0.081930</td>\n",
       "      <td>0.032803</td>\n",
       "      <td>0.058398</td>\n",
       "      <td>0.047677</td>\n",
       "      <td>0.058994</td>\n",
       "      <td>0.018609</td>\n",
       "      <td>0.062782</td>\n",
       "      <td>0.130199</td>\n",
       "      <td>0.023944</td>\n",
       "    </tr>\n",
       "    <tr>\n",
       "      <th>Amphet</th>\n",
       "      <td>0.463053</td>\n",
       "      <td>0.072153</td>\n",
       "      <td>1.000000</td>\n",
       "      <td>0.410257</td>\n",
       "      <td>0.455464</td>\n",
       "      <td>0.107491</td>\n",
       "      <td>0.028102</td>\n",
       "      <td>0.628132</td>\n",
       "      <td>0.346005</td>\n",
       "      <td>0.584920</td>\n",
       "      <td>0.362527</td>\n",
       "      <td>0.375249</td>\n",
       "      <td>0.404067</td>\n",
       "      <td>0.535882</td>\n",
       "      <td>0.373343</td>\n",
       "      <td>0.507976</td>\n",
       "      <td>0.340882</td>\n",
       "      <td>0.331993</td>\n",
       "    </tr>\n",
       "    <tr>\n",
       "      <th>Amyl</th>\n",
       "      <td>0.306935</td>\n",
       "      <td>0.080454</td>\n",
       "      <td>0.410257</td>\n",
       "      <td>1.000000</td>\n",
       "      <td>0.225814</td>\n",
       "      <td>0.051508</td>\n",
       "      <td>0.043274</td>\n",
       "      <td>0.410818</td>\n",
       "      <td>0.190223</td>\n",
       "      <td>0.366293</td>\n",
       "      <td>0.181242</td>\n",
       "      <td>0.319491</td>\n",
       "      <td>0.190139</td>\n",
       "      <td>0.266142</td>\n",
       "      <td>0.090363</td>\n",
       "      <td>0.301294</td>\n",
       "      <td>0.224999</td>\n",
       "      <td>0.204404</td>\n",
       "    </tr>\n",
       "    <tr>\n",
       "      <th>Benzos</th>\n",
       "      <td>0.304623</td>\n",
       "      <td>0.076666</td>\n",
       "      <td>0.455464</td>\n",
       "      <td>0.225814</td>\n",
       "      <td>1.000000</td>\n",
       "      <td>0.068419</td>\n",
       "      <td>0.007989</td>\n",
       "      <td>0.443611</td>\n",
       "      <td>0.357499</td>\n",
       "      <td>0.371107</td>\n",
       "      <td>0.398672</td>\n",
       "      <td>0.284601</td>\n",
       "      <td>0.283142</td>\n",
       "      <td>0.388256</td>\n",
       "      <td>0.454405</td>\n",
       "      <td>0.366307</td>\n",
       "      <td>0.249925</td>\n",
       "      <td>0.311762</td>\n",
       "    </tr>\n",
       "    <tr>\n",
       "      <th>Caff</th>\n",
       "      <td>0.130247</td>\n",
       "      <td>0.051930</td>\n",
       "      <td>0.107491</td>\n",
       "      <td>0.051508</td>\n",
       "      <td>0.068419</td>\n",
       "      <td>1.000000</td>\n",
       "      <td>0.053218</td>\n",
       "      <td>0.081854</td>\n",
       "      <td>0.021783</td>\n",
       "      <td>0.101753</td>\n",
       "      <td>0.037651</td>\n",
       "      <td>0.061769</td>\n",
       "      <td>0.084286</td>\n",
       "      <td>0.086957</td>\n",
       "      <td>0.036768</td>\n",
       "      <td>0.097416</td>\n",
       "      <td>0.115639</td>\n",
       "      <td>0.054668</td>\n",
       "    </tr>\n",
       "    <tr>\n",
       "      <th>Choc</th>\n",
       "      <td>0.059199</td>\n",
       "      <td>0.076327</td>\n",
       "      <td>0.028102</td>\n",
       "      <td>0.043274</td>\n",
       "      <td>0.007989</td>\n",
       "      <td>0.053218</td>\n",
       "      <td>1.000000</td>\n",
       "      <td>0.019347</td>\n",
       "      <td>-0.043873</td>\n",
       "      <td>0.046356</td>\n",
       "      <td>-0.014824</td>\n",
       "      <td>0.026723</td>\n",
       "      <td>0.028226</td>\n",
       "      <td>0.014755</td>\n",
       "      <td>0.006953</td>\n",
       "      <td>0.010369</td>\n",
       "      <td>0.016708</td>\n",
       "      <td>-0.007418</td>\n",
       "    </tr>\n",
       "    <tr>\n",
       "      <th>Coke</th>\n",
       "      <td>0.437168</td>\n",
       "      <td>0.104226</td>\n",
       "      <td>0.628132</td>\n",
       "      <td>0.410818</td>\n",
       "      <td>0.443611</td>\n",
       "      <td>0.081854</td>\n",
       "      <td>0.019347</td>\n",
       "      <td>1.000000</td>\n",
       "      <td>0.418188</td>\n",
       "      <td>0.619460</td>\n",
       "      <td>0.422541</td>\n",
       "      <td>0.419474</td>\n",
       "      <td>0.369824</td>\n",
       "      <td>0.517056</td>\n",
       "      <td>0.355603</td>\n",
       "      <td>0.495465</td>\n",
       "      <td>0.331358</td>\n",
       "      <td>0.318893</td>\n",
       "    </tr>\n",
       "    <tr>\n",
       "      <th>Crack</th>\n",
       "      <td>0.210596</td>\n",
       "      <td>0.053042</td>\n",
       "      <td>0.346005</td>\n",
       "      <td>0.190223</td>\n",
       "      <td>0.357499</td>\n",
       "      <td>0.021783</td>\n",
       "      <td>-0.043873</td>\n",
       "      <td>0.418188</td>\n",
       "      <td>1.000000</td>\n",
       "      <td>0.301460</td>\n",
       "      <td>0.536460</td>\n",
       "      <td>0.280621</td>\n",
       "      <td>0.202860</td>\n",
       "      <td>0.355576</td>\n",
       "      <td>0.397751</td>\n",
       "      <td>0.325044</td>\n",
       "      <td>0.189550</td>\n",
       "      <td>0.305624</td>\n",
       "    </tr>\n",
       "    <tr>\n",
       "      <th>Ecstasy</th>\n",
       "      <td>0.455868</td>\n",
       "      <td>0.081930</td>\n",
       "      <td>0.584920</td>\n",
       "      <td>0.366293</td>\n",
       "      <td>0.371107</td>\n",
       "      <td>0.101753</td>\n",
       "      <td>0.046356</td>\n",
       "      <td>0.619460</td>\n",
       "      <td>0.301460</td>\n",
       "      <td>1.000000</td>\n",
       "      <td>0.318229</td>\n",
       "      <td>0.491837</td>\n",
       "      <td>0.519502</td>\n",
       "      <td>0.553173</td>\n",
       "      <td>0.335369</td>\n",
       "      <td>0.538276</td>\n",
       "      <td>0.314622</td>\n",
       "      <td>0.301445</td>\n",
       "    </tr>\n",
       "    <tr>\n",
       "      <th>Heroin</th>\n",
       "      <td>0.217370</td>\n",
       "      <td>0.032803</td>\n",
       "      <td>0.362527</td>\n",
       "      <td>0.181242</td>\n",
       "      <td>0.398672</td>\n",
       "      <td>0.037651</td>\n",
       "      <td>-0.014824</td>\n",
       "      <td>0.422541</td>\n",
       "      <td>0.536460</td>\n",
       "      <td>0.318229</td>\n",
       "      <td>1.000000</td>\n",
       "      <td>0.306077</td>\n",
       "      <td>0.231902</td>\n",
       "      <td>0.381512</td>\n",
       "      <td>0.495491</td>\n",
       "      <td>0.321554</td>\n",
       "      <td>0.176012</td>\n",
       "      <td>0.313258</td>\n",
       "    </tr>\n",
       "    <tr>\n",
       "      <th>Ketamine</th>\n",
       "      <td>0.255704</td>\n",
       "      <td>0.058398</td>\n",
       "      <td>0.375249</td>\n",
       "      <td>0.319491</td>\n",
       "      <td>0.284601</td>\n",
       "      <td>0.061769</td>\n",
       "      <td>0.026723</td>\n",
       "      <td>0.419474</td>\n",
       "      <td>0.280621</td>\n",
       "      <td>0.491837</td>\n",
       "      <td>0.306077</td>\n",
       "      <td>1.000000</td>\n",
       "      <td>0.384543</td>\n",
       "      <td>0.386360</td>\n",
       "      <td>0.243029</td>\n",
       "      <td>0.372412</td>\n",
       "      <td>0.208961</td>\n",
       "      <td>0.207029</td>\n",
       "    </tr>\n",
       "    <tr>\n",
       "      <th>Legalh</th>\n",
       "      <td>0.419041</td>\n",
       "      <td>0.047677</td>\n",
       "      <td>0.404067</td>\n",
       "      <td>0.190139</td>\n",
       "      <td>0.283142</td>\n",
       "      <td>0.084286</td>\n",
       "      <td>0.028226</td>\n",
       "      <td>0.369824</td>\n",
       "      <td>0.202860</td>\n",
       "      <td>0.519502</td>\n",
       "      <td>0.231902</td>\n",
       "      <td>0.384543</td>\n",
       "      <td>1.000000</td>\n",
       "      <td>0.414624</td>\n",
       "      <td>0.332041</td>\n",
       "      <td>0.479404</td>\n",
       "      <td>0.285745</td>\n",
       "      <td>0.294863</td>\n",
       "    </tr>\n",
       "    <tr>\n",
       "      <th>LSD</th>\n",
       "      <td>0.443584</td>\n",
       "      <td>0.058994</td>\n",
       "      <td>0.535882</td>\n",
       "      <td>0.266142</td>\n",
       "      <td>0.388256</td>\n",
       "      <td>0.086957</td>\n",
       "      <td>0.014755</td>\n",
       "      <td>0.517056</td>\n",
       "      <td>0.355576</td>\n",
       "      <td>0.553173</td>\n",
       "      <td>0.381512</td>\n",
       "      <td>0.386360</td>\n",
       "      <td>0.414624</td>\n",
       "      <td>1.000000</td>\n",
       "      <td>0.349515</td>\n",
       "      <td>0.647848</td>\n",
       "      <td>0.277596</td>\n",
       "      <td>0.300925</td>\n",
       "    </tr>\n",
       "    <tr>\n",
       "      <th>Meth</th>\n",
       "      <td>0.266510</td>\n",
       "      <td>0.018609</td>\n",
       "      <td>0.373343</td>\n",
       "      <td>0.090363</td>\n",
       "      <td>0.454405</td>\n",
       "      <td>0.036768</td>\n",
       "      <td>0.006953</td>\n",
       "      <td>0.355603</td>\n",
       "      <td>0.397751</td>\n",
       "      <td>0.335369</td>\n",
       "      <td>0.495491</td>\n",
       "      <td>0.243029</td>\n",
       "      <td>0.332041</td>\n",
       "      <td>0.349515</td>\n",
       "      <td>1.000000</td>\n",
       "      <td>0.324064</td>\n",
       "      <td>0.208606</td>\n",
       "      <td>0.310674</td>\n",
       "    </tr>\n",
       "    <tr>\n",
       "      <th>Mushrooms</th>\n",
       "      <td>0.476163</td>\n",
       "      <td>0.062782</td>\n",
       "      <td>0.507976</td>\n",
       "      <td>0.301294</td>\n",
       "      <td>0.366307</td>\n",
       "      <td>0.097416</td>\n",
       "      <td>0.010369</td>\n",
       "      <td>0.495465</td>\n",
       "      <td>0.325044</td>\n",
       "      <td>0.538276</td>\n",
       "      <td>0.321554</td>\n",
       "      <td>0.372412</td>\n",
       "      <td>0.479404</td>\n",
       "      <td>0.647848</td>\n",
       "      <td>0.324064</td>\n",
       "      <td>1.000000</td>\n",
       "      <td>0.310377</td>\n",
       "      <td>0.271053</td>\n",
       "    </tr>\n",
       "    <tr>\n",
       "      <th>Nicotine</th>\n",
       "      <td>0.517491</td>\n",
       "      <td>0.130199</td>\n",
       "      <td>0.340882</td>\n",
       "      <td>0.224999</td>\n",
       "      <td>0.249925</td>\n",
       "      <td>0.115639</td>\n",
       "      <td>0.016708</td>\n",
       "      <td>0.331358</td>\n",
       "      <td>0.189550</td>\n",
       "      <td>0.314622</td>\n",
       "      <td>0.176012</td>\n",
       "      <td>0.208961</td>\n",
       "      <td>0.285745</td>\n",
       "      <td>0.277596</td>\n",
       "      <td>0.208606</td>\n",
       "      <td>0.310377</td>\n",
       "      <td>1.000000</td>\n",
       "      <td>0.230319</td>\n",
       "    </tr>\n",
       "    <tr>\n",
       "      <th>VSA</th>\n",
       "      <td>0.253552</td>\n",
       "      <td>0.023944</td>\n",
       "      <td>0.331993</td>\n",
       "      <td>0.204404</td>\n",
       "      <td>0.311762</td>\n",
       "      <td>0.054668</td>\n",
       "      <td>-0.007418</td>\n",
       "      <td>0.318893</td>\n",
       "      <td>0.305624</td>\n",
       "      <td>0.301445</td>\n",
       "      <td>0.313258</td>\n",
       "      <td>0.207029</td>\n",
       "      <td>0.294863</td>\n",
       "      <td>0.300925</td>\n",
       "      <td>0.310674</td>\n",
       "      <td>0.271053</td>\n",
       "      <td>0.230319</td>\n",
       "      <td>1.000000</td>\n",
       "    </tr>\n",
       "  </tbody>\n",
       "</table>\n",
       "</div>"
      ],
      "text/plain": [
       "           Cannabis   Alcohol    Amphet      Amyl    Benzos      Caff  \\\n",
       "Cannabis   1.000000  0.154013  0.463053  0.306935  0.304623  0.130247   \n",
       "Alcohol    0.154013  1.000000  0.072153  0.080454  0.076666  0.051930   \n",
       "Amphet     0.463053  0.072153  1.000000  0.410257  0.455464  0.107491   \n",
       "Amyl       0.306935  0.080454  0.410257  1.000000  0.225814  0.051508   \n",
       "Benzos     0.304623  0.076666  0.455464  0.225814  1.000000  0.068419   \n",
       "Caff       0.130247  0.051930  0.107491  0.051508  0.068419  1.000000   \n",
       "Choc       0.059199  0.076327  0.028102  0.043274  0.007989  0.053218   \n",
       "Coke       0.437168  0.104226  0.628132  0.410818  0.443611  0.081854   \n",
       "Crack      0.210596  0.053042  0.346005  0.190223  0.357499  0.021783   \n",
       "Ecstasy    0.455868  0.081930  0.584920  0.366293  0.371107  0.101753   \n",
       "Heroin     0.217370  0.032803  0.362527  0.181242  0.398672  0.037651   \n",
       "Ketamine   0.255704  0.058398  0.375249  0.319491  0.284601  0.061769   \n",
       "Legalh     0.419041  0.047677  0.404067  0.190139  0.283142  0.084286   \n",
       "LSD        0.443584  0.058994  0.535882  0.266142  0.388256  0.086957   \n",
       "Meth       0.266510  0.018609  0.373343  0.090363  0.454405  0.036768   \n",
       "Mushrooms  0.476163  0.062782  0.507976  0.301294  0.366307  0.097416   \n",
       "Nicotine   0.517491  0.130199  0.340882  0.224999  0.249925  0.115639   \n",
       "VSA        0.253552  0.023944  0.331993  0.204404  0.311762  0.054668   \n",
       "\n",
       "               Choc      Coke     Crack   Ecstasy    Heroin  Ketamine  \\\n",
       "Cannabis   0.059199  0.437168  0.210596  0.455868  0.217370  0.255704   \n",
       "Alcohol    0.076327  0.104226  0.053042  0.081930  0.032803  0.058398   \n",
       "Amphet     0.028102  0.628132  0.346005  0.584920  0.362527  0.375249   \n",
       "Amyl       0.043274  0.410818  0.190223  0.366293  0.181242  0.319491   \n",
       "Benzos     0.007989  0.443611  0.357499  0.371107  0.398672  0.284601   \n",
       "Caff       0.053218  0.081854  0.021783  0.101753  0.037651  0.061769   \n",
       "Choc       1.000000  0.019347 -0.043873  0.046356 -0.014824  0.026723   \n",
       "Coke       0.019347  1.000000  0.418188  0.619460  0.422541  0.419474   \n",
       "Crack     -0.043873  0.418188  1.000000  0.301460  0.536460  0.280621   \n",
       "Ecstasy    0.046356  0.619460  0.301460  1.000000  0.318229  0.491837   \n",
       "Heroin    -0.014824  0.422541  0.536460  0.318229  1.000000  0.306077   \n",
       "Ketamine   0.026723  0.419474  0.280621  0.491837  0.306077  1.000000   \n",
       "Legalh     0.028226  0.369824  0.202860  0.519502  0.231902  0.384543   \n",
       "LSD        0.014755  0.517056  0.355576  0.553173  0.381512  0.386360   \n",
       "Meth       0.006953  0.355603  0.397751  0.335369  0.495491  0.243029   \n",
       "Mushrooms  0.010369  0.495465  0.325044  0.538276  0.321554  0.372412   \n",
       "Nicotine   0.016708  0.331358  0.189550  0.314622  0.176012  0.208961   \n",
       "VSA       -0.007418  0.318893  0.305624  0.301445  0.313258  0.207029   \n",
       "\n",
       "             Legalh       LSD      Meth  Mushrooms  Nicotine       VSA  \n",
       "Cannabis   0.419041  0.443584  0.266510   0.476163  0.517491  0.253552  \n",
       "Alcohol    0.047677  0.058994  0.018609   0.062782  0.130199  0.023944  \n",
       "Amphet     0.404067  0.535882  0.373343   0.507976  0.340882  0.331993  \n",
       "Amyl       0.190139  0.266142  0.090363   0.301294  0.224999  0.204404  \n",
       "Benzos     0.283142  0.388256  0.454405   0.366307  0.249925  0.311762  \n",
       "Caff       0.084286  0.086957  0.036768   0.097416  0.115639  0.054668  \n",
       "Choc       0.028226  0.014755  0.006953   0.010369  0.016708 -0.007418  \n",
       "Coke       0.369824  0.517056  0.355603   0.495465  0.331358  0.318893  \n",
       "Crack      0.202860  0.355576  0.397751   0.325044  0.189550  0.305624  \n",
       "Ecstasy    0.519502  0.553173  0.335369   0.538276  0.314622  0.301445  \n",
       "Heroin     0.231902  0.381512  0.495491   0.321554  0.176012  0.313258  \n",
       "Ketamine   0.384543  0.386360  0.243029   0.372412  0.208961  0.207029  \n",
       "Legalh     1.000000  0.414624  0.332041   0.479404  0.285745  0.294863  \n",
       "LSD        0.414624  1.000000  0.349515   0.647848  0.277596  0.300925  \n",
       "Meth       0.332041  0.349515  1.000000   0.324064  0.208606  0.310674  \n",
       "Mushrooms  0.479404  0.647848  0.324064   1.000000  0.310377  0.271053  \n",
       "Nicotine   0.285745  0.277596  0.208606   0.310377  1.000000  0.230319  \n",
       "VSA        0.294863  0.300925  0.310674   0.271053  0.230319  1.000000  "
      ]
     },
     "execution_count": 6,
     "metadata": {},
     "output_type": "execute_result"
    }
   ],
   "source": [
    "import seaborn as sns\n",
    "import matplotlib.pyplot as plt\n",
    "explore = drugs.copy()\n",
    "explore['Cannabis'] = np.where((explore['Cannabis'] == 'CL0'), 0, 1)\n",
    "explore = explore.astype({'Cannabis':int})\n",
    "explore = explore[target_label + drug_labels + schedules + personality_labels]\n",
    "sns.heatmap(explore.corr());\n",
    "plt.show()\n",
    "explore = explore[target_label + drug_labels + schedules]\n",
    "sns.heatmap(explore.corr());\n",
    "plt.show()\n",
    "print(explore[target_label + schedules].corr())\n",
    "explore[target_label + drug_labels].corr()"
   ]
  },
  {
   "cell_type": "markdown",
   "id": "ee6b14ae-eb9f-4688-8cdb-20ca5a518822",
   "metadata": {
    "jp-MarkdownHeadingCollapsed": true,
    "tags": []
   },
   "source": [
    "## Generate Datasets\n",
    "data(sch=False, encode='none', bin_out=True, val=False)\n",
    "- sch: False for individual drugs, True if using drug schedules\n",
    "- encode: 'onehot' for one-hot encoding categorical (previously 2), 'label' for label encoding categorical (previously 3), 'none' for no encoding\n",
    "- bin_out: True for binary outputs of weed users, False for all 7 categories of weed users\n",
    "- val: False does not include a validation set, True does"
   ]
  },
  {
   "cell_type": "code",
   "execution_count": 77,
   "id": "9228960a-4348-459e-a734-54a040b38df8",
   "metadata": {},
   "outputs": [],
   "source": [
    "y = drugs['Cannabis']\n",
    "X = drugs.drop(target_label, 1)\n",
    "\n",
    "def data(sch=False, encode='none', bin_out=True, val=False):\n",
    "    if(sch):\n",
    "        X_data = X.drop(drug_labels, 1)\n",
    "    else:\n",
    "        X_data = X.drop(schedules, 1)\n",
    "    \n",
    "    if(encode == 'onehot'):\n",
    "        X_data = pd.get_dummies(X_data, columns=(demographic_labels))\n",
    "    elif(encode == 'label'):\n",
    "        for i in demographic_labels:\n",
    "            X_data[i] = X_data[i].astype('category')\n",
    "            X_data[i] = X_data[i].cat.codes\n",
    "    else:\n",
    "        for i in demographic_labels:\n",
    "            X_data[i] = X_data[i].astype('category')\n",
    "    \n",
    "    if(val):\n",
    "        X_train, X_test, y_train, y_test = train_test_split(X_data, y, train_size=0.8)\n",
    "        X_train, X_val, y_train, y_val = train_test_split(X_train, y_train, test_size=0.5)\n",
    "    else:\n",
    "        X_train, X_test, y_train, y_test = train_test_split(X_data, y, test_size=0.2)\n",
    "        \n",
    "    if(bin_out):\n",
    "        y_train = np.where((y_train == 'CL0'), 0, 1)\n",
    "        y_test = np.where((y_test == 'CL0'), 0, 1)\n",
    "        if(val):\n",
    "            y_val = np.where((y_val == 'CL0'), 0, 1)\n",
    "            return X_train, X_val, X_test, y_train, y_val, y_test\n",
    "        else:\n",
    "            return X_train, X_test, y_train, y_test\n",
    "    else:\n",
    "        if(val):\n",
    "            return X_train, X_val, X_test, y_train, y_val, y_test\n",
    "        else:\n",
    "            return X_train, X_test, y_train, y_test"
   ]
  },
  {
   "cell_type": "markdown",
   "id": "e7c4b584-5d03-482a-b03a-44eaa7902a25",
   "metadata": {
    "tags": []
   },
   "source": [
    "## Random Forest\n",
    "\n",
    "- Base model of 1 Decision Tree: 0.81 accuracy, AUC 0.75\n",
    "- Random Forest: 0.89 accuracy, AUC 0.94"
   ]
  },
  {
   "cell_type": "code",
   "execution_count": 106,
   "id": "b3c4a8ab-fb1d-4e12-b7b4-3cc91995c3fc",
   "metadata": {},
   "outputs": [],
   "source": [
    "X_train, X_test, y_train, y_test = data(encode='onehot')"
   ]
  },
  {
   "cell_type": "markdown",
   "id": "49054f2e-720a-4055-a59b-77299a97085e",
   "metadata": {
    "jp-MarkdownHeadingCollapsed": true,
    "tags": []
   },
   "source": [
    "##### Single Decision Tree"
   ]
  },
  {
   "cell_type": "code",
   "execution_count": 85,
   "id": "72609729-bf80-480e-8a54-04f25c4fa76e",
   "metadata": {},
   "outputs": [
    {
     "name": "stdout",
     "output_type": "stream",
     "text": [
      "Model Accuracy: 1.0\n",
      "Accuracy: 0.8297872340425532\n"
     ]
    },
    {
     "data": {
      "text/plain": [
       "0.7506014434643142"
      ]
     },
     "execution_count": 85,
     "metadata": {},
     "output_type": "execute_result"
    }
   ],
   "source": [
    "tree = DecisionTreeClassifier(criterion='gini')\n",
    "tree.fit(X_train, y_train)\n",
    "print(f'Model Accuracy: {tree.score(X_train, y_train)}')\n",
    "print(\"Accuracy:\", tree.score(X_test, y_test))\n",
    "roc_auc_score(y_test, tree.predict_proba(X_test)[:, 1])"
   ]
  },
  {
   "cell_type": "code",
   "execution_count": 86,
   "id": "2d195f5d-a60d-47a5-9bc9-bcbdfb0ad493",
   "metadata": {},
   "outputs": [
    {
     "data": {
      "image/png": "[encoded data removed]",
      "text/plain": [
       "<Figure size 432x288 with 1 Axes>"
      ]
     },
     "metadata": {
      "needs_background": "light"
     },
     "output_type": "display_data"
    }
   ],
   "source": [
    "y_pred_proba = tree.predict_proba(X_test)[:, 1]\n",
    "fpr, tpr, _ = roc_curve(y_test,  y_pred_proba)\n",
    "auc = roc_auc_score(y_test, y_pred_proba)\n",
    "plt.plot(fpr,tpr,label=\"data 1, auc=\"+str(auc))\n",
    "plt.legend(loc=4)\n",
    "plt.show()"
   ]
  },
  {
   "cell_type": "markdown",
   "id": "d85841c1-2e71-438a-a0bc-5af8852885b2",
   "metadata": {},
   "source": [
    "##### Random Forest"
   ]
  },
  {
   "cell_type": "code",
   "execution_count": 107,
   "id": "c392b5c9-96d9-4615-9a84-f257a0c669e5",
   "metadata": {},
   "outputs": [
    {
     "name": "stdout",
     "output_type": "stream",
     "text": [
      "Accuracy: 0.8696808510638298\n",
      "[[ 59  30]\n",
      " [ 19 268]]\n",
      "AUC 0.9372235054613789\n"
     ]
    }
   ],
   "source": [
    "model = RandomForestClassifier(n_estimators=100, bootstrap = True, class_weight = 'balanced_subsample', max_features = 'sqrt')\n",
    "model.fit(X_train, y_train)\n",
    "rf_predictions = model.predict(X_test)\n",
    "rf_probs = model.predict_proba(X_test)[:, 1]\n",
    "print(\"Accuracy:\", model.score(X_test, y_test))\n",
    "print(confusion_matrix(y_test, rf_predictions))\n",
    "\n",
    "roc_value = roc_auc_score(y_test, rf_probs)\n",
    "print(\"AUC\", roc_value)"
   ]
  },
  {
   "cell_type": "code",
   "execution_count": 108,
   "id": "9a71191f-db92-4faa-9d53-ed6ad77d3672",
   "metadata": {},
   "outputs": [
    {
     "data": {
      "image/png": "[encoded data removed]",
      "text/plain": [
       "<Figure size 432x288 with 1 Axes>"
      ]
     },
     "metadata": {
      "needs_background": "light"
     },
     "output_type": "display_data"
    }
   ],
   "source": [
    "y_pred_proba = model.predict_proba(X_test)[:, 1]\n",
    "fpr, tpr, _ = roc_curve(y_test,  y_pred_proba)\n",
    "auc = roc_auc_score(y_test, y_pred_proba)\n",
    "plt.plot(fpr,tpr,label=\"data 1, auc=\"+str(auc))\n",
    "plt.legend(loc=4)\n",
    "plt.show()"
   ]
  },
  {
   "cell_type": "code",
   "execution_count": null,
   "id": "5a0cbc37-4ca4-4caf-b837-5416b553215f",
   "metadata": {},
   "outputs": [],
   "source": [
    "RANDOM_STATE = 123\n",
    "\n",
    "ensemble_clfs = [\n",
    "    (\n",
    "        \"RandomForestClassifier, max_features=None\",\n",
    "        RandomForestClassifier(\n",
    "            warm_start=True,\n",
    "            oob_score=True,\n",
    "            max_features=None,\n",
    "            random_state=RANDOM_STATE,\n",
    "        ),\n",
    "    ),\n",
    "    (\n",
    "        \"RandomForestClassifier, max_features='sqrt'\",\n",
    "        RandomForestClassifier(\n",
    "            warm_start=True,\n",
    "            max_features=\"sqrt\",\n",
    "            oob_score=True,\n",
    "            random_state=RANDOM_STATE,\n",
    "        ),\n",
    "    ),\n",
    "    (\n",
    "        \"RandomForestClassifier, max_features='log2'\",\n",
    "        RandomForestClassifier(\n",
    "            warm_start=True,\n",
    "            max_features=\"log2\",\n",
    "            oob_score=True,\n",
    "            random_state=RANDOM_STATE,\n",
    "        ),\n",
    "    ),\n",
    "]\n",
    "\n",
    "# Map a classifier name to a list of (<n_estimators>, <error rate>) pairs.\n",
    "error_rate = OrderedDict((label, []) for label, _ in ensemble_clfs)\n",
    "\n",
    "# Range of `n_estimators` values to explore.\n",
    "min_estimators = 15\n",
    "max_estimators = 500\n",
    "\n",
    "for label, clf in ensemble_clfs:\n",
    "    for i in range(min_estimators, max_estimators + 1, 5):\n",
    "        clf.set_params(n_estimators=i)\n",
    "        clf.fit(X_train, y_train)\n",
    "\n",
    "        # Record the OOB error for each `n_estimators=i` setting.\n",
    "        oob_error = 1 - clf.oob_score_\n",
    "        error_rate[label].append((i, oob_error))\n",
    "\n",
    "# Generate the \"OOB error rate\" vs. \"n_estimators\" plot.\n",
    "for label, clf_err in error_rate.items():\n",
    "    xs, ys = zip(*clf_err)\n",
    "    plt.plot(xs, ys, label=label)\n",
    "\n",
    "plt.xlim(min_estimators, max_estimators)\n",
    "plt.xlabel(\"n_estimators\")\n",
    "plt.ylabel(\"OOB error rate\")\n",
    "plt.legend(loc=\"upper right\")\n",
    "plt.show()"
   ]
  },
  {
   "cell_type": "markdown",
   "id": "291808c7-1ead-4e44-b30e-c242df31a308",
   "metadata": {
    "jp-MarkdownHeadingCollapsed": true,
    "tags": []
   },
   "source": [
    "##  XGBoost Model\n",
    "Accuracy = 0.87 - Redo Later"
   ]
  },
  {
   "cell_type": "markdown",
   "id": "051b8ba2-9aa7-45e2-8d67-1e04cbcecc1d",
   "metadata": {
    "jp-MarkdownHeadingCollapsed": true,
    "tags": []
   },
   "source": [
    "#### This model uses only the drug schedules to predict a binary output of weed user\n",
    "Accuracy = 0.86"
   ]
  },
  {
   "cell_type": "code",
   "execution_count": 100,
   "id": "44917a3b-9a2b-4123-9837-de59f141b8a1",
   "metadata": {},
   "outputs": [
    {
     "name": "stderr",
     "output_type": "stream",
     "text": [
      "C:\\Users\\saman\\anaconda3\\lib\\site-packages\\xgboost\\sklearn.py:1224: UserWarning: The use of label encoder in XGBClassifier is deprecated and will be removed in a future release. To remove this warning, do the following: 1) Pass option use_label_encoder=False when constructing XGBClassifier object; and 2) Encode your labels (y) as integers starting with 0, i.e. 0, 1, 2, ..., [num_class - 1].\n",
      "  warnings.warn(label_encoder_deprecation_msg, UserWarning)\n",
      "C:\\Users\\saman\\anaconda3\\lib\\site-packages\\xgboost\\data.py:250: FutureWarning: pandas.Int64Index is deprecated and will be removed from pandas in a future version. Use pandas.Index with the appropriate dtype instead.\n",
      "  elif isinstance(data.columns, (pd.Int64Index, pd.RangeIndex)):\n"
     ]
    },
    {
     "name": "stdout",
     "output_type": "stream",
     "text": [
      "[21:25:27] WARNING: ..\\src\\learner.cc:1115: Starting in XGBoost 1.3.0, the default evaluation metric used with the objective 'binary:logistic' was changed from 'error' to 'logloss'. Explicitly set eval_metric if you'd like to restore the old behavior.\n",
      "Accuracy: 86.17%\n"
     ]
    },
    {
     "data": {
      "text/plain": [
       "<AxesSubplot:title={'center':'Feature importance'}, xlabel='F score', ylabel='Features'>"
      ]
     },
     "execution_count": 100,
     "metadata": {},
     "output_type": "execute_result"
    },
    {
     "data": {
      "image/png": "[encoded data removed]",
      "text/plain": [
       "<Figure size 432x288 with 1 Axes>"
      ]
     },
     "metadata": {
      "needs_background": "light"
     },
     "output_type": "display_data"
    }
   ],
   "source": [
    "model = xgb.XGBClassifier()\n",
    "model.fit(X_train_sch[schedules], y_bin_train)\n",
    "y_pred = model.predict(X_test_sch[schedules])\n",
    "predictions = [round(value) for value in y_pred]\n",
    "accuracy = accuracy_score(y_bin_test, predictions)\n",
    "print(\"Accuracy: %.2f%%\" % (accuracy * 100.0))\n",
    "xgb.plot_importance(model)"
   ]
  },
  {
   "cell_type": "markdown",
   "id": "90c30158-f431-4b36-a63b-9e792a9becbf",
   "metadata": {
    "jp-MarkdownHeadingCollapsed": true,
    "tags": []
   },
   "source": [
    "#### This model uses the drug labels to predict the binary type of weed user\n",
    "Accuracy = 0.87"
   ]
  },
  {
   "cell_type": "code",
   "execution_count": 104,
   "id": "22ac7af9-493d-41c2-80a5-9bf027e42865",
   "metadata": {},
   "outputs": [
    {
     "name": "stderr",
     "output_type": "stream",
     "text": [
      "C:\\Users\\saman\\anaconda3\\lib\\site-packages\\xgboost\\sklearn.py:1224: UserWarning: The use of label encoder in XGBClassifier is deprecated and will be removed in a future release. To remove this warning, do the following: 1) Pass option use_label_encoder=False when constructing XGBClassifier object; and 2) Encode your labels (y) as integers starting with 0, i.e. 0, 1, 2, ..., [num_class - 1].\n",
      "  warnings.warn(label_encoder_deprecation_msg, UserWarning)\n",
      "C:\\Users\\saman\\anaconda3\\lib\\site-packages\\xgboost\\data.py:250: FutureWarning: pandas.Int64Index is deprecated and will be removed from pandas in a future version. Use pandas.Index with the appropriate dtype instead.\n",
      "  elif isinstance(data.columns, (pd.Int64Index, pd.RangeIndex)):\n"
     ]
    },
    {
     "name": "stdout",
     "output_type": "stream",
     "text": [
      "[21:27:47] WARNING: ..\\src\\learner.cc:1115: Starting in XGBoost 1.3.0, the default evaluation metric used with the objective 'binary:logistic' was changed from 'error' to 'logloss'. Explicitly set eval_metric if you'd like to restore the old behavior.\n",
      "Accuracy: 87.23%\n"
     ]
    },
    {
     "data": {
      "text/plain": [
       "<AxesSubplot:title={'center':'Feature importance'}, xlabel='F score', ylabel='Features'>"
      ]
     },
     "execution_count": 104,
     "metadata": {},
     "output_type": "execute_result"
    },
    {
     "data": {
      "image/png": "[encoded data removed]",
      "text/plain": [
       "<Figure size 432x288 with 1 Axes>"
      ]
     },
     "metadata": {
      "needs_background": "light"
     },
     "output_type": "display_data"
    }
   ],
   "source": [
    "model = xgb.XGBClassifier()\n",
    "model.fit(X_train[drug_labels], y_bin_train)\n",
    "y_pred = model.predict(X_test[drug_labels])\n",
    "predictions = [round(value) for value in y_pred]\n",
    "accuracy = accuracy_score(y_bin_test, predictions)\n",
    "print(\"Accuracy: %.2f%%\" % (accuracy * 100.0))\n",
    "xgb.plot_importance(model)"
   ]
  },
  {
   "cell_type": "markdown",
   "id": "4c867cea-9a9e-4a28-844b-036296fc1d4b",
   "metadata": {
    "jp-MarkdownHeadingCollapsed": true,
    "tags": []
   },
   "source": [
    "#### This model uses the drug labels to predict the 7 classifications of weed user\n",
    "Accuracy = 0.36"
   ]
  },
  {
   "cell_type": "code",
   "execution_count": 110,
   "id": "4b06cda7-ab73-44ed-8e3e-d770711e5969",
   "metadata": {},
   "outputs": [
    {
     "name": "stderr",
     "output_type": "stream",
     "text": [
      "C:\\Users\\saman\\anaconda3\\lib\\site-packages\\xgboost\\sklearn.py:1224: UserWarning: The use of label encoder in XGBClassifier is deprecated and will be removed in a future release. To remove this warning, do the following: 1) Pass option use_label_encoder=False when constructing XGBClassifier object; and 2) Encode your labels (y) as integers starting with 0, i.e. 0, 1, 2, ..., [num_class - 1].\n",
      "  warnings.warn(label_encoder_deprecation_msg, UserWarning)\n",
      "C:\\Users\\saman\\anaconda3\\lib\\site-packages\\xgboost\\data.py:250: FutureWarning: pandas.Int64Index is deprecated and will be removed from pandas in a future version. Use pandas.Index with the appropriate dtype instead.\n",
      "  elif isinstance(data.columns, (pd.Int64Index, pd.RangeIndex)):\n"
     ]
    },
    {
     "name": "stdout",
     "output_type": "stream",
     "text": [
      "[21:33:45] WARNING: ..\\src\\learner.cc:1115: Starting in XGBoost 1.3.0, the default evaluation metric used with the objective 'multi:softprob' was changed from 'merror' to 'mlogloss'. Explicitly set eval_metric if you'd like to restore the old behavior.\n",
      "Accuracy: 36.17%\n"
     ]
    },
    {
     "data": {
      "text/plain": [
       "<AxesSubplot:title={'center':'Feature importance'}, xlabel='F score', ylabel='Features'>"
      ]
     },
     "execution_count": 110,
     "metadata": {},
     "output_type": "execute_result"
    },
    {
     "data": {
      "image/png": "[encoded data removed]",
      "text/plain": [
       "<Figure size 432x288 with 1 Axes>"
      ]
     },
     "metadata": {
      "needs_background": "light"
     },
     "output_type": "display_data"
    }
   ],
   "source": [
    "model = xgb.XGBClassifier()\n",
    "model.fit(X_train[drug_labels], y_train)\n",
    "y_pred = model.predict(X_test[drug_labels])\n",
    "accuracy = np.sum(y_pred == y_test) / y_pred.shape[0]\n",
    "print(\"Accuracy: %.2f%%\" % (accuracy * 100.0))\n",
    "xgb.plot_importance(model)"
   ]
  },
  {
   "cell_type": "markdown",
   "id": "776a476b-3a2e-4c38-b13a-0d4602fefd7e",
   "metadata": {
    "jp-MarkdownHeadingCollapsed": true,
    "tags": []
   },
   "source": [
    "#### This model uses the one-hot encoded data (2) to predict 7 weed user classes\n",
    "Accuracy = 0.40"
   ]
  },
  {
   "cell_type": "markdown",
   "id": "cdef2fc5-9d7b-4f28-8f5c-8246f349ff55",
   "metadata": {
    "jp-MarkdownHeadingCollapsed": true,
    "tags": []
   },
   "source": [
    "#### This model uses the one-hot encoded data (2) to predict binary weed user\n",
    "Accuracy = 0.88"
   ]
  },
  {
   "cell_type": "code",
   "execution_count": 118,
   "id": "9259839e-d5a8-4b40-bc9d-5b8768c63044",
   "metadata": {},
   "outputs": [
    {
     "name": "stdout",
     "output_type": "stream",
     "text": [
      "[21:42:43] WARNING: ..\\src\\learner.cc:1115: Starting in XGBoost 1.3.0, the default evaluation metric used with the objective 'binary:logistic' was changed from 'error' to 'logloss'. Explicitly set eval_metric if you'd like to restore the old behavior.\n",
      "Accuracy: 87.77%\n"
     ]
    },
    {
     "data": {
      "text/plain": [
       "<AxesSubplot:title={'center':'Feature importance'}, xlabel='F score', ylabel='Features'>"
      ]
     },
     "execution_count": 118,
     "metadata": {},
     "output_type": "execute_result"
    },
    {
     "data": {
      "image/png": "[encoded data removed]",
      "text/plain": [
       "<Figure size 432x288 with 1 Axes>"
      ]
     },
     "metadata": {
      "needs_background": "light"
     },
     "output_type": "display_data"
    }
   ],
   "source": [
    "model = xgb.XGBClassifier()\n",
    "model.fit(X_train2, y_bin_train)\n",
    "y_pred = model.predict(X_test2)\n",
    "accuracy = np.sum(y_pred == y_bin_test) / y_pred.shape[0]\n",
    "print(\"Accuracy: %.2f%%\" % (accuracy * 100.0))\n",
    "xgb.plot_importance(model)"
   ]
  },
  {
   "cell_type": "markdown",
   "id": "a51ba570-cc1c-4606-824c-df71dbf35355",
   "metadata": {},
   "source": [
    "#### "
   ]
  },
  {
   "cell_type": "markdown",
   "id": "9f0bbc2a-b216-4654-8a6d-eaef4b2484f0",
   "metadata": {},
   "source": [
    "#### "
   ]
  },
  {
   "cell_type": "markdown",
   "id": "7300d67c-c8b6-4fe8-8c03-189d5ecf389f",
   "metadata": {
    "jp-MarkdownHeadingCollapsed": true,
    "tags": []
   },
   "source": [
    "## Naive Bayes Models\n",
    "Accuracy = 0.86"
   ]
  },
  {
   "cell_type": "markdown",
   "id": "e941e742-7ebf-4458-9250-84e6b9f7c661",
   "metadata": {
    "jp-MarkdownHeadingCollapsed": true,
    "tags": []
   },
   "source": [
    "#### This first model uses the entire dataset (one-hot encoded X2) to predict which of the 7 classes of weed user (y) each participant is\n",
    "Accuracy = 0.28"
   ]
  },
  {
   "cell_type": "code",
   "execution_count": 135,
   "id": "4f996883-554c-4d58-80d7-3671219b8c18",
   "metadata": {},
   "outputs": [
    {
     "name": "stdout",
     "output_type": "stream",
     "text": [
      "0.28191489361702127\n"
     ]
    },
    {
     "data": {
      "text/plain": [
       "array([[27,  6,  0,  1,  0,  2,  0],\n",
       "       [ 8,  5,  0,  2,  0,  2,  0],\n",
       "       [ 5,  6,  0,  2,  2, 14,  0],\n",
       "       [ 1,  2,  0,  4,  0, 15,  0],\n",
       "       [ 0,  2,  0,  0,  2, 11,  0],\n",
       "       [ 0,  1,  1,  2,  0, 15,  0],\n",
       "       [ 0,  1,  1,  2,  7, 39,  0]], dtype=int64)"
      ]
     },
     "execution_count": 135,
     "metadata": {},
     "output_type": "execute_result"
    }
   ],
   "source": [
    "gnb = GaussianNB().fit(X_train2, y_train2)\n",
    "gnb_predictions = gnb.predict(X_test2)\n",
    "accuracy = gnb.score(X_test2, y_test2)\n",
    "print(accuracy)\n",
    "cm = confusion_matrix(y_test2, gnb_predictions)\n",
    "cm"
   ]
  },
  {
   "cell_type": "markdown",
   "id": "21c25ded-5ab3-4cd8-b5da-dcc23c8cfb0a",
   "metadata": {},
   "source": [
    "It appears that a Naive Bayes Model on this many outputs, with one-hot encoded variables, is not very accurate of a predictor of the 7 weed user types."
   ]
  },
  {
   "cell_type": "markdown",
   "id": "9dc57053-7e8a-411e-9fe7-639922a46c7b",
   "metadata": {
    "jp-MarkdownHeadingCollapsed": true,
    "tags": []
   },
   "source": [
    "####  This second model uses the entire dataset (label encoded X3) to predict which of the 7 classes of weed user (y) each participant is\n",
    "Accuracy = 0.28"
   ]
  },
  {
   "cell_type": "code",
   "execution_count": 137,
   "id": "82bacbca-3bb2-46f1-b71f-5ce03ddc865e",
   "metadata": {},
   "outputs": [
    {
     "name": "stdout",
     "output_type": "stream",
     "text": [
      "0.2765957446808511\n"
     ]
    },
    {
     "data": {
      "text/plain": [
       "array([[36,  0,  0,  0,  0,  0,  0],\n",
       "       [ 9,  2,  1,  0,  5,  0,  0],\n",
       "       [ 6,  5,  1,  0, 17,  0,  0],\n",
       "       [ 1,  2,  0,  0, 19,  0,  0],\n",
       "       [ 2,  0,  0,  0, 13,  0,  0],\n",
       "       [ 0,  1,  0,  0, 18,  0,  0],\n",
       "       [ 0,  2,  1,  0, 47,  0,  0]], dtype=int64)"
      ]
     },
     "execution_count": 137,
     "metadata": {},
     "output_type": "execute_result"
    }
   ],
   "source": [
    "gnb = GaussianNB().fit(X_train3, y_train3)\n",
    "gnb_predictions = gnb.predict(X_test3)\n",
    "accuracy = gnb.score(X_test3, y_test3)\n",
    "print(accuracy)\n",
    "cm = confusion_matrix(y_test3, gnb_predictions)\n",
    "cm"
   ]
  },
  {
   "cell_type": "markdown",
   "id": "7838c7c7-f00e-4330-b0f3-850e3e0d5251",
   "metadata": {
    "jp-MarkdownHeadingCollapsed": true,
    "tags": []
   },
   "source": [
    "#### This third model looks at the label encoded dataset (X3) to predict which of two classes of weed user (y_bin) each participant is\n",
    "Accuracy = 0.85"
   ]
  },
  {
   "cell_type": "code",
   "execution_count": 108,
   "id": "2ba69769-5048-4065-b8b6-500ab82dd2d8",
   "metadata": {},
   "outputs": [
    {
     "name": "stdout",
     "output_type": "stream",
     "text": [
      "0.8457446808510638\n"
     ]
    },
    {
     "data": {
      "text/plain": [
       "array([[ 36,   0],\n",
       "       [ 29, 123]], dtype=int64)"
      ]
     },
     "execution_count": 108,
     "metadata": {},
     "output_type": "execute_result"
    }
   ],
   "source": [
    "gnb = GaussianNB().fit(X_train3, y_bin_train3)\n",
    "gnb_predictions = gnb.predict(X_test3)\n",
    "accuracy = gnb.score(X_test3, y_bin_test3)\n",
    "print(accuracy)\n",
    "cm = confusion_matrix(y_bin_test3, gnb_predictions)\n",
    "cm"
   ]
  },
  {
   "cell_type": "markdown",
   "id": "6ae398dd-48e2-4b12-a937-a2315e1128a6",
   "metadata": {
    "jp-MarkdownHeadingCollapsed": true,
    "tags": []
   },
   "source": [
    "#### This fourth model uses only the other drugs (X[drug_labels]) to predict which of two classes of weed user (y_bin) each participant is\n",
    "Accuracy = 0.86"
   ]
  },
  {
   "cell_type": "code",
   "execution_count": 148,
   "id": "bee1aad8-7ab2-40d0-be83-7975aa1cc4c3",
   "metadata": {},
   "outputs": [
    {
     "name": "stdout",
     "output_type": "stream",
     "text": [
      "0.8563829787234043\n"
     ]
    },
    {
     "data": {
      "text/plain": [
       "array([[ 36,   0],\n",
       "       [ 27, 125]], dtype=int64)"
      ]
     },
     "execution_count": 148,
     "metadata": {},
     "output_type": "execute_result"
    }
   ],
   "source": [
    "clf = CategoricalNB().fit(X_train[drug_labels], y_bin_train)\n",
    "clf_predictions = clf.predict(X_test[drug_labels])\n",
    "accuracy = clf.score(X_test[drug_labels], y_bin_test)\n",
    "print(accuracy)\n",
    "cm = confusion_matrix(y_bin_test, clf_predictions)\n",
    "cm"
   ]
  },
  {
   "cell_type": "markdown",
   "id": "af6b0345-eb6e-44d2-b7dd-ab8b6036f0e4",
   "metadata": {},
   "source": [
    "This shows that when using the Naive Bayes model, the demographic data is not contributing much to the model, and the drugs are a better predictor."
   ]
  },
  {
   "cell_type": "markdown",
   "id": "aa707c0f-e80f-4ae5-89b9-4e3468ceb929",
   "metadata": {
    "jp-MarkdownHeadingCollapsed": true,
    "tags": []
   },
   "source": [
    "#### This fifth model uses only the scheduling (X_sch) to predict which of two classes of weed user (y_bin) each participant is\n",
    "Accuracy = 0.86"
   ]
  },
  {
   "cell_type": "code",
   "execution_count": 173,
   "id": "af9a9d54-0f0d-4291-8415-92d5ee85f51f",
   "metadata": {},
   "outputs": [
    {
     "name": "stdout",
     "output_type": "stream",
     "text": [
      "0.8617021276595744\n"
     ]
    },
    {
     "data": {
      "text/plain": [
       "array([[ 36,   0],\n",
       "       [ 26, 126]], dtype=int64)"
      ]
     },
     "execution_count": 173,
     "metadata": {},
     "output_type": "execute_result"
    }
   ],
   "source": [
    "clf = CategoricalNB().fit(X_train_sch[schedules], y_bin_train)\n",
    "clf_predictions = clf.predict(X_test_sch[schedules])\n",
    "accuracy = clf.score(X_test_sch[schedules], y_bin_test)\n",
    "print(accuracy)\n",
    "cm = confusion_matrix(y_bin_test, clf_predictions)\n",
    "cm"
   ]
  },
  {
   "cell_type": "markdown",
   "id": "7bd02597-c54e-4abc-ba34-42c6b06ea4bd",
   "metadata": {
    "jp-MarkdownHeadingCollapsed": true,
    "tags": []
   },
   "source": [
    "#### Overall, it seems that the most accurate Naive Bayes model was using the schedule class of drugs  to predict the binary output of whether or not a person is a weed user (~0.86 accuracy). This will be used as a baseline for comparing the effectiveness of the other models."
   ]
  },
  {
   "cell_type": "code",
   "execution_count": 179,
   "id": "28ad9e70-ed33-47a6-9326-3a74052541ef",
   "metadata": {},
   "outputs": [
    {
     "name": "stdout",
     "output_type": "stream",
     "text": [
      "Feature ranking:\n",
      "1. Sch1 (0.075017)\n",
      "2. Sch2 (0.059161)\n",
      "3. Sch3 (0.013458)\n",
      "4. SchNA (0.000000)\n",
      "5. Sch4 (0.000000)\n"
     ]
    }
   ],
   "source": [
    "imps = permutation_importance(clf, X_train_sch[schedules], y_bin_train)\n",
    "importances = imps.importances_mean\n",
    "std = imps.importances_std\n",
    "indices = np.argsort(importances)[::-1]\n",
    "\n",
    "# Print the feature ranking\n",
    "print(\"Feature ranking:\")\n",
    "for f in range(X_train_sch[schedules].shape[1]):\n",
    "    print(\"%d. %s (%f)\" % (f + 1, schedules[indices[f]], importances[indices[f]]))"
   ]
  },
  {
   "cell_type": "markdown",
   "id": "2d822e22-a68a-4186-b3b1-4cf5f1c17571",
   "metadata": {},
   "source": [
    "Using permutation importance, we can determine from this model that using a Schedule 1 drug was the biggest predictor of being a weed user, followed by Schedule 2 and Schedule 3."
   ]
  },
  {
   "cell_type": "markdown",
   "id": "abc78b9f-fa7a-4a82-927a-40fecd36ef5b",
   "metadata": {
    "jp-MarkdownHeadingCollapsed": true,
    "tags": []
   },
   "source": [
    "## KNN\n",
    "Accuracy = 0.89"
   ]
  },
  {
   "cell_type": "code",
   "execution_count": 352,
   "id": "58f14d10-9897-486f-ab0c-ec5854fe048a",
   "metadata": {},
   "outputs": [
    {
     "data": {
      "text/plain": [
       "0.848404255319149"
      ]
     },
     "execution_count": 352,
     "metadata": {},
     "output_type": "execute_result"
    }
   ],
   "source": [
    "X_train, X_test, y_train, y_test = data(sch=True)\n",
    "neigh = KNeighborsClassifier(n_neighbors=5)\n",
    "neigh.fit(X_train[schedules], y_train)\n",
    "predictions = neigh.predict(X_test[schedules])\n",
    "neigh.score(X_test[schedules], y_test)"
   ]
  },
  {
   "cell_type": "code",
   "execution_count": 359,
   "id": "dda13496-105d-4a8b-b405-61d59ec6f2af",
   "metadata": {},
   "outputs": [
    {
     "data": {
      "text/plain": [
       "0.8670212765957447"
      ]
     },
     "execution_count": 359,
     "metadata": {},
     "output_type": "execute_result"
    }
   ],
   "source": [
    "X_train, X_test, y_train, y_test = data(encode='label')\n",
    "neigh = KNeighborsClassifier(n_neighbors=5)\n",
    "neigh.fit(X_train[drug_labels+demographic_labels], y_train)\n",
    "neigh.score(X_test[drug_labels+demographic_labels], y_test)"
   ]
  },
  {
   "cell_type": "code",
   "execution_count": 371,
   "id": "d5625d85-fc77-410d-b0d1-212c4b438e87",
   "metadata": {},
   "outputs": [
    {
     "data": {
      "text/plain": [
       "0.8856382978723404"
      ]
     },
     "execution_count": 371,
     "metadata": {},
     "output_type": "execute_result"
    }
   ],
   "source": [
    "X_train, X_test, y_train, y_test = data()\n",
    "neigh = KNeighborsClassifier(n_neighbors=4)\n",
    "neigh.fit(X_train[drug_labels], y_train)\n",
    "neigh.score(X_test[drug_labels], y_test)"
   ]
  }
 ],
 "metadata": {
  "kernelspec": {
   "display_name": "Python 3 (ipykernel)",
   "language": "python",
   "name": "python3"
  },
  "language_info": {
   "codemirror_mode": {
    "name": "ipython",
    "version": 3
   },
   "file_extension": ".py",
   "mimetype": "text/x-python",
   "name": "python",
   "nbconvert_exporter": "python",
   "pygments_lexer": "ipython3",
   "version": "3.8.3"
  }
 },
 "nbformat": 4,
 "nbformat_minor": 5
}
